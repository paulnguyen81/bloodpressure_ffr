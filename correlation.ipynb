{
 "cells": [
  {
   "cell_type": "markdown",
   "metadata": {},
   "source": [
    "# Correlation\n",
    "\n",
    "After feature extraction and removal of corrupt data points there are 1447 records and 128 features. Early model building showed weak performance. We will use correlation matrix to reduce the number of features."
   ]
  },
  {
   "cell_type": "code",
   "execution_count": 2,
   "metadata": {
    "collapsed": true
   },
   "outputs": [],
   "source": [
    "#libraries\n",
    "import pickle\n",
    "import numpy as np\n",
    "import pandas as pd\n",
    "import time\n",
    "import os\n",
    "from feature_utils import *\n",
    "import matplotlib.pyplot as plt\n",
    "%matplotlib inline\n",
    "\n",
    "#functions\n",
    "def picklereader(fpath):\n",
    "    with open(fpath,'rb') as f:\n",
    "        content = pd.read_pickle(f)\n",
    "    return content\n",
    "\n",
    "df = picklereader(os.getcwd()+'/data/df18S_rs_extract.p')\n",
    "\n",
    "#helpful scripts\n",
    "#Save extracted data to file\n",
    "#with open('data/df18S_rs_extract.p',\"wb\") as f:\n",
    "#    pickle.dump(df, f)\n",
    "\n",
    "#summarize panda data frame\n",
    "#exceed cell width limit in notebook\n",
    "#pd.options.display.max_columns = None\n",
    "# df.describe()"
   ]
  },
  {
   "cell_type": "code",
   "execution_count": 2,
   "metadata": {
    "collapsed": true
   },
   "outputs": [],
   "source": [
    "#removed corrupted records\n",
    "df = df[df.PID != 'F0871']\n",
    "df = df[df.PID != 'F1481']"
   ]
  },
  {
   "cell_type": "code",
   "execution_count": 3,
   "metadata": {},
   "outputs": [
    {
     "data": {
      "text/plain": [
       "(1447, 128)"
      ]
     },
     "execution_count": 3,
     "metadata": {},
     "output_type": "execute_result"
    }
   ],
   "source": [
    "df.shape"
   ]
  },
  {
   "cell_type": "code",
   "execution_count": 5,
   "metadata": {},
   "outputs": [
    {
     "data": {
      "text/plain": [
       "(array([   3.,    3.,    3.,    1.,    4.,    5.,   13.,   25.,   28.,\n",
       "          41.,   63.,  108.,   98.,  162.,  196.,  217.,  182.,  167.,\n",
       "         102.,   26.]),\n",
       " array([ 0.39  ,  0.4205,  0.451 ,  0.4815,  0.512 ,  0.5425,  0.573 ,\n",
       "         0.6035,  0.634 ,  0.6645,  0.695 ,  0.7255,  0.756 ,  0.7865,\n",
       "         0.817 ,  0.8475,  0.878 ,  0.9085,  0.939 ,  0.9695,  1.    ]),\n",
       " <a list of 20 Patch objects>)"
      ]
     },
     "execution_count": 5,
     "metadata": {},
     "output_type": "execute_result"
    },
    {
     "data": {
      "image/png": "[encoded data removed]",
      "text/plain": [
       "<matplotlib.figure.Figure at 0x113e62c88>"
      ]
     },
     "metadata": {},
     "output_type": "display_data"
    }
   ],
   "source": [
    "plt.hist(df['ffr'],bins=20)"
   ]
  },
  {
   "cell_type": "markdown",
   "metadata": {},
   "source": [
    "The distribution of fractional flow reserve is left skewed. A majority of the records are below 0.8 the positive class threshold. "
   ]
  },
  {
   "cell_type": "code",
   "execution_count": 6,
   "metadata": {},
   "outputs": [
    {
     "data": {
      "text/plain": [
       "{'boxes': [<matplotlib.lines.Line2D at 0x11570c240>],\n",
       " 'caps': [<matplotlib.lines.Line2D at 0x11570cd68>,\n",
       "  <matplotlib.lines.Line2D at 0x115719208>],\n",
       " 'fliers': [<matplotlib.lines.Line2D at 0x115719ac8>],\n",
       " 'means': [],\n",
       " 'medians': [<matplotlib.lines.Line2D at 0x115719668>],\n",
       " 'whiskers': [<matplotlib.lines.Line2D at 0x11570c470>,\n",
       "  <matplotlib.lines.Line2D at 0x11570c908>]}"
      ]
     },
     "execution_count": 6,
     "metadata": {},
     "output_type": "execute_result"
    },
    {
     "data": {
      "image/png": "[encoded data removed]",
      "text/plain": [
       "<matplotlib.figure.Figure at 0x11402d7b8>"
      ]
     },
     "metadata": {},
     "output_type": "display_data"
    }
   ],
   "source": [
    "plt.boxplot(df['ffr'])"
   ]
  },
  {
   "cell_type": "code",
   "execution_count": 8,
   "metadata": {
    "scrolled": true
   },
   "outputs": [
    {
     "data": {
      "text/plain": [
       "count    1447.000000\n",
       "mean        0.826469\n",
       "std         0.092298\n",
       "min         0.390000\n",
       "25%         0.770000\n",
       "50%         0.840000\n",
       "75%         0.890000\n",
       "max         1.000000\n",
       "Name: ffr, dtype: float64"
      ]
     },
     "execution_count": 8,
     "metadata": {},
     "output_type": "execute_result"
    }
   ],
   "source": [
    "df['ffr'].describe()"
   ]
  },
  {
   "cell_type": "markdown",
   "metadata": {},
   "source": [
    "The mean is 0.82 with a standard deviation of +/- 0.09. "
   ]
  },
  {
   "cell_type": "code",
   "execution_count": 12,
   "metadata": {
    "scrolled": true
   },
   "outputs": [
    {
     "data": {
      "text/plain": [
       "(array([   3.,    1.,    7.,    9.,   25.,   37.,   70.,   84.,  119.,\n",
       "          80.,  160.,  166.,  158.,  179.,  146.,   86.,   69.,   27.,\n",
       "          18.,    3.]),\n",
       " array([ 29. ,  31.9,  34.8,  37.7,  40.6,  43.5,  46.4,  49.3,  52.2,\n",
       "         55.1,  58. ,  60.9,  63.8,  66.7,  69.6,  72.5,  75.4,  78.3,\n",
       "         81.2,  84.1,  87. ]),\n",
       " <a list of 20 Patch objects>)"
      ]
     },
     "execution_count": 12,
     "metadata": {},
     "output_type": "execute_result"
    },
    {
     "data": {
      "image/png": "[encoded data removed]",
      "text/plain": [
       "<matplotlib.figure.Figure at 0x1303879b0>"
      ]
     },
     "metadata": {},
     "output_type": "display_data"
    }
   ],
   "source": [
    "plt.hist(df['age'],bins=20)"
   ]
  },
  {
   "cell_type": "code",
   "execution_count": 13,
   "metadata": {},
   "outputs": [
    {
     "name": "stderr",
     "output_type": "stream",
     "text": [
      "/Users/paulnguyen/anaconda3/lib/python3.6/site-packages/numpy/core/fromnumeric.py:57: FutureWarning: reshape is deprecated and will raise in a subsequent release. Please use .values.reshape(...) instead\n",
      "  return getattr(obj, method)(*args, **kwds)\n"
     ]
    },
    {
     "data": {
      "text/plain": [
       "<matplotlib.axes._subplots.AxesSubplot at 0x1165a0828>"
      ]
     },
     "execution_count": 13,
     "metadata": {},
     "output_type": "execute_result"
    },
    {
     "data": {
      "image/png": "[encoded data removed]",
      "text/plain": [
       "<matplotlib.figure.Figure at 0x1165a00b8>"
      ]
     },
     "metadata": {},
     "output_type": "display_data"
    }
   ],
   "source": [
    "import pandas as pd\n",
    "import matplotlib.pyplot as plt\n",
    "\n",
    "df.boxplot(column=['age'], by='ffr_80')"
   ]
  },
  {
   "cell_type": "markdown",
   "metadata": {},
   "source": [
    "The distribution of age is uniform with an equal amount of both positive and negative classes across all age groups."
   ]
  },
  {
   "cell_type": "code",
   "execution_count": 13,
   "metadata": {
    "scrolled": true
   },
   "outputs": [
    {
     "data": {
      "text/plain": [
       "(array([ 1035.,     0.,     0.,     0.,     0.,     0.,     0.,     0.,\n",
       "            0.,     0.,     0.,     0.,     0.,     0.,     0.,     0.,\n",
       "            0.,     0.,     0.,   412.]),\n",
       " array([ 1.  ,  1.05,  1.1 ,  1.15,  1.2 ,  1.25,  1.3 ,  1.35,  1.4 ,\n",
       "         1.45,  1.5 ,  1.55,  1.6 ,  1.65,  1.7 ,  1.75,  1.8 ,  1.85,\n",
       "         1.9 ,  1.95,  2.  ]),\n",
       " <a list of 20 Patch objects>)"
      ]
     },
     "execution_count": 13,
     "metadata": {},
     "output_type": "execute_result"
    },
    {
     "data": {
      "image/png": "[encoded data removed]",
      "text/plain": [
       "<matplotlib.figure.Figure at 0x120432438>"
      ]
     },
     "metadata": {},
     "output_type": "display_data"
    }
   ],
   "source": [
    "plt.hist(df['gender'],bins=20)"
   ]
  },
  {
   "cell_type": "code",
   "execution_count": 17,
   "metadata": {},
   "outputs": [
    {
     "name": "stderr",
     "output_type": "stream",
     "text": [
      "/Users/paulnguyen/anaconda3/lib/python3.6/site-packages/numpy/core/fromnumeric.py:57: FutureWarning: reshape is deprecated and will raise in a subsequent release. Please use .values.reshape(...) instead\n",
      "  return getattr(obj, method)(*args, **kwds)\n"
     ]
    },
    {
     "data": {
      "text/plain": [
       "<matplotlib.axes._subplots.AxesSubplot at 0x1150ed860>"
      ]
     },
     "execution_count": 17,
     "metadata": {},
     "output_type": "execute_result"
    },
    {
     "data": {
      "image/png": "[encoded data removed]",
      "text/plain": [
       "<matplotlib.figure.Figure at 0x114e83588>"
      ]
     },
     "metadata": {},
     "output_type": "display_data"
    }
   ],
   "source": [
    "df.boxplot(column=['MLA'], by='ffr_80')"
   ]
  },
  {
   "cell_type": "code",
   "execution_count": 24,
   "metadata": {},
   "outputs": [
    {
     "name": "stderr",
     "output_type": "stream",
     "text": [
      "/Users/paulnguyen/anaconda3/lib/python3.6/site-packages/numpy/core/fromnumeric.py:57: FutureWarning: reshape is deprecated and will raise in a subsequent release. Please use .values.reshape(...) instead\n",
      "  return getattr(obj, method)(*args, **kwds)\n"
     ]
    },
    {
     "data": {
      "text/plain": [
       "<matplotlib.axes._subplots.AxesSubplot at 0x11789eeb8>"
      ]
     },
     "execution_count": 24,
     "metadata": {},
     "output_type": "execute_result"
    },
    {
     "data": {
      "image/png": "[encoded data removed]",
      "text/plain": [
       "<matplotlib.figure.Figure at 0x1189d5630>"
      ]
     },
     "metadata": {},
     "output_type": "display_data"
    }
   ],
   "source": [
    "\n",
    "df.boxplot(column=['No_PB40'], by='ffr_80')"
   ]
  },
  {
   "cell_type": "code",
   "execution_count": 14,
   "metadata": {},
   "outputs": [
    {
     "data": {
      "text/plain": [
       "(array([ 944.,    0.,    0.,    0.,    0.,    0.,    0.,    0.,    0.,\n",
       "           0.,    0.,    0.,    0.,    0.,    0.,    0.,    0.,    0.,\n",
       "           0.,  503.]),\n",
       " array([ 0.  ,  0.05,  0.1 ,  0.15,  0.2 ,  0.25,  0.3 ,  0.35,  0.4 ,\n",
       "         0.45,  0.5 ,  0.55,  0.6 ,  0.65,  0.7 ,  0.75,  0.8 ,  0.85,\n",
       "         0.9 ,  0.95,  1.  ]),\n",
       " <a list of 20 Patch objects>)"
      ]
     },
     "execution_count": 14,
     "metadata": {},
     "output_type": "execute_result"
    },
    {
     "data": {
      "image/png": "[encoded data removed]",
      "text/plain": [
       "<matplotlib.figure.Figure at 0x11f2d5c88>"
      ]
     },
     "metadata": {},
     "output_type": "display_data"
    }
   ],
   "source": [
    "plt.hist(df['ffr_80'],bins=20)"
   ]
  },
  {
   "cell_type": "markdown",
   "metadata": {},
   "source": [
    "# Correlation Matrix"
   ]
  },
  {
   "cell_type": "code",
   "execution_count": 15,
   "metadata": {
    "collapsed": true
   },
   "outputs": [],
   "source": [
    "col = ['PID','n_frame','OS','distal','sx0','sz','ffr','ffr_80','lu','pl','luA','plA','pb','luAc','plAc','len_PB40','len_PB70']\n",
    "dfdrop = df.drop(col, axis=1)"
   ]
  },
  {
   "cell_type": "code",
   "execution_count": 16,
   "metadata": {
    "collapsed": true
   },
   "outputs": [],
   "source": [
    "dfcorr = dfdrop.corr()\n",
    "dfcorr1 = dfcorr.mask(~np.tril(np.ones(dfcorr.shape)).astype(np.bool))\n",
    "dfcorr2 = dfcorr1.unstack()\n",
    "dfcorr3 = dfcorr2[dfcorr2[:] != 1].sort_values(ascending=False)\n",
    "dfcorr4 = dfcorr3[~np.isnan(dfcorr3)]"
   ]
  },
  {
   "cell_type": "code",
   "execution_count": null,
   "metadata": {
    "scrolled": true
   },
   "outputs": [],
   "source": [
    "import seaborn as sns\n",
    "import matplotlib.pyplot as plt\n",
    "%matplotlib inline\n",
    "plt.figure(figsize=(15,12))\n",
    "plt.rcParams.update({'font.size': 6})\n",
    "sns.heatmap(dfcorr1, \n",
    "        xticklabels=dfcorr.columns,\n",
    "        yticklabels=dfcorr.columns)\n",
    "plt.savefig('dfcorr.pdf')\n",
    "#plt.show()"
   ]
  },
  {
   "cell_type": "markdown",
   "metadata": {},
   "source": [
    "There are white lines in the matrix suggesting high correlation. The features are No_lumen25_prox and No_lumen25_prox5. Looking at these features more closely they are all zero values. In this particular feature there are no proximal region with a lumen area less than 2.5mm2."
   ]
  },
  {
   "cell_type": "code",
   "execution_count": 19,
   "metadata": {
    "collapsed": true
   },
   "outputs": [],
   "source": [
    "dfdrop = dfdrop.drop('No_lumen25_prox', axis=1)\n",
    "dfdrop = dfdrop.drop('No_lumen25_prox5', axis=1)"
   ]
  },
  {
   "cell_type": "code",
   "execution_count": null,
   "metadata": {},
   "outputs": [],
   "source": [
    "dfcorr = dfdrop.corr()\n",
    "dfcorr1 = dfcorr.mask(~np.tril(np.ones(dfcorr.shape)).astype(np.bool))\n",
    "plt.figure(figsize=(15,12))\n",
    "plt.rcParams.update({'font.size': 6})\n",
    "sns.heatmap(dfcorr1, \n",
    "        xticklabels=dfcorr.columns,\n",
    "        yticklabels=dfcorr.columns)\n",
    "plt.savefig('dfcorr.pdf')\n",
    "#plt.show()"
   ]
  },
  {
   "cell_type": "code",
   "execution_count": 21,
   "metadata": {
    "scrolled": false
   },
   "outputs": [
    {
     "data": {
      "text/plain": [
       "(1447, 65)"
      ]
     },
     "execution_count": 21,
     "metadata": {},
     "output_type": "execute_result"
    }
   ],
   "source": [
    "corr_matrix = dfdrop.corr().abs()\n",
    "upper = corr_matrix.mask(np.tril(np.ones(corr_matrix.shape)).astype(np.bool))\n",
    "to_drop = [column for column in upper.columns if any(upper[column] > 0.95)]\n",
    "df_reduce = dfdrop.drop(to_drop, axis=1)\n",
    "df_reduce.shape"
   ]
  },
  {
   "cell_type": "markdown",
   "metadata": {},
   "source": [
    "Our reduced data is down from 128 features to 65 after removing non-features and correlations > 0.95."
   ]
  },
  {
   "cell_type": "code",
   "execution_count": 23,
   "metadata": {
    "collapsed": true
   },
   "outputs": [],
   "source": [
    "#Save reduced data to file\n",
    "#with open('data/df18S_rs_reduce.p',\"wb\") as f:\n",
    "#    pickle.dump(df_reduce, f)"
   ]
  },
  {
   "cell_type": "code",
   "execution_count": null,
   "metadata": {},
   "outputs": [],
   "source": [
    "dfcorr = df_reduce.corr()\n",
    "dfcorr1 = dfcorr.mask(~np.tril(np.ones(dfcorr.shape)).astype(np.bool))\n",
    "plt.figure(figsize=(15,12))\n",
    "plt.rcParams.update({'font.size': 6})\n",
    "sns.heatmap(dfcorr1, \n",
    "        xticklabels=dfcorr.columns,\n",
    "        yticklabels=dfcorr.columns)\n",
    "plt.savefig('dfcorr_reduce.pdf')\n",
    "#plt.show()"
   ]
  },
  {
   "cell_type": "markdown",
   "metadata": {},
   "source": [
    "# Conclusion\n",
    "\n",
    "I considered using PCA to reduce the number of features but the models did not perform any better. It is possible that initial smoothing of lumen area and plaque area generalized the data enough where the PCA only furthered generalized the data. In this analysis I ended up using correlation matrix with a threshold of 0.9 to reduce the features from 128 to 65."
   ]
  }
 ],
 "metadata": {
  "kernelspec": {
   "display_name": "Python 3",
   "language": "python",
   "name": "python3"
  },
  "language_info": {
   "codemirror_mode": {
    "name": "ipython",
    "version": 3
   },
   "file_extension": ".py",
   "mimetype": "text/x-python",
   "name": "python",
   "nbconvert_exporter": "python",
   "pygments_lexer": "ipython3",
   "version": "3.6.4"
  }
 },
 "nbformat": 4,
 "nbformat_minor": 2
}
