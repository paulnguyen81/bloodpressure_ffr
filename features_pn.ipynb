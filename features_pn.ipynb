{
 "cells": [
  {
   "cell_type": "code",
   "execution_count": 2,
   "metadata": {
    "collapsed": true
   },
   "outputs": [],
   "source": [
    "import SimpleITK as sitk\n",
    "import glob\n",
    "import os\n",
    "import numpy as np\n",
    "import pandas as pd\n",
    "import pickle\n",
    "import matplotlib.pyplot as plt\n",
    "%matplotlib inline"
   ]
  },
  {
   "cell_type": "code",
   "execution_count": 4,
   "metadata": {},
   "outputs": [],
   "source": [
    "with open(os.getcwd()+'/data/df50.p','rb') as f:\n",
    "    df50 = pd.read_pickle(f)"
   ]
  },
  {
   "cell_type": "code",
   "execution_count": 5,
   "metadata": {},
   "outputs": [
    {
     "data": {
      "text/html": [
       "<div>\n",
       "<style>\n",
       "    .dataframe thead tr:only-child th {\n",
       "        text-align: right;\n",
       "    }\n",
       "\n",
       "    .dataframe thead th {\n",
       "        text-align: left;\n",
       "    }\n",
       "\n",
       "    .dataframe tbody tr th {\n",
       "        vertical-align: top;\n",
       "    }\n",
       "</style>\n",
       "<table border=\"1\" class=\"dataframe\">\n",
       "  <thead>\n",
       "    <tr style=\"text-align: right;\">\n",
       "      <th></th>\n",
       "      <th>PID</th>\n",
       "      <th>gender</th>\n",
       "      <th>age</th>\n",
       "      <th>vessel</th>\n",
       "      <th>seg</th>\n",
       "      <th>ffr</th>\n",
       "      <th>ffr_80</th>\n",
       "      <th>n_frame</th>\n",
       "      <th>OS</th>\n",
       "      <th>distal</th>\n",
       "      <th>lu</th>\n",
       "      <th>pl</th>\n",
       "      <th>luA</th>\n",
       "      <th>plA</th>\n",
       "      <th>luAt</th>\n",
       "      <th>plAt</th>\n",
       "    </tr>\n",
       "  </thead>\n",
       "  <tbody>\n",
       "    <tr>\n",
       "      <th>0</th>\n",
       "      <td>F0002</td>\n",
       "      <td>1</td>\n",
       "      <td>59</td>\n",
       "      <td>1</td>\n",
       "      <td>1</td>\n",
       "      <td>0.83</td>\n",
       "      <td>0</td>\n",
       "      <td>2381</td>\n",
       "      <td>2152</td>\n",
       "      <td>91</td>\n",
       "      <td>[4517, 4831, 4237, 4625, 4818, 5136, 4808, 479...</td>\n",
       "      <td>[2329, 2337, 3093, 3639, 4299, 4032, 2820, 309...</td>\n",
       "      <td>[5.65995771008, 6.05341060381, 5.30910799593, ...</td>\n",
       "      <td>[2.91831780092, 2.92834207847, 3.87563630668, ...</td>\n",
       "      <td>[7.87908215209, 7.30519226251, 9.25616728013, ...</td>\n",
       "      <td>[2.80303860913, 4.09491737802, 5.35421724489, ...</td>\n",
       "    </tr>\n",
       "    <tr>\n",
       "      <th>1</th>\n",
       "      <td>F0003</td>\n",
       "      <td>2</td>\n",
       "      <td>73</td>\n",
       "      <td>1</td>\n",
       "      <td>2</td>\n",
       "      <td>0.91</td>\n",
       "      <td>0</td>\n",
       "      <td>3642</td>\n",
       "      <td>3097</td>\n",
       "      <td>551</td>\n",
       "      <td>[3705, 3767, 4139, 4650, 4692, 4526, 4548, 423...</td>\n",
       "      <td>[3038, 2923, 2509, 1992, 2036, 2141, 2291, 254...</td>\n",
       "      <td>[5.21015625, 5.29734375, 5.82046875, 6.5390625...</td>\n",
       "      <td>[4.2721875, 4.11046875, 3.52828125, 2.80125, 2...</td>\n",
       "      <td>[5.7515625, 6.03984375, 6.18328125, 4.9078125,...</td>\n",
       "      <td>[3.915, 3.6590625, 3.4509375, 4.71234375, 3.93...</td>\n",
       "    </tr>\n",
       "    <tr>\n",
       "      <th>2</th>\n",
       "      <td>F0004</td>\n",
       "      <td>1</td>\n",
       "      <td>61</td>\n",
       "      <td>1</td>\n",
       "      <td>2</td>\n",
       "      <td>0.72</td>\n",
       "      <td>1</td>\n",
       "      <td>4060</td>\n",
       "      <td>3463</td>\n",
       "      <td>261</td>\n",
       "      <td>[769, 800, 754, 832, 831, 879, 857, 843, 835, ...</td>\n",
       "      <td>[7839, 7463, 6465, 6451, 7254, 7010, 7309, 676...</td>\n",
       "      <td>[1.08140625, 1.125, 1.0603125, 1.17, 1.1685937...</td>\n",
       "      <td>[11.02359375, 10.49484375, 9.09140625, 9.07171...</td>\n",
       "      <td>[4.4465625, 4.1484375, 4.07671875, 4.460625, 4...</td>\n",
       "      <td>[3.56625, 3.99515625, 4.381875, 3.6703125, 4.2...</td>\n",
       "    </tr>\n",
       "    <tr>\n",
       "      <th>3</th>\n",
       "      <td>F0005</td>\n",
       "      <td>1</td>\n",
       "      <td>61</td>\n",
       "      <td>3</td>\n",
       "      <td>2</td>\n",
       "      <td>0.83</td>\n",
       "      <td>0</td>\n",
       "      <td>3970</td>\n",
       "      <td>3883</td>\n",
       "      <td>285</td>\n",
       "      <td>[2829, 2329, 2576, 2391, 2936, 2931, 3041, 307...</td>\n",
       "      <td>[3025, 4145, 3621, 3865, 3048, 3062, 2879, 345...</td>\n",
       "      <td>[3.97828125, 3.27515625, 3.6225, 3.36234375, 4...</td>\n",
       "      <td>[4.25390625, 5.82890625, 5.09203125, 5.4351562...</td>\n",
       "      <td>[6.80484375, 6.53203125, 6.654375, 6.52640625,...</td>\n",
       "      <td>[4.47609375, 4.52671875, 4.40578125, 4.4564062...</td>\n",
       "    </tr>\n",
       "    <tr>\n",
       "      <th>4</th>\n",
       "      <td>F0007</td>\n",
       "      <td>1</td>\n",
       "      <td>60</td>\n",
       "      <td>1</td>\n",
       "      <td>2</td>\n",
       "      <td>0.85</td>\n",
       "      <td>0</td>\n",
       "      <td>2813</td>\n",
       "      <td>2610</td>\n",
       "      <td>465</td>\n",
       "      <td>[4183, 4130, 4314, 4506, 4544, 4566, 4589, 446...</td>\n",
       "      <td>[1852, 1927, 2007, 1891, 1963, 1900, 1917, 209...</td>\n",
       "      <td>[5.88234375, 5.8078125, 6.0665625, 6.3365625, ...</td>\n",
       "      <td>[2.604375, 2.70984375, 2.82234375, 2.65921875,...</td>\n",
       "      <td>[6.77671875, 6.93703125, 7.29984375, 7.3575, 7...</td>\n",
       "      <td>[3.34265625, 3.44390625, 2.88140625, 3.11625, ...</td>\n",
       "    </tr>\n",
       "  </tbody>\n",
       "</table>\n",
       "</div>"
      ],
      "text/plain": [
       "     PID  gender  age  vessel  seg   ffr  ffr_80  n_frame    OS  distal  \\\n",
       "0  F0002       1   59       1    1  0.83       0     2381  2152      91   \n",
       "1  F0003       2   73       1    2  0.91       0     3642  3097     551   \n",
       "2  F0004       1   61       1    2  0.72       1     4060  3463     261   \n",
       "3  F0005       1   61       3    2  0.83       0     3970  3883     285   \n",
       "4  F0007       1   60       1    2  0.85       0     2813  2610     465   \n",
       "\n",
       "                                                  lu  \\\n",
       "0  [4517, 4831, 4237, 4625, 4818, 5136, 4808, 479...   \n",
       "1  [3705, 3767, 4139, 4650, 4692, 4526, 4548, 423...   \n",
       "2  [769, 800, 754, 832, 831, 879, 857, 843, 835, ...   \n",
       "3  [2829, 2329, 2576, 2391, 2936, 2931, 3041, 307...   \n",
       "4  [4183, 4130, 4314, 4506, 4544, 4566, 4589, 446...   \n",
       "\n",
       "                                                  pl  \\\n",
       "0  [2329, 2337, 3093, 3639, 4299, 4032, 2820, 309...   \n",
       "1  [3038, 2923, 2509, 1992, 2036, 2141, 2291, 254...   \n",
       "2  [7839, 7463, 6465, 6451, 7254, 7010, 7309, 676...   \n",
       "3  [3025, 4145, 3621, 3865, 3048, 3062, 2879, 345...   \n",
       "4  [1852, 1927, 2007, 1891, 1963, 1900, 1917, 209...   \n",
       "\n",
       "                                                 luA  \\\n",
       "0  [5.65995771008, 6.05341060381, 5.30910799593, ...   \n",
       "1  [5.21015625, 5.29734375, 5.82046875, 6.5390625...   \n",
       "2  [1.08140625, 1.125, 1.0603125, 1.17, 1.1685937...   \n",
       "3  [3.97828125, 3.27515625, 3.6225, 3.36234375, 4...   \n",
       "4  [5.88234375, 5.8078125, 6.0665625, 6.3365625, ...   \n",
       "\n",
       "                                                 plA  \\\n",
       "0  [2.91831780092, 2.92834207847, 3.87563630668, ...   \n",
       "1  [4.2721875, 4.11046875, 3.52828125, 2.80125, 2...   \n",
       "2  [11.02359375, 10.49484375, 9.09140625, 9.07171...   \n",
       "3  [4.25390625, 5.82890625, 5.09203125, 5.4351562...   \n",
       "4  [2.604375, 2.70984375, 2.82234375, 2.65921875,...   \n",
       "\n",
       "                                                luAt  \\\n",
       "0  [7.87908215209, 7.30519226251, 9.25616728013, ...   \n",
       "1  [5.7515625, 6.03984375, 6.18328125, 4.9078125,...   \n",
       "2  [4.4465625, 4.1484375, 4.07671875, 4.460625, 4...   \n",
       "3  [6.80484375, 6.53203125, 6.654375, 6.52640625,...   \n",
       "4  [6.77671875, 6.93703125, 7.29984375, 7.3575, 7...   \n",
       "\n",
       "                                                plAt  \n",
       "0  [2.80303860913, 4.09491737802, 5.35421724489, ...  \n",
       "1  [3.915, 3.6590625, 3.4509375, 4.71234375, 3.93...  \n",
       "2  [3.56625, 3.99515625, 4.381875, 3.6703125, 4.2...  \n",
       "3  [4.47609375, 4.52671875, 4.40578125, 4.4564062...  \n",
       "4  [3.34265625, 3.44390625, 2.88140625, 3.11625, ...  "
      ]
     },
     "execution_count": 5,
     "metadata": {},
     "output_type": "execute_result"
    }
   ],
   "source": [
    "df50.head()"
   ]
  },
  {
   "cell_type": "code",
   "execution_count": 6,
   "metadata": {
    "collapsed": true
   },
   "outputs": [],
   "source": [
    "def windowed_mean(y,w):\n",
    "    \"\"\"\n",
    "    window size = w\n",
    "    step size = w/2\n",
    "    \"\"\"\n",
    "    ymm=[]\n",
    "    for j in range(len(y))[0:len(y):int(w/2)]:\n",
    "        if len(y[j:j+w])==w:\n",
    "            ymm.append(y[j:j+w].mean())\n",
    "    return ymm\n",
    "    \n",
    "df50['luA_wm10'] = df50['luA'].apply(lambda x: windowed_mean(x,10)) # windowed mean lumen area with window=10\n",
    "df50['luAt_wm10'] = df50['luAt'].apply(lambda x: windowed_mean(x,10)) # windowed mean lumen area in ROI with window=10\n",
    "df50['mlat'] = df50['luAt'].apply(lambda x: min(x)) # minimum lumen area in ROI\n",
    "df50['mlat_wm10'] = df50['luAt_wm10'].apply(lambda x: min(x)) #MLA (minimum lumen area) from windowed mean in ROI\n",
    "z = df50['luA'].apply(lambda x: np.arange(len(x))) # a dummy variable for frame for plot\n",
    "z_wm10 = df50['luA'].apply(lambda x: windowed_mean(np.arange(len(x)),10)) # a dummy variable for the windowed frame for plot\n",
    "z_mlat = df50['distal']+df50['luAt'].apply(lambda x: np.argmin(x)) # z for MLA from ROI\n",
    "z_mlat_wm10 = df50['distal']+df50['luAt_wm10'].apply(lambda x: 5+5*np.argmin(x)) # z for MLA from ROI when we take windowed mean for lumen area"
   ]
  },
  {
   "cell_type": "code",
   "execution_count": 7,
   "metadata": {},
   "outputs": [
    {
     "data": {
      "text/plain": [
       "(3642, 727, 3642)"
      ]
     },
     "execution_count": 7,
     "metadata": {},
     "output_type": "execute_result"
    }
   ],
   "source": [
    "len(z[1]), len(z_wm10[1]),len(df50['lu'][1])"
   ]
  },
  {
   "cell_type": "code",
   "execution_count": 196,
   "metadata": {},
   "outputs": [],
   "source": [
    "#### FEATURES 1-2\n",
    "def plaqueburden(lu,pl):\n",
    "    \"\"\"\n",
    "    lu, pl: lists\n",
    "    returns plaque burden\n",
    "    \"\"\"\n",
    "    x = np.array(lu)\n",
    "    y = np.array(pl)\n",
    "    return y/(x + y)\n",
    "    \n",
    "def lesion(pb,th,gap):\n",
    "    \"\"\"\n",
    "    pb: plaqueburden list\n",
    "    th: threshold (.4, .7)\n",
    "    gap: number of frames to ignore with pb below threshold in lesion\n",
    "    returns nested list with each lesions start, end, and length\n",
    "    \"\"\"\n",
    "    \n",
    "    index = np.where(pb > th)[0]\n",
    "    \n",
    "    runs = []\n",
    "    start = index[0]\n",
    "    count = 0 \n",
    "    end = []\n",
    "    for i in index:\n",
    "        if i == (start + count): \n",
    "            end = i\n",
    "        elif i - end - 1 < gap:\n",
    "            end = i\n",
    "        else:\n",
    "            runs.append([start,end,end-start+1])\n",
    "            start = i\n",
    "            end = i\n",
    "            count = 0\n",
    "        \n",
    "        #print(i, count, start, end)\n",
    "        count +=1\n",
    "    runs.append([start,end,end-start+1])\n",
    "    \n",
    "    return runs"
   ]
  },
  {
   "cell_type": "code",
   "execution_count": 176,
   "metadata": {},
   "outputs": [
    {
     "name": "stdout",
     "output_type": "stream",
     "text": [
      "0 0 0 0\n",
      "1 1 0 1\n",
      "5 2 0 5\n",
      "6 3 0 6\n",
      "8 4 0 8\n"
     ]
    },
    {
     "data": {
      "text/plain": [
       "[[0, 8, 9]]"
      ]
     },
     "execution_count": 176,
     "metadata": {},
     "output_type": "execute_result"
    }
   ],
   "source": [
    "test = np.array([0.5, 0.5, 0.2, 0.2, 0.2, 0.5, 0.5, 0.2, 0.5])\n",
    "lesion(test,0.4,10)"
   ]
  },
  {
   "cell_type": "code",
   "execution_count": 223,
   "metadata": {},
   "outputs": [
    {
     "data": {
      "text/plain": [
       "array([[   2,  467,  466],\n",
       "       [ 828, 2380, 1553]])"
      ]
     },
     "execution_count": 223,
     "metadata": {},
     "output_type": "execute_result"
    }
   ],
   "source": [
    "### validate df50 record F0002\n",
    "PB = plaqueburden(df50.loc[0].luA,df50.loc[0].plA)\n",
    "lesionlst = np.array(lesion(PB,0.4,300))\n",
    "lesionlst"
   ]
  },
  {
   "cell_type": "code",
   "execution_count": 259,
   "metadata": {},
   "outputs": [],
   "source": [
    "#### FEATURES 3-5\n",
    "def mla(luA,distal,os):\n",
    "    \"\"\"\n",
    "    luA: list of lumen area mm2\n",
    "    distal: roi distal\n",
    "    os: roi ostium \n",
    "    returns minimum luA value\n",
    "    \"\"\"\n",
    "    roi = luA[distal:os] \n",
    "    return min(roi)\n",
    "\n",
    "def fromos_pb(pb,th,gap,os): \n",
    "    \"\"\"\n",
    "    pb: plaqueburden list\n",
    "    th: threshold (0.4, 0.7)\n",
    "    gap: number of frames to ignore with pb below threshold in lesion\n",
    "    os: roi ostium\n",
    "    returns distance from OS to farthest right lesion proximal site\n",
    "    \"\"\"\n",
    "    lesionlist = lesion(pb,th,gap)\n",
    "    lesionproximal = lesionlst[:,1][-1] #ignores multiple lesions in roi and only uses farthest right lesion\n",
    "    print(lesionproximal,os)\n",
    "    return (os - lesionproximal) #if negative the lesion is on outside of roi ostium\n",
    "\n",
    "def fromos_mla(luA,distal,os): \n",
    "    \n",
    "    indexmla = np.where(luA == mla(luA,distal,os)) #without smoothing this could return multiple mla indexes when mla = 0\n",
    "    print(indexmla,os)\n",
    "    return (os - indexmla)[0]"
   ]
  },
  {
   "cell_type": "code",
   "execution_count": 258,
   "metadata": {
    "scrolled": true
   },
   "outputs": [
    {
     "name": "stdout",
     "output_type": "stream",
     "text": [
      "[1641] 2152\n"
     ]
    },
    {
     "data": {
      "text/plain": [
       "511"
      ]
     },
     "execution_count": 258,
     "metadata": {},
     "output_type": "execute_result"
    }
   ],
   "source": [
    "fromos_mla(test,df50.loc[0].distal,df50.loc[0].OS)"
   ]
  },
  {
   "cell_type": "code",
   "execution_count": 301,
   "metadata": {
    "collapsed": true
   },
   "outputs": [],
   "source": [
    "#### FEATURES 6-11\n",
    "def mla(luA,distal,os):\n",
    "    \"\"\"\n",
    "    luA: list of lumen area mm2\n",
    "    distal: roi distal\n",
    "    os: roi ostium \n",
    "    returns minimum mla value in roi\n",
    "    \"\"\"\n",
    "    roi = luA[distal:os] \n",
    "    return min(roi)\n",
    "\n",
    "def eem_mla(luA,plA,distal,os):\n",
    "    \"\"\"\n",
    "    luA,plA: list of lumen area and plaque area mm2\n",
    "    distal: roi distal\n",
    "    os: roi ostium \n",
    "    returns eem mm2 at mla within roi\n",
    "    \"\"\"\n",
    "    indexmla = np.where(luA == mla(luA,distal,os))\n",
    "    x = np.array(luA)\n",
    "    y = np.array(plA)\n",
    "    eem = x + y\n",
    "    return eem[indexmla][0]\n",
    "\n",
    "def pb_mla(luA,plA,distal,os):\n",
    "    \"\"\"\n",
    "    luA,plA: list of lumen area and plaque area mm2\n",
    "    distal: roi distal\n",
    "    os: roi ostium \n",
    "    returns plaqueburden mm2 at mla in roi\n",
    "    \"\"\"\n",
    "    indexmla = np.where(luA == mla(luA,distal,os))\n",
    "    pb = plaqueburden(luA,plA)\n",
    "    return pb[indexmla][0]\n",
    "\n",
    "def max_pb(luA,plA,distal,os):\n",
    "    \"\"\"\n",
    "    luA,plA: list of lumen area and plaque area mm2\n",
    "    distal: roi distal\n",
    "    os: roi ostium \n",
    "    returns max plaqueburden mm2 in roi\n",
    "    \"\"\"\n",
    "    pb = plaqueburden(luA,plA)\n",
    "    roi = pb[distal:os]\n",
    "    return max(roi)\n",
    "\n",
    "def numberofpb(pb,th,distal,os):\n",
    "    \"\"\"\n",
    "    pb: plaqueburden list\n",
    "    th: threshold (0.4, 0.7)\n",
    "    distal: roi distal\n",
    "    os: roi ostium \n",
    "    returns number of frames with pb > threshold\n",
    "    \"\"\"\n",
    "    roi = pb[distal:os]\n",
    "    index = np.where(roi > th)[0]\n",
    "    return len(index)\n"
   ]
  },
  {
   "cell_type": "code",
   "execution_count": 306,
   "metadata": {
    "collapsed": true
   },
   "outputs": [],
   "source": [
    "# example values for testing\n",
    "luA = df50.loc[0].luA\n",
    "plA = df50.loc[0].plA\n",
    "distal = df50.loc[0].distal\n",
    "os = df50.loc[0].OS"
   ]
  },
  {
   "cell_type": "code",
   "execution_count": 310,
   "metadata": {
    "collapsed": true
   },
   "outputs": [],
   "source": [
    "x = np.array(luA[distal:os])\n",
    "y = np.array(plA[distal:os])\n",
    "pb = y/(x + y)"
   ]
  },
  {
   "cell_type": "code",
   "execution_count": 314,
   "metadata": {},
   "outputs": [],
   "source": [
    "roi = np.array(luA[distal:os])\n",
    "numlua = np.where(roi < .7)"
   ]
  },
  {
   "cell_type": "code",
   "execution_count": 315,
   "metadata": {},
   "outputs": [
    {
     "data": {
      "text/plain": [
       "(array([1550]),)"
      ]
     },
     "execution_count": 315,
     "metadata": {},
     "output_type": "execute_result"
    }
   ],
   "source": [
    "numlua"
   ]
  },
  {
   "cell_type": "code",
   "execution_count": 329,
   "metadata": {},
   "outputs": [],
   "source": [
    "lst1 = np.array([1,2,3,4,5,6])\n",
    "lst2 = [3,4,7,8,9,3]"
   ]
  },
  {
   "cell_type": "code",
   "execution_count": 331,
   "metadata": {},
   "outputs": [
    {
     "data": {
      "text/plain": [
       "{3, 4}"
      ]
     },
     "execution_count": 331,
     "metadata": {},
     "output_type": "execute_result"
    }
   ],
   "source": [
    "Intersection(lst1,lst2)"
   ]
  },
  {
   "cell_type": "code",
   "execution_count": null,
   "metadata": {
    "collapsed": true
   },
   "outputs": [],
   "source": []
  },
  {
   "cell_type": "code",
   "execution_count": 326,
   "metadata": {},
   "outputs": [],
   "source": [
    "#### FEATURES 12-38\n",
    "### Combined features 12-38 by including a plaque burden threshold parameter. \n",
    "### this asumes the features are within the ROI. It wasn't defined in the variables_def.xlsx\n",
    "### similar to features 12-20 which clearly defined within ROI region\n",
    "\n",
    "\n",
    "def Intersection(lst1, lst2):\n",
    "    \"\"\"\n",
    "    lst1,lst2: list\n",
    "    returns the intersection (common frames) between two lists\n",
    "    \"\"\"\n",
    "    return set(lst1).intersection(lst2)\n",
    "\n",
    "\n",
    "def no_lumen_roi(luA,plA,distal,os,th,pbth=1):\n",
    "    \"\"\"\n",
    "    luA,plA: list of lumen/plaque area mm2\n",
    "    distal: roi distal\n",
    "    os: roi ostium\n",
    "    th: threshold (4,3,2.5)\n",
    "    pbth: plaqueburden threshold (1-default,0.7,0.4)\n",
    "    returns number of frames greater than thresh in roi\n",
    "    \"\"\"\n",
    "    roi = np.array(luA[distal:os])\n",
    "    numlua = np.where(roi < th)\n",
    "    \n",
    "    if pbt != 1:\n",
    "        x = np.array(luA[distal:os])\n",
    "        y = np.array(plA[distal:os])\n",
    "        pb = y/(x + y)\n",
    "        pb2 = np.where(pb > pbth)\n",
    "        numlua = list(Intersection(numlua,pb2))\n",
    "        \n",
    "    return len(numlua)\n",
    "\n",
    "def sum_plaque_roi(luA,plA,distal,os,pbth=1):\n",
    "    \"\"\"\n",
    "    plA: list of plaque area mm2\n",
    "    distal: roi distal\n",
    "    os: roi ostium\n",
    "    returns the total plaque area mm2 in roi\n",
    "    \"\"\"\n",
    "    if pbth == 1:\n",
    "        roi = np.array(plA[distal:os])\n",
    "    else:\n",
    "        x = np.array(luA[distal:os])\n",
    "        y = np.array(plA[distal:os])\n",
    "        pb = y/(x + y)\n",
    "        pb2 = np.where(pb > pbth)\n",
    "        roi = roi[pb2]\n",
    "        \n",
    "    return sum(roi)\n",
    "    \n",
    "def sum_eem_roi(luA,plA,distal,os,pbth=1):\n",
    "    \"\"\"\n",
    "    luA, plA: list of lumen/plaque area mm2\n",
    "    distal: roi distal\n",
    "    os: roi ostium\n",
    "    pbth: plaqueburden threshold (1-default,0.4,0.7)\n",
    "    returns the total eem area mm2 in roi\n",
    "    \"\"\"\n",
    "    x = np.array(luA[distal:os])\n",
    "    y = np.array(plA[distal:os])\n",
    "    if pbth == 1:\n",
    "        eem = sum(x + y)\n",
    "    else:\n",
    "        pb = y/(x + y)\n",
    "        pb2 = np.where(pb > pbth)\n",
    "        eem = sum(x[pb2] + y[pb2])\n",
    "        \n",
    "    return eem\n",
    "    \n",
    "def pb_roi(luA,plA,distal,os,pbth=1):\n",
    "    \"\"\"\n",
    "    luA, plA: list of lumen/plaque area mm2\n",
    "    distal: roi distal\n",
    "    os: roi ostium\n",
    "    pbth: plaqueburden threshold (1-default,0.4,0.7)\n",
    "    returns the overall plaqueburden in roi\n",
    "    \"\"\"\n",
    "    plsum = sum_plaque_roi(luA,plA,distal,os,pbth)\n",
    "    eemsum = sum_eem_roi(luA,plA,distal,os,pbth)\n",
    "    pb = plsum/eemsum\n",
    "    \n",
    "    return pb\n",
    "\n",
    "def mean_lumen_roi(lu,pl,distal,os,pbth=1):\n",
    "    \"\"\"\n",
    "    lu: list of lumen area\n",
    "    distal: roi distal\n",
    "    os: roi ostium\n",
    "    pbth: plaqueburden threshold (1-default,0.4,0.7)\n",
    "    returns the mean lumen in roi\n",
    "    \"\"\"\n",
    "    roi = lu[distal:os]\n",
    "    \n",
    "    if pbt != 1:\n",
    "        x = np.array(luA[distal:os])\n",
    "        y = np.array(plA[distal:os])\n",
    "        pb = y/(x + y)\n",
    "        pb2 = np.where(pb > pbth)\n",
    "        roi = roi[pb2]\n",
    "        \n",
    "    return mean(roi)\n",
    "\n",
    "\n",
    "def mean_plaque_roi(pl,distal,os,pbth=1):\n",
    "    \"\"\"\n",
    "    lu: list of plaque area\n",
    "    distal: roi distal\n",
    "    os: roi ostium\n",
    "    pbth: plaqueburden threshold (1-default,0.4,0.7)\n",
    "    returns the mean plaque in roi\n",
    "    \"\"\"\n",
    "    roi = pl[distal:os]\n",
    "    \n",
    "    if pbt != 1:\n",
    "        x = np.array(luA[distal:os])\n",
    "        y = np.array(plA[distal:os])\n",
    "        pb = y/(x + y)\n",
    "        pb2 = np.where(pb > pbth)\n",
    "        roi = roi[pb2]\n",
    "    \n",
    "    return mean(roi) \n",
    "\n",
    "def mean_eem_roi(pl,distal,os,pbth=1):\n",
    "    \"\"\"\n",
    "    lu,pl: list\n",
    "    distal: roi distal\n",
    "    os: roi ostium\n",
    "    pbth: plaqueburden threshold (1-default,0.4,0.7)\n",
    "    returns the mean eem in roi\n",
    "    \"\"\"\n",
    "    x = np.array(lu[distal:os])\n",
    "    y = np.array(pl[distal:os])\n",
    "    roi = x + y\n",
    "    \n",
    "    if pbt != 1:\n",
    "        x = np.array(luA[distal:os])\n",
    "        y = np.array(plA[distal:os])\n",
    "        pb = y/(x + y)\n",
    "        pb2 = np.where(pb > pbth)\n",
    "        roi = roi[pb2]\n",
    "        \n",
    "    return mean(roi)"
   ]
  },
  {
   "cell_type": "code",
   "execution_count": null,
   "metadata": {
    "collapsed": true
   },
   "outputs": [],
   "source": [
    "\n",
    "\n"
   ]
  },
  {
   "cell_type": "code",
   "execution_count": null,
   "metadata": {
    "collapsed": true
   },
   "outputs": [],
   "source": []
  },
  {
   "cell_type": "code",
   "execution_count": null,
   "metadata": {
    "collapsed": true
   },
   "outputs": [],
   "source": []
  }
 ],
 "metadata": {
  "kernelspec": {
   "display_name": "Python 3",
   "language": "python",
   "name": "python3"
  },
  "language_info": {
   "codemirror_mode": {
    "name": "ipython",
    "version": 3
   },
   "file_extension": ".py",
   "mimetype": "text/x-python",
   "name": "python",
   "nbconvert_exporter": "python",
   "pygments_lexer": "ipython3",
   "version": "3.6.3"
  }
 },
 "nbformat": 4,
 "nbformat_minor": 2
}
