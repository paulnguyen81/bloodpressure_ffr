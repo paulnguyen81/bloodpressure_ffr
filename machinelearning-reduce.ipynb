{
 "cells": [
  {
   "cell_type": "markdown",
   "metadata": {},
   "source": [
    "# Load Data"
   ]
  },
  {
   "cell_type": "code",
   "execution_count": 151,
   "metadata": {},
   "outputs": [],
   "source": [
    "import pickle\n",
    "import numpy as np\n",
    "import pandas as pd\n",
    "import time\n",
    "import os\n",
    "from feature_utils import *\n",
    "from sklearn.model_selection import train_test_split\n",
    "from sklearn.ensemble import RandomForestClassifier\n",
    "from sklearn.metrics import *\n",
    "from pprint import pprint\n",
    "from sklearn.ensemble import AdaBoostClassifier\n",
    "from sklearn.model_selection import RandomizedSearchCV\n",
    "from sklearn.model_selection import GridSearchCV\n",
    "from sklearn import svm\n",
    "from sklearn.ensemble import GradientBoostingClassifier\n",
    "from imblearn.over_sampling import SMOTE\n",
    "\n",
    "\n",
    "def picklereader(fpath):\n",
    "    with open(fpath,'rb') as f:\n",
    "        content = pd.read_pickle(f)\n",
    "    return content\n",
    "\n",
    "df = picklereader(os.getcwd()+'/data/df18S_rs_reduce.p')"
   ]
  },
  {
   "cell_type": "code",
   "execution_count": 2,
   "metadata": {},
   "outputs": [
    {
     "data": {
      "text/html": [
       "<div>\n",
       "<style>\n",
       "    .dataframe thead tr:only-child th {\n",
       "        text-align: right;\n",
       "    }\n",
       "\n",
       "    .dataframe thead th {\n",
       "        text-align: left;\n",
       "    }\n",
       "\n",
       "    .dataframe tbody tr th {\n",
       "        vertical-align: top;\n",
       "    }\n",
       "</style>\n",
       "<table border=\"1\" class=\"dataframe\">\n",
       "  <thead>\n",
       "    <tr style=\"text-align: right;\">\n",
       "      <th></th>\n",
       "      <th>gender</th>\n",
       "      <th>age</th>\n",
       "      <th>vessel</th>\n",
       "      <th>seg</th>\n",
       "      <th>OS_PB40</th>\n",
       "      <th>OS_PB70</th>\n",
       "      <th>OS_MLA</th>\n",
       "      <th>MLA</th>\n",
       "      <th>EEM_MLA</th>\n",
       "      <th>PB_MLA</th>\n",
       "      <th>...</th>\n",
       "      <th>area1_stenosis_dist5</th>\n",
       "      <th>area3_stenosis_aver</th>\n",
       "      <th>RI_MLA_ref</th>\n",
       "      <th>RI_MLA_prox5</th>\n",
       "      <th>variance_lumen_worst</th>\n",
       "      <th>variance_lumen_PB40</th>\n",
       "      <th>variance_plaque_worst</th>\n",
       "      <th>variance_plaque_PB40</th>\n",
       "      <th>long_eccentricity_worst</th>\n",
       "      <th>long_eccentricity_PB40</th>\n",
       "    </tr>\n",
       "  </thead>\n",
       "  <tbody>\n",
       "    <tr>\n",
       "      <th>0</th>\n",
       "      <td>1</td>\n",
       "      <td>59</td>\n",
       "      <td>1</td>\n",
       "      <td>1</td>\n",
       "      <td>0</td>\n",
       "      <td>0</td>\n",
       "      <td>791</td>\n",
       "      <td>5.480974</td>\n",
       "      <td>23.524774</td>\n",
       "      <td>0.767013</td>\n",
       "      <td>...</td>\n",
       "      <td>0.646114</td>\n",
       "      <td>0.160654</td>\n",
       "      <td>0.000000</td>\n",
       "      <td>0.000000</td>\n",
       "      <td>0.517217</td>\n",
       "      <td>7.890320</td>\n",
       "      <td>1.187166</td>\n",
       "      <td>7.783799</td>\n",
       "      <td>0.072780</td>\n",
       "      <td>0.383794</td>\n",
       "    </tr>\n",
       "    <tr>\n",
       "      <th>1</th>\n",
       "      <td>2</td>\n",
       "      <td>73</td>\n",
       "      <td>1</td>\n",
       "      <td>2</td>\n",
       "      <td>0</td>\n",
       "      <td>0</td>\n",
       "      <td>2272</td>\n",
       "      <td>2.433403</td>\n",
       "      <td>6.934078</td>\n",
       "      <td>0.649066</td>\n",
       "      <td>...</td>\n",
       "      <td>0.000000</td>\n",
       "      <td>0.000000</td>\n",
       "      <td>0.000000</td>\n",
       "      <td>0.000000</td>\n",
       "      <td>0.097784</td>\n",
       "      <td>5.809565</td>\n",
       "      <td>0.050160</td>\n",
       "      <td>2.131793</td>\n",
       "      <td>0.058916</td>\n",
       "      <td>0.892380</td>\n",
       "    </tr>\n",
       "    <tr>\n",
       "      <th>2</th>\n",
       "      <td>1</td>\n",
       "      <td>61</td>\n",
       "      <td>1</td>\n",
       "      <td>2</td>\n",
       "      <td>0</td>\n",
       "      <td>44</td>\n",
       "      <td>249</td>\n",
       "      <td>2.070309</td>\n",
       "      <td>13.862166</td>\n",
       "      <td>0.850650</td>\n",
       "      <td>...</td>\n",
       "      <td>0.000000</td>\n",
       "      <td>0.000000</td>\n",
       "      <td>0.000000</td>\n",
       "      <td>0.000000</td>\n",
       "      <td>1.212633</td>\n",
       "      <td>0.903290</td>\n",
       "      <td>2.197129</td>\n",
       "      <td>6.271595</td>\n",
       "      <td>0.046846</td>\n",
       "      <td>0.077764</td>\n",
       "    </tr>\n",
       "    <tr>\n",
       "      <th>3</th>\n",
       "      <td>1</td>\n",
       "      <td>61</td>\n",
       "      <td>3</td>\n",
       "      <td>2</td>\n",
       "      <td>0</td>\n",
       "      <td>1170</td>\n",
       "      <td>1338</td>\n",
       "      <td>2.384325</td>\n",
       "      <td>10.941244</td>\n",
       "      <td>0.782079</td>\n",
       "      <td>...</td>\n",
       "      <td>0.000000</td>\n",
       "      <td>0.000000</td>\n",
       "      <td>0.000000</td>\n",
       "      <td>0.000000</td>\n",
       "      <td>0.194207</td>\n",
       "      <td>2.302834</td>\n",
       "      <td>0.036625</td>\n",
       "      <td>0.995525</td>\n",
       "      <td>0.041690</td>\n",
       "      <td>0.371873</td>\n",
       "    </tr>\n",
       "    <tr>\n",
       "      <th>4</th>\n",
       "      <td>1</td>\n",
       "      <td>60</td>\n",
       "      <td>1</td>\n",
       "      <td>2</td>\n",
       "      <td>525</td>\n",
       "      <td>0</td>\n",
       "      <td>856</td>\n",
       "      <td>2.991094</td>\n",
       "      <td>16.061737</td>\n",
       "      <td>0.813775</td>\n",
       "      <td>...</td>\n",
       "      <td>0.565989</td>\n",
       "      <td>0.464287</td>\n",
       "      <td>1.023542</td>\n",
       "      <td>0.780071</td>\n",
       "      <td>2.968152</td>\n",
       "      <td>16.178021</td>\n",
       "      <td>2.637238</td>\n",
       "      <td>3.715845</td>\n",
       "      <td>0.069930</td>\n",
       "      <td>0.154312</td>\n",
       "    </tr>\n",
       "  </tbody>\n",
       "</table>\n",
       "<p>5 rows × 65 columns</p>\n",
       "</div>"
      ],
      "text/plain": [
       "   gender  age  vessel  seg  OS_PB40  OS_PB70  OS_MLA       MLA    EEM_MLA  \\\n",
       "0       1   59       1    1        0        0     791  5.480974  23.524774   \n",
       "1       2   73       1    2        0        0    2272  2.433403   6.934078   \n",
       "2       1   61       1    2        0       44     249  2.070309  13.862166   \n",
       "3       1   61       3    2        0     1170    1338  2.384325  10.941244   \n",
       "4       1   60       1    2      525        0     856  2.991094  16.061737   \n",
       "\n",
       "     PB_MLA           ...            area1_stenosis_dist5  \\\n",
       "0  0.767013           ...                        0.646114   \n",
       "1  0.649066           ...                        0.000000   \n",
       "2  0.850650           ...                        0.000000   \n",
       "3  0.782079           ...                        0.000000   \n",
       "4  0.813775           ...                        0.565989   \n",
       "\n",
       "   area3_stenosis_aver  RI_MLA_ref  RI_MLA_prox5  variance_lumen_worst  \\\n",
       "0             0.160654    0.000000      0.000000              0.517217   \n",
       "1             0.000000    0.000000      0.000000              0.097784   \n",
       "2             0.000000    0.000000      0.000000              1.212633   \n",
       "3             0.000000    0.000000      0.000000              0.194207   \n",
       "4             0.464287    1.023542      0.780071              2.968152   \n",
       "\n",
       "   variance_lumen_PB40  variance_plaque_worst  variance_plaque_PB40  \\\n",
       "0             7.890320               1.187166              7.783799   \n",
       "1             5.809565               0.050160              2.131793   \n",
       "2             0.903290               2.197129              6.271595   \n",
       "3             2.302834               0.036625              0.995525   \n",
       "4            16.178021               2.637238              3.715845   \n",
       "\n",
       "   long_eccentricity_worst  long_eccentricity_PB40  \n",
       "0                 0.072780                0.383794  \n",
       "1                 0.058916                0.892380  \n",
       "2                 0.046846                0.077764  \n",
       "3                 0.041690                0.371873  \n",
       "4                 0.069930                0.154312  \n",
       "\n",
       "[5 rows x 65 columns]"
      ]
     },
     "execution_count": 2,
     "metadata": {},
     "output_type": "execute_result"
    }
   ],
   "source": [
    "df.head()"
   ]
  },
  {
   "cell_type": "code",
   "execution_count": 3,
   "metadata": {},
   "outputs": [
    {
     "data": {
      "text/plain": [
       "(1447, 65)"
      ]
     },
     "execution_count": 3,
     "metadata": {},
     "output_type": "execute_result"
    }
   ],
   "source": [
    "df.shape"
   ]
  },
  {
   "cell_type": "code",
   "execution_count": 4,
   "metadata": {
    "scrolled": true
   },
   "outputs": [
    {
     "name": "stdout",
     "output_type": "stream",
     "text": [
      "gender                     0\n",
      "age                        0\n",
      "vessel                     0\n",
      "seg                        0\n",
      "OS_PB40                    0\n",
      "OS_PB70                    0\n",
      "OS_MLA                     0\n",
      "MLA                        0\n",
      "EEM_MLA                    0\n",
      "PB_MLA                     0\n",
      "No_PB40                    0\n",
      "No_PB70                    0\n",
      "No_lumen40_ROI             0\n",
      "No_lumen25_ROI             0\n",
      "No_lumen30_ROI             0\n",
      "Sum_plaque_ROI             0\n",
      "Sum_EEM_ROI                0\n",
      "PB_ROI                     0\n",
      "mean_lumen_ROI             0\n",
      "mean_plaque_ROI            0\n",
      "mean_EEM_ROI               0\n",
      "Sum_plaque_PB40            0\n",
      "Sum_EEM_PB40               0\n",
      "mean_lumen_PB40            0\n",
      "mean_EEM_PB40              0\n",
      "No_lumen40_PB70            0\n",
      "No_lumen25_PB70            0\n",
      "No_lumen30_PB70            0\n",
      "Sum_plaque_PB70            0\n",
      "PB_PB70                    0\n",
      "mean_lumen_PB70            0\n",
      "No_lumen40_worst           0\n",
      "No_lumen25_worst           0\n",
      "Sum_plaque_worst           0\n",
      "Sum_EEM_worst              0\n",
      "PB_worst                   0\n",
      "mean_lumen_worst           0\n",
      "mean_EEM_worst             0\n",
      "No_lumen40_prox            0\n",
      "No_lumen30_prox            0\n",
      "PB_prox                    0\n",
      "mean_lumen_prox            0\n",
      "No_lumen40_distal          0\n",
      "No_lumen25_distal          0\n",
      "No_lumen30_distal          0\n",
      "Sum_plaque_distal          0\n",
      "PB_distal                  0\n",
      "mean_lumen_distal          0\n",
      "Sum_plaque_prox5           0\n",
      "No_lumen40_dist5           0\n",
      "No_lumen25_dist5           0\n",
      "No_lumen30_dist5           0\n",
      "Sum_plaque_dist5           0\n",
      "mean_lumen_aver            0\n",
      "area1_stenosis_aver        0\n",
      "area1_stenosis_dist5       0\n",
      "area3_stenosis_aver        0\n",
      "RI_MLA_ref                 0\n",
      "RI_MLA_prox5               0\n",
      "variance_lumen_worst       0\n",
      "variance_lumen_PB40        0\n",
      "variance_plaque_worst      0\n",
      "variance_plaque_PB40       0\n",
      "long_eccentricity_worst    0\n",
      "long_eccentricity_PB40     0\n"
     ]
    }
   ],
   "source": [
    "# check there are no null values\n",
    "print(df.isnull().sum().to_string())"
   ]
  },
  {
   "cell_type": "markdown",
   "metadata": {},
   "source": [
    "# Random Forest Classifier\n",
    "\n",
    "No PCA, no validation, 80/20 split"
   ]
  },
  {
   "cell_type": "code",
   "execution_count": 5,
   "metadata": {},
   "outputs": [
    {
     "name": "stdout",
     "output_type": "stream",
     "text": [
      "Training features: (1157, 65)\n",
      "Training labels: (1157,)\n",
      "Test features: (290, 65)\n",
      "Test labels: (290,)\n"
     ]
    }
   ],
   "source": [
    "# split train validation test\n",
    "df1 = picklereader(os.getcwd()+'/data/df18S_rs_extract.p')\n",
    "y = df1['ffr_80']\n",
    "X_train, X_test, y_train, y_test = train_test_split(df, y, test_size=0.2, random_state=1)\n",
    "print('Training features:',X_train.shape)\n",
    "print('Training labels:',y_train.shape)\n",
    "print('Test features:',X_test.shape)\n",
    "print('Test labels:',y_test.shape)"
   ]
  },
  {
   "cell_type": "code",
   "execution_count": 6,
   "metadata": {
    "collapsed": true
   },
   "outputs": [],
   "source": [
    "clf = RandomForestClassifier(n_jobs=2, random_state=0)\n",
    "clf.fit(X_train, y_train)\n",
    "predictions2 = clf.predict(X_test)"
   ]
  },
  {
   "cell_type": "code",
   "execution_count": 8,
   "metadata": {},
   "outputs": [
    {
     "data": {
      "text/html": [
       "<div>\n",
       "<style>\n",
       "    .dataframe thead tr:only-child th {\n",
       "        text-align: right;\n",
       "    }\n",
       "\n",
       "    .dataframe thead th {\n",
       "        text-align: left;\n",
       "    }\n",
       "\n",
       "    .dataframe tbody tr th {\n",
       "        vertical-align: top;\n",
       "    }\n",
       "</style>\n",
       "<table border=\"1\" class=\"dataframe\">\n",
       "  <thead>\n",
       "    <tr style=\"text-align: right;\">\n",
       "      <th>Predicted</th>\n",
       "      <th>0</th>\n",
       "      <th>1</th>\n",
       "    </tr>\n",
       "    <tr>\n",
       "      <th>Actual</th>\n",
       "      <th></th>\n",
       "      <th></th>\n",
       "    </tr>\n",
       "  </thead>\n",
       "  <tbody>\n",
       "    <tr>\n",
       "      <th>0</th>\n",
       "      <td>170</td>\n",
       "      <td>18</td>\n",
       "    </tr>\n",
       "    <tr>\n",
       "      <th>1</th>\n",
       "      <td>63</td>\n",
       "      <td>39</td>\n",
       "    </tr>\n",
       "  </tbody>\n",
       "</table>\n",
       "</div>"
      ],
      "text/plain": [
       "Predicted    0   1\n",
       "Actual            \n",
       "0          170  18\n",
       "1           63  39"
      ]
     },
     "execution_count": 8,
     "metadata": {},
     "output_type": "execute_result"
    }
   ],
   "source": [
    "cm = pd.crosstab(y_test, predictions2, rownames=['Actual'], colnames=['Predicted'])\n",
    "cm"
   ]
  },
  {
   "cell_type": "code",
   "execution_count": 9,
   "metadata": {},
   "outputs": [
    {
     "name": "stdout",
     "output_type": "stream",
     "text": [
      "Accuracy: 0.72\n",
      "FNR: 0.62\n",
      "Recall: 0.38\n",
      "Precision: 0.68\n",
      "F1: 0.49\n"
     ]
    }
   ],
   "source": [
    "TP = cm[1][1]\n",
    "FP = cm[1][0]\n",
    "FN = cm[0][1]\n",
    "TN = cm[0][0]\n",
    "print('Accuracy:',round((TP+TN)/(TP+FP+FN+TN),2))\n",
    "print('FNR:',round(FN / (TP+FN),2))\n",
    "print('Recall:',round(TP/(TP+FN),2))\n",
    "print('Precision:',round(TP/(TP+FP),2))\n",
    "print('F1:',round(2*TP/(2*TP+FP+FN),2))"
   ]
  },
  {
   "cell_type": "markdown",
   "metadata": {},
   "source": [
    "Accuracy measure the number of true correct classifications.\n",
    "FNR False Negative Rate also known as specificity measures the probability of a negative test result given that the condition is postive.\n",
    "Precision (P) is defined as the number of true positives (T_p) over the number of true positives plus the number of false positives (F_p).  \n",
    "Recall (R) is defined as the number of true positives (T_p) over the number of true positives plus the number of false negatives (F_n).  \n",
    "The F1 score can be interpreted as a weighted average of the precision and recall, where an F1 score reaches its best value at 1 and worst score at 0.  "
   ]
  },
  {
   "cell_type": "code",
   "execution_count": 10,
   "metadata": {},
   "outputs": [
    {
     "data": {
      "text/plain": [
       "[('gender', 0.0080262674831912285),\n",
       " ('age', 0.049909128157430656),\n",
       " ('vessel', 0.015116874303115488),\n",
       " ('seg', 0.0059280363697237432),\n",
       " ('OS_PB40', 0.0047325765185182002),\n",
       " ('OS_PB70', 0.016625117443352749),\n",
       " ('OS_MLA', 0.022055753481032926),\n",
       " ('MLA', 0.032343891830318106),\n",
       " ('EEM_MLA', 0.021649860111149735),\n",
       " ('PB_MLA', 0.018133442854030547),\n",
       " ('No_PB40', 0.013958663189924333),\n",
       " ('No_PB70', 0.029357002848865554),\n",
       " ('No_lumen40_ROI', 0.023994913198294335),\n",
       " ('No_lumen25_ROI', 0.040338717510325951),\n",
       " ('No_lumen30_ROI', 0.036220300417726913),\n",
       " ('Sum_plaque_ROI', 0.019037705082789166),\n",
       " ('Sum_EEM_ROI', 0.025947418889883594),\n",
       " ('PB_ROI', 0.02041938985094701),\n",
       " ('mean_lumen_ROI', 0.026352527552118747),\n",
       " ('mean_plaque_ROI', 0.013625513759456333),\n",
       " ('mean_EEM_ROI', 0.018857481347113351),\n",
       " ('Sum_plaque_PB40', 0.016676980251901594),\n",
       " ('Sum_EEM_PB40', 0.012607085434256737),\n",
       " ('mean_lumen_PB40', 0.027931035792051639),\n",
       " ('mean_EEM_PB40', 0.012997028243023599),\n",
       " ('No_lumen40_PB70', 0.018539447604922567),\n",
       " ('No_lumen25_PB70', 0.03075853452545315),\n",
       " ('No_lumen30_PB70', 0.017770561287401655),\n",
       " ('Sum_plaque_PB70', 0.019706192284304033),\n",
       " ('PB_PB70', 0.02960225030261527),\n",
       " ('mean_lumen_PB70', 0.014749270885895904),\n",
       " ('No_lumen40_worst', 0.017386954445607995),\n",
       " ('No_lumen25_worst', 0.012830963318668245),\n",
       " ('Sum_plaque_worst', 0.009663432121394689),\n",
       " ('Sum_EEM_worst', 0.014373677462490667),\n",
       " ('PB_worst', 0.0081635521200763058),\n",
       " ('mean_lumen_worst', 0.024946712272962239),\n",
       " ('mean_EEM_worst', 0.018305992330100003),\n",
       " ('No_lumen40_prox', 0.0),\n",
       " ('No_lumen30_prox', 0.0),\n",
       " ('PB_prox', 0.0044703414544205733),\n",
       " ('mean_lumen_prox', 0.003939548220629023),\n",
       " ('No_lumen40_distal', 0.002052869507959645),\n",
       " ('No_lumen25_distal', 0.0),\n",
       " ('No_lumen30_distal', 0.00031877959653914495),\n",
       " ('Sum_plaque_distal', 0.0087160326033582196),\n",
       " ('PB_distal', 0.0081284836982457951),\n",
       " ('mean_lumen_distal', 0.010855943289641247),\n",
       " ('Sum_plaque_prox5', 0.0076840593501239039),\n",
       " ('No_lumen40_dist5', 0.0019893685876114929),\n",
       " ('No_lumen25_dist5', 0.0),\n",
       " ('No_lumen30_dist5', 0.0),\n",
       " ('Sum_plaque_dist5', 0.00840649121549269),\n",
       " ('mean_lumen_aver', 0.0079407078082655205),\n",
       " ('area1_stenosis_aver', 0.013493796963208687),\n",
       " ('area1_stenosis_dist5', 0.013074877882172176),\n",
       " ('area3_stenosis_aver', 0.011399806211889329),\n",
       " ('RI_MLA_ref', 0.004305993320365669),\n",
       " ('RI_MLA_prox5', 0.0068897262246768636),\n",
       " ('variance_lumen_worst', 0.017343284658577887),\n",
       " ('variance_lumen_PB40', 0.021972759694652479),\n",
       " ('variance_plaque_worst', 0.01635462801715569),\n",
       " ('variance_plaque_PB40', 0.013396460518884979),\n",
       " ('long_eccentricity_worst', 0.020177447597819757),\n",
       " ('long_eccentricity_PB40', 0.027448340695874242)]"
      ]
     },
     "execution_count": 10,
     "metadata": {},
     "output_type": "execute_result"
    }
   ],
   "source": [
    "# View a list of the features and their importance scores\n",
    "list(zip(X_train, clf.feature_importances_))"
   ]
  },
  {
   "cell_type": "markdown",
   "metadata": {},
   "source": [
    "# Random Forest Classifier Model3\n",
    "\n",
    "balanced parameter"
   ]
  },
  {
   "cell_type": "code",
   "execution_count": 11,
   "metadata": {
    "scrolled": true
   },
   "outputs": [
    {
     "data": {
      "text/html": [
       "<div>\n",
       "<style>\n",
       "    .dataframe thead tr:only-child th {\n",
       "        text-align: right;\n",
       "    }\n",
       "\n",
       "    .dataframe thead th {\n",
       "        text-align: left;\n",
       "    }\n",
       "\n",
       "    .dataframe tbody tr th {\n",
       "        vertical-align: top;\n",
       "    }\n",
       "</style>\n",
       "<table border=\"1\" class=\"dataframe\">\n",
       "  <thead>\n",
       "    <tr style=\"text-align: right;\">\n",
       "      <th>Predicted</th>\n",
       "      <th>0</th>\n",
       "      <th>1</th>\n",
       "    </tr>\n",
       "    <tr>\n",
       "      <th>Actual</th>\n",
       "      <th></th>\n",
       "      <th></th>\n",
       "    </tr>\n",
       "  </thead>\n",
       "  <tbody>\n",
       "    <tr>\n",
       "      <th>0</th>\n",
       "      <td>172</td>\n",
       "      <td>16</td>\n",
       "    </tr>\n",
       "    <tr>\n",
       "      <th>1</th>\n",
       "      <td>60</td>\n",
       "      <td>42</td>\n",
       "    </tr>\n",
       "  </tbody>\n",
       "</table>\n",
       "</div>"
      ],
      "text/plain": [
       "Predicted    0   1\n",
       "Actual            \n",
       "0          172  16\n",
       "1           60  42"
      ]
     },
     "execution_count": 11,
     "metadata": {},
     "output_type": "execute_result"
    }
   ],
   "source": [
    "clf3 = RandomForestClassifier(n_jobs=-1, class_weight='balanced', random_state=0)\n",
    "clf3.fit(X_train, y_train)\n",
    "predictions3 = clf3.predict(X_test)\n",
    "cm = pd.crosstab(y_test, predictions3, rownames=['Actual'], colnames=['Predicted'])\n",
    "cm"
   ]
  },
  {
   "cell_type": "code",
   "execution_count": 12,
   "metadata": {},
   "outputs": [
    {
     "name": "stdout",
     "output_type": "stream",
     "text": [
      "Accuracy: 0.74\n",
      "FNR: 0.59\n",
      "Recall: 0.41\n",
      "Precision: 0.72\n",
      "F1: 0.52\n"
     ]
    }
   ],
   "source": [
    "TP = cm[1][1]\n",
    "FP = cm[1][0]\n",
    "FN = cm[0][1]\n",
    "TN = cm[0][0]\n",
    "print('Accuracy:',round((TP+TN)/(TP+FP+FN+TN),2))\n",
    "print('FNR:',round(FN / (TP+FN),2))\n",
    "print('Recall:',round(TP/(TP+FN),2))\n",
    "print('Precision:',round(TP/(TP+FP),2))\n",
    "print('F1:',round(2*TP/(2*TP+FP+FN),2))"
   ]
  },
  {
   "cell_type": "markdown",
   "metadata": {},
   "source": [
    "# Random Forest Classifier Model6\n",
    "Hypertuning"
   ]
  },
  {
   "cell_type": "code",
   "execution_count": 13,
   "metadata": {},
   "outputs": [
    {
     "name": "stdout",
     "output_type": "stream",
     "text": [
      "Parameters currently in use:\n",
      "\n",
      "{'bootstrap': True,\n",
      " 'class_weight': 'balanced',\n",
      " 'criterion': 'gini',\n",
      " 'max_depth': None,\n",
      " 'max_features': 'auto',\n",
      " 'max_leaf_nodes': None,\n",
      " 'min_impurity_decrease': 0.0,\n",
      " 'min_impurity_split': None,\n",
      " 'min_samples_leaf': 1,\n",
      " 'min_samples_split': 2,\n",
      " 'min_weight_fraction_leaf': 0.0,\n",
      " 'n_estimators': 10,\n",
      " 'n_jobs': -1,\n",
      " 'oob_score': False,\n",
      " 'random_state': 0,\n",
      " 'verbose': 0,\n",
      " 'warm_start': False}\n"
     ]
    }
   ],
   "source": [
    "clf6 = RandomForestClassifier(n_jobs=-1, class_weight='balanced', random_state=0)\n",
    "print('Parameters currently in use:\\n')\n",
    "pprint(clf6.get_params())"
   ]
  },
  {
   "cell_type": "code",
   "execution_count": 14,
   "metadata": {},
   "outputs": [
    {
     "name": "stdout",
     "output_type": "stream",
     "text": [
      "{'bootstrap': [True, False],\n",
      " 'max_depth': [10, 20, 30, 40, 50, 60, 70, 80, 90, 100, 110, None],\n",
      " 'max_features': ['auto', 'sqrt'],\n",
      " 'min_samples_leaf': [1, 2, 4],\n",
      " 'min_samples_split': [2, 5, 10],\n",
      " 'n_estimators': [200, 400, 600, 800, 1000, 1200, 1400, 1600, 1800, 2000]}\n"
     ]
    }
   ],
   "source": [
    "\n",
    "\n",
    "# number of trees\n",
    "n_estimators = [int(x) for x in np.linspace(start = 200, stop = 2000, num = 10)]\n",
    "# max number of features to consider at every split\n",
    "max_features = ['auto', 'sqrt']\n",
    "# max number of levels in tree\n",
    "max_depth = [int(x) for x in np.linspace(10, 110, num = 11)]\n",
    "max_depth.append(None)\n",
    "# min number of samples required to split a node\n",
    "min_samples_split = [2, 5, 10]\n",
    "# min number of samples required at each leaf node\n",
    "min_samples_leaf = [1, 2, 4]\n",
    "# method of selecting samples for training each tree\n",
    "bootstrap = [True, False]\n",
    "# create the random grid\n",
    "random_grid = {'n_estimators': n_estimators,\n",
    "               'max_features': max_features,\n",
    "               'max_depth': max_depth,\n",
    "               'min_samples_split': min_samples_split,\n",
    "               'min_samples_leaf': min_samples_leaf,\n",
    "               'bootstrap': bootstrap}\n",
    "pprint(random_grid)"
   ]
  },
  {
   "cell_type": "code",
   "execution_count": 15,
   "metadata": {},
   "outputs": [
    {
     "name": "stdout",
     "output_type": "stream",
     "text": [
      "Fitting 5 folds for each of 10 candidates, totalling 50 fits\n",
      "[CV] n_estimators=200, min_samples_split=10, min_samples_leaf=2, max_features=sqrt, max_depth=50, bootstrap=True \n",
      "[CV] n_estimators=200, min_samples_split=10, min_samples_leaf=2, max_features=sqrt, max_depth=50, bootstrap=True \n",
      "[CV] n_estimators=200, min_samples_split=10, min_samples_leaf=2, max_features=sqrt, max_depth=50, bootstrap=True \n",
      "[CV] n_estimators=200, min_samples_split=10, min_samples_leaf=2, max_features=sqrt, max_depth=50, bootstrap=True \n",
      "[CV] n_estimators=200, min_samples_split=10, min_samples_leaf=2, max_features=sqrt, max_depth=50, bootstrap=True \n",
      "[CV] n_estimators=600, min_samples_split=10, min_samples_leaf=4, max_features=sqrt, max_depth=90, bootstrap=False \n",
      "[CV] n_estimators=600, min_samples_split=10, min_samples_leaf=4, max_features=sqrt, max_depth=90, bootstrap=False \n",
      "[CV] n_estimators=600, min_samples_split=10, min_samples_leaf=4, max_features=sqrt, max_depth=90, bootstrap=False \n",
      "[CV]  n_estimators=200, min_samples_split=10, min_samples_leaf=2, max_features=sqrt, max_depth=50, bootstrap=True, total=   1.2s\n",
      "[CV] n_estimators=600, min_samples_split=10, min_samples_leaf=4, max_features=sqrt, max_depth=90, bootstrap=False \n",
      "[CV]  n_estimators=200, min_samples_split=10, min_samples_leaf=2, max_features=sqrt, max_depth=50, bootstrap=True, total=   1.2s\n",
      "[CV] n_estimators=600, min_samples_split=10, min_samples_leaf=4, max_features=sqrt, max_depth=90, bootstrap=False \n",
      "[CV]  n_estimators=200, min_samples_split=10, min_samples_leaf=2, max_features=sqrt, max_depth=50, bootstrap=True, total=   1.3s\n",
      "[CV] n_estimators=600, min_samples_split=2, min_samples_leaf=2, max_features=auto, max_depth=60, bootstrap=False \n",
      "[CV]  n_estimators=200, min_samples_split=10, min_samples_leaf=2, max_features=sqrt, max_depth=50, bootstrap=True, total=   1.3s\n",
      "[CV] n_estimators=600, min_samples_split=2, min_samples_leaf=2, max_features=auto, max_depth=60, bootstrap=False \n",
      "[CV]  n_estimators=200, min_samples_split=10, min_samples_leaf=2, max_features=sqrt, max_depth=50, bootstrap=True, total=   1.4s\n",
      "[CV] n_estimators=600, min_samples_split=2, min_samples_leaf=2, max_features=auto, max_depth=60, bootstrap=False \n",
      "[CV]  n_estimators=600, min_samples_split=10, min_samples_leaf=4, max_features=sqrt, max_depth=90, bootstrap=False, total=   4.5s\n",
      "[CV]  n_estimators=600, min_samples_split=10, min_samples_leaf=4, max_features=sqrt, max_depth=90, bootstrap=False, total=   4.5s\n",
      "[CV] n_estimators=600, min_samples_split=2, min_samples_leaf=2, max_features=auto, max_depth=60, bootstrap=False \n",
      "[CV] n_estimators=600, min_samples_split=2, min_samples_leaf=2, max_features=auto, max_depth=60, bootstrap=False \n",
      "[CV]  n_estimators=600, min_samples_split=10, min_samples_leaf=4, max_features=sqrt, max_depth=90, bootstrap=False, total=   4.7s\n",
      "[CV] n_estimators=1400, min_samples_split=5, min_samples_leaf=1, max_features=sqrt, max_depth=30, bootstrap=True \n",
      "[CV]  n_estimators=600, min_samples_split=10, min_samples_leaf=4, max_features=sqrt, max_depth=90, bootstrap=False, total=   6.1s\n",
      "[CV] n_estimators=1400, min_samples_split=5, min_samples_leaf=1, max_features=sqrt, max_depth=30, bootstrap=True \n",
      "[CV]  n_estimators=600, min_samples_split=10, min_samples_leaf=4, max_features=sqrt, max_depth=90, bootstrap=False, total=   6.2s\n",
      "[CV] n_estimators=1400, min_samples_split=5, min_samples_leaf=1, max_features=sqrt, max_depth=30, bootstrap=True \n",
      "[CV]  n_estimators=600, min_samples_split=2, min_samples_leaf=2, max_features=auto, max_depth=60, bootstrap=False, total=   6.5s\n",
      "[CV] n_estimators=1400, min_samples_split=5, min_samples_leaf=1, max_features=sqrt, max_depth=30, bootstrap=True \n",
      "[CV]  n_estimators=600, min_samples_split=2, min_samples_leaf=2, max_features=auto, max_depth=60, bootstrap=False, total=   6.6s\n",
      "[CV] n_estimators=1400, min_samples_split=5, min_samples_leaf=1, max_features=sqrt, max_depth=30, bootstrap=True \n",
      "[CV]  n_estimators=600, min_samples_split=2, min_samples_leaf=2, max_features=auto, max_depth=60, bootstrap=False, total=   6.9s\n",
      "[CV] n_estimators=1000, min_samples_split=10, min_samples_leaf=1, max_features=auto, max_depth=80, bootstrap=False \n",
      "[CV]  n_estimators=600, min_samples_split=2, min_samples_leaf=2, max_features=auto, max_depth=60, bootstrap=False, total=   6.1s\n",
      "[CV] n_estimators=1000, min_samples_split=10, min_samples_leaf=1, max_features=auto, max_depth=80, bootstrap=False \n",
      "[CV]  n_estimators=600, min_samples_split=2, min_samples_leaf=2, max_features=auto, max_depth=60, bootstrap=False, total=   6.1s\n",
      "[CV] n_estimators=1000, min_samples_split=10, min_samples_leaf=1, max_features=auto, max_depth=80, bootstrap=False \n",
      "[CV]  n_estimators=1000, min_samples_split=10, min_samples_leaf=1, max_features=auto, max_depth=80, bootstrap=False, total=   9.5s\n",
      "[CV] n_estimators=1000, min_samples_split=10, min_samples_leaf=1, max_features=auto, max_depth=80, bootstrap=False \n",
      "[CV]  n_estimators=1400, min_samples_split=5, min_samples_leaf=1, max_features=sqrt, max_depth=30, bootstrap=True, total=  13.1s\n",
      "[CV] n_estimators=1000, min_samples_split=10, min_samples_leaf=1, max_features=auto, max_depth=80, bootstrap=False \n",
      "[CV]  n_estimators=1400, min_samples_split=5, min_samples_leaf=1, max_features=sqrt, max_depth=30, bootstrap=True, total=  11.9s\n",
      "[CV] n_estimators=400, min_samples_split=10, min_samples_leaf=1, max_features=sqrt, max_depth=60, bootstrap=False \n",
      "[CV]  n_estimators=1400, min_samples_split=5, min_samples_leaf=1, max_features=sqrt, max_depth=30, bootstrap=True, total=  12.5s\n",
      "[CV] n_estimators=400, min_samples_split=10, min_samples_leaf=1, max_features=sqrt, max_depth=60, bootstrap=False \n",
      "[CV]  n_estimators=1400, min_samples_split=5, min_samples_leaf=1, max_features=sqrt, max_depth=30, bootstrap=True, total=  12.6s\n",
      "[CV] n_estimators=400, min_samples_split=10, min_samples_leaf=1, max_features=sqrt, max_depth=60, bootstrap=False \n",
      "[CV]  n_estimators=1400, min_samples_split=5, min_samples_leaf=1, max_features=sqrt, max_depth=30, bootstrap=True, total=  13.5s\n",
      "[CV] n_estimators=400, min_samples_split=10, min_samples_leaf=1, max_features=sqrt, max_depth=60, bootstrap=False \n",
      "[CV]  n_estimators=1000, min_samples_split=10, min_samples_leaf=1, max_features=auto, max_depth=80, bootstrap=False, total=  12.2s\n",
      "[CV] n_estimators=400, min_samples_split=10, min_samples_leaf=1, max_features=sqrt, max_depth=60, bootstrap=False \n",
      "[CV]  n_estimators=1000, min_samples_split=10, min_samples_leaf=1, max_features=auto, max_depth=80, bootstrap=False, total=  12.2s\n",
      "[CV] n_estimators=2000, min_samples_split=2, min_samples_leaf=2, max_features=auto, max_depth=50, bootstrap=False \n",
      "[CV]  n_estimators=400, min_samples_split=10, min_samples_leaf=1, max_features=sqrt, max_depth=60, bootstrap=False, total=   4.5s\n",
      "[CV] n_estimators=2000, min_samples_split=2, min_samples_leaf=2, max_features=auto, max_depth=50, bootstrap=False \n",
      "[CV]  n_estimators=400, min_samples_split=10, min_samples_leaf=1, max_features=sqrt, max_depth=60, bootstrap=False, total=   4.1s\n",
      "[CV] n_estimators=2000, min_samples_split=2, min_samples_leaf=2, max_features=auto, max_depth=50, bootstrap=False \n"
     ]
    },
    {
     "name": "stderr",
     "output_type": "stream",
     "text": [
      "[Parallel(n_jobs=-1)]: Done  25 tasks      | elapsed:   25.6s\n"
     ]
    },
    {
     "name": "stdout",
     "output_type": "stream",
     "text": [
      "[CV]  n_estimators=400, min_samples_split=10, min_samples_leaf=1, max_features=sqrt, max_depth=60, bootstrap=False, total=   4.2s\n",
      "[CV] n_estimators=2000, min_samples_split=2, min_samples_leaf=2, max_features=auto, max_depth=50, bootstrap=False \n",
      "[CV]  n_estimators=400, min_samples_split=10, min_samples_leaf=1, max_features=sqrt, max_depth=60, bootstrap=False, total=   3.6s\n",
      "[CV] n_estimators=2000, min_samples_split=2, min_samples_leaf=2, max_features=auto, max_depth=50, bootstrap=False \n",
      "[CV]  n_estimators=400, min_samples_split=10, min_samples_leaf=1, max_features=sqrt, max_depth=60, bootstrap=False, total=   3.9s\n",
      "[CV] n_estimators=200, min_samples_split=5, min_samples_leaf=2, max_features=sqrt, max_depth=10, bootstrap=True \n",
      "[CV]  n_estimators=200, min_samples_split=5, min_samples_leaf=2, max_features=sqrt, max_depth=10, bootstrap=True, total=   1.9s\n",
      "[CV] n_estimators=200, min_samples_split=5, min_samples_leaf=2, max_features=sqrt, max_depth=10, bootstrap=True \n",
      "[CV]  n_estimators=1000, min_samples_split=10, min_samples_leaf=1, max_features=auto, max_depth=80, bootstrap=False, total=  11.1s\n",
      "[CV] n_estimators=200, min_samples_split=5, min_samples_leaf=2, max_features=sqrt, max_depth=10, bootstrap=True \n",
      "[CV]  n_estimators=1000, min_samples_split=10, min_samples_leaf=1, max_features=auto, max_depth=80, bootstrap=False, total=  10.8s\n",
      "[CV] n_estimators=200, min_samples_split=5, min_samples_leaf=2, max_features=sqrt, max_depth=10, bootstrap=True \n",
      "[CV]  n_estimators=200, min_samples_split=5, min_samples_leaf=2, max_features=sqrt, max_depth=10, bootstrap=True, total=   1.1s\n",
      "[CV] n_estimators=200, min_samples_split=5, min_samples_leaf=2, max_features=sqrt, max_depth=10, bootstrap=True \n",
      "[CV]  n_estimators=200, min_samples_split=5, min_samples_leaf=2, max_features=sqrt, max_depth=10, bootstrap=True, total=   1.1s\n",
      "[CV] n_estimators=1200, min_samples_split=2, min_samples_leaf=4, max_features=auto, max_depth=100, bootstrap=True \n",
      "[CV]  n_estimators=200, min_samples_split=5, min_samples_leaf=2, max_features=sqrt, max_depth=10, bootstrap=True, total=   1.1s\n",
      "[CV] n_estimators=1200, min_samples_split=2, min_samples_leaf=4, max_features=auto, max_depth=100, bootstrap=True \n",
      "[CV]  n_estimators=200, min_samples_split=5, min_samples_leaf=2, max_features=sqrt, max_depth=10, bootstrap=True, total=   1.1s\n",
      "[CV] n_estimators=1200, min_samples_split=2, min_samples_leaf=4, max_features=auto, max_depth=100, bootstrap=True \n",
      "[CV]  n_estimators=2000, min_samples_split=2, min_samples_leaf=2, max_features=auto, max_depth=50, bootstrap=False, total=  21.4s\n",
      "[CV] n_estimators=1200, min_samples_split=2, min_samples_leaf=4, max_features=auto, max_depth=100, bootstrap=True \n",
      "[CV]  n_estimators=1200, min_samples_split=2, min_samples_leaf=4, max_features=auto, max_depth=100, bootstrap=True, total=  14.1s\n",
      "[CV]  n_estimators=1200, min_samples_split=2, min_samples_leaf=4, max_features=auto, max_depth=100, bootstrap=True, total=  14.3s\n",
      "[CV] n_estimators=1200, min_samples_split=2, min_samples_leaf=4, max_features=auto, max_depth=100, bootstrap=True \n",
      "[CV] n_estimators=2000, min_samples_split=5, min_samples_leaf=2, max_features=auto, max_depth=50, bootstrap=True \n",
      "[CV]  n_estimators=2000, min_samples_split=2, min_samples_leaf=2, max_features=auto, max_depth=50, bootstrap=False, total=  21.2s\n",
      "[CV]  n_estimators=2000, min_samples_split=2, min_samples_leaf=2, max_features=auto, max_depth=50, bootstrap=False, total=  21.1s\n",
      "[CV] n_estimators=2000, min_samples_split=5, min_samples_leaf=2, max_features=auto, max_depth=50, bootstrap=True \n",
      "[CV] n_estimators=2000, min_samples_split=5, min_samples_leaf=2, max_features=auto, max_depth=50, bootstrap=True \n",
      "[CV]  n_estimators=2000, min_samples_split=2, min_samples_leaf=2, max_features=auto, max_depth=50, bootstrap=False, total=  21.8s\n",
      "[CV] n_estimators=2000, min_samples_split=5, min_samples_leaf=2, max_features=auto, max_depth=50, bootstrap=True \n",
      "[CV]  n_estimators=2000, min_samples_split=2, min_samples_leaf=2, max_features=auto, max_depth=50, bootstrap=False, total=  22.3s\n",
      "[CV] n_estimators=2000, min_samples_split=5, min_samples_leaf=2, max_features=auto, max_depth=50, bootstrap=True \n",
      "[CV]  n_estimators=1200, min_samples_split=2, min_samples_leaf=4, max_features=auto, max_depth=100, bootstrap=True, total=  16.6s\n",
      "[CV]  n_estimators=1200, min_samples_split=2, min_samples_leaf=4, max_features=auto, max_depth=100, bootstrap=True, total=   7.4s\n",
      "[CV]  n_estimators=1200, min_samples_split=2, min_samples_leaf=4, max_features=auto, max_depth=100, bootstrap=True, total=   7.5s\n",
      "[CV]  n_estimators=2000, min_samples_split=5, min_samples_leaf=2, max_features=auto, max_depth=50, bootstrap=True, total=  13.3s\n",
      "[CV]  n_estimators=2000, min_samples_split=5, min_samples_leaf=2, max_features=auto, max_depth=50, bootstrap=True, total=  13.0s\n",
      "[CV]  n_estimators=2000, min_samples_split=5, min_samples_leaf=2, max_features=auto, max_depth=50, bootstrap=True, total=  13.8s\n",
      "[CV]  n_estimators=2000, min_samples_split=5, min_samples_leaf=2, max_features=auto, max_depth=50, bootstrap=True, total=  13.8s\n",
      "[CV]  n_estimators=2000, min_samples_split=5, min_samples_leaf=2, max_features=auto, max_depth=50, bootstrap=True, total=  14.5s\n"
     ]
    },
    {
     "name": "stderr",
     "output_type": "stream",
     "text": [
      "[Parallel(n_jobs=-1)]: Done  50 out of  50 | elapsed:  1.1min finished\n"
     ]
    },
    {
     "data": {
      "text/plain": [
       "RandomizedSearchCV(cv=5, error_score='raise',\n",
       "          estimator=RandomForestClassifier(bootstrap=True, class_weight='balanced',\n",
       "            criterion='gini', max_depth=None, max_features='auto',\n",
       "            max_leaf_nodes=None, min_impurity_decrease=0.0,\n",
       "            min_impurity_split=None, min_samples_leaf=1,\n",
       "            min_samples_split=2, min_weight_fraction_leaf=0.0,\n",
       "            n_estimators=10, n_jobs=-1, oob_score=False, random_state=0,\n",
       "            verbose=0, warm_start=False),\n",
       "          fit_params=None, iid=True, n_iter=10, n_jobs=-1,\n",
       "          param_distributions={'n_estimators': [200, 400, 600, 800, 1000, 1200, 1400, 1600, 1800, 2000], 'max_features': ['auto', 'sqrt'], 'max_depth': [10, 20, 30, 40, 50, 60, 70, 80, 90, 100, 110, None], 'min_samples_split': [2, 5, 10], 'min_samples_leaf': [1, 2, 4], 'bootstrap': [True, False]},\n",
       "          pre_dispatch='2*n_jobs', random_state=42, refit=True,\n",
       "          return_train_score='warn', scoring=None, verbose=2)"
      ]
     },
     "execution_count": 15,
     "metadata": {},
     "output_type": "execute_result"
    }
   ],
   "source": [
    "# random search of parameters, using 5 fold cross validation, \n",
    "# search across 10 different combinations, and use all available cores\n",
    "clf6_random = RandomizedSearchCV(estimator = clf6, param_distributions = random_grid, n_iter = 10, cv = 5, verbose=2, random_state=42, n_jobs = -1)\n",
    "# Fit the random search model\n",
    "clf6_random.fit(X_train, y_train)"
   ]
  },
  {
   "cell_type": "code",
   "execution_count": 16,
   "metadata": {},
   "outputs": [
    {
     "data": {
      "text/plain": [
       "{'bootstrap': True,\n",
       " 'max_depth': 100,\n",
       " 'max_features': 'auto',\n",
       " 'min_samples_leaf': 4,\n",
       " 'min_samples_split': 2,\n",
       " 'n_estimators': 1200}"
      ]
     },
     "execution_count": 16,
     "metadata": {},
     "output_type": "execute_result"
    }
   ],
   "source": [
    "clf6_random.best_params_"
   ]
  },
  {
   "cell_type": "code",
   "execution_count": 17,
   "metadata": {},
   "outputs": [
    {
     "data": {
      "text/html": [
       "<div>\n",
       "<style>\n",
       "    .dataframe thead tr:only-child th {\n",
       "        text-align: right;\n",
       "    }\n",
       "\n",
       "    .dataframe thead th {\n",
       "        text-align: left;\n",
       "    }\n",
       "\n",
       "    .dataframe tbody tr th {\n",
       "        vertical-align: top;\n",
       "    }\n",
       "</style>\n",
       "<table border=\"1\" class=\"dataframe\">\n",
       "  <thead>\n",
       "    <tr style=\"text-align: right;\">\n",
       "      <th>Predicted</th>\n",
       "      <th>0</th>\n",
       "      <th>1</th>\n",
       "    </tr>\n",
       "    <tr>\n",
       "      <th>Actual</th>\n",
       "      <th></th>\n",
       "      <th></th>\n",
       "    </tr>\n",
       "  </thead>\n",
       "  <tbody>\n",
       "    <tr>\n",
       "      <th>0</th>\n",
       "      <td>171</td>\n",
       "      <td>17</td>\n",
       "    </tr>\n",
       "    <tr>\n",
       "      <th>1</th>\n",
       "      <td>51</td>\n",
       "      <td>51</td>\n",
       "    </tr>\n",
       "  </tbody>\n",
       "</table>\n",
       "</div>"
      ],
      "text/plain": [
       "Predicted    0   1\n",
       "Actual            \n",
       "0          171  17\n",
       "1           51  51"
      ]
     },
     "execution_count": 17,
     "metadata": {},
     "output_type": "execute_result"
    }
   ],
   "source": [
    "clf6_best_random = clf6_random.best_estimator_\n",
    "predictions6 = clf6_best_random.predict(X_test)\n",
    "cm = pd.crosstab(y_test, predictions6, rownames=['Actual'], colnames=['Predicted'])\n",
    "cm"
   ]
  },
  {
   "cell_type": "code",
   "execution_count": 18,
   "metadata": {
    "scrolled": true
   },
   "outputs": [
    {
     "name": "stdout",
     "output_type": "stream",
     "text": [
      "Accuracy: 0.77\n",
      "FNR: 0.5\n",
      "Recall: 0.5\n",
      "Precision: 0.75\n",
      "F1: 0.6\n"
     ]
    }
   ],
   "source": [
    "TP = cm[1][1]\n",
    "FP = cm[1][0]\n",
    "FN = cm[0][1]\n",
    "TN = cm[0][0]\n",
    "print('Accuracy:',round((TP+TN)/(TP+FP+FN+TN),2))\n",
    "print('FNR:',round(FN / (TP+FN),2))\n",
    "print('Recall:',round(TP/(TP+FN),2))\n",
    "print('Precision:',round(TP/(TP+FP),2))\n",
    "print('F1:',round(2*TP/(2*TP+FP+FN),2))"
   ]
  },
  {
   "cell_type": "markdown",
   "metadata": {},
   "source": [
    "We see a big improvement in this initially tuned model compared to the previous models where we did not reduce the features. The F1 score increased 17% and the accuracy increased 4%. We see an increase in the recall score as a result of less false negatives."
   ]
  },
  {
   "cell_type": "code",
   "execution_count": 20,
   "metadata": {
    "collapsed": true
   },
   "outputs": [],
   "source": [
    "# Create the parameter grid based on the results of random search \n",
    "param_grid = {\n",
    "    'bootstrap': [True],\n",
    "    'max_depth': [90, 100, 110, 120],\n",
    "    'max_features': ['auto'],\n",
    "    'min_samples_leaf': [3, 4, 5],\n",
    "    'min_samples_split': [2, 3],\n",
    "    'n_estimators': [1100, 1200, 1300, 1400]\n",
    "}\n",
    "# Create a based model\n",
    "clf6 = RandomForestClassifier(n_jobs=-1, class_weight='balanced', random_state=0)\n",
    "# Instantiate the grid search model\n",
    "clf6_grid_search = GridSearchCV(estimator = clf6, param_grid = param_grid, \n",
    "                          cv = 5, n_jobs = -1, verbose = 2)"
   ]
  },
  {
   "cell_type": "code",
   "execution_count": 21,
   "metadata": {},
   "outputs": [
    {
     "name": "stdout",
     "output_type": "stream",
     "text": [
      "Fitting 5 folds for each of 96 candidates, totalling 480 fits\n",
      "[CV] bootstrap=True, max_depth=90, max_features=auto, min_samples_leaf=3, min_samples_split=2, n_estimators=1100 \n",
      "[CV] bootstrap=True, max_depth=90, max_features=auto, min_samples_leaf=3, min_samples_split=2, n_estimators=1100 \n",
      "[CV] bootstrap=True, max_depth=90, max_features=auto, min_samples_leaf=3, min_samples_split=2, n_estimators=1100 \n",
      "[CV] bootstrap=True, max_depth=90, max_features=auto, min_samples_leaf=3, min_samples_split=2, n_estimators=1100 \n",
      "[CV] bootstrap=True, max_depth=90, max_features=auto, min_samples_leaf=3, min_samples_split=2, n_estimators=1100 \n",
      "[CV] bootstrap=True, max_depth=90, max_features=auto, min_samples_leaf=3, min_samples_split=2, n_estimators=1200 \n",
      "[CV] bootstrap=True, max_depth=90, max_features=auto, min_samples_leaf=3, min_samples_split=2, n_estimators=1200 \n",
      "[CV] bootstrap=True, max_depth=90, max_features=auto, min_samples_leaf=3, min_samples_split=2, n_estimators=1200 \n",
      "[CV]  bootstrap=True, max_depth=90, max_features=auto, min_samples_leaf=3, min_samples_split=2, n_estimators=1100, total=   7.8s\n",
      "[CV] bootstrap=True, max_depth=90, max_features=auto, min_samples_leaf=3, min_samples_split=2, n_estimators=1200 \n",
      "[CV]  bootstrap=True, max_depth=90, max_features=auto, min_samples_leaf=3, min_samples_split=2, n_estimators=1100, total=   7.9s\n",
      "[CV] bootstrap=True, max_depth=90, max_features=auto, min_samples_leaf=3, min_samples_split=2, n_estimators=1200 \n",
      "[CV]  bootstrap=True, max_depth=90, max_features=auto, min_samples_leaf=3, min_samples_split=2, n_estimators=1100, total=   7.9s\n",
      "[CV] bootstrap=True, max_depth=90, max_features=auto, min_samples_leaf=3, min_samples_split=2, n_estimators=1300 \n",
      "[CV]  bootstrap=True, max_depth=90, max_features=auto, min_samples_leaf=3, min_samples_split=2, n_estimators=1100, total=   8.0s\n",
      "[CV] bootstrap=True, max_depth=90, max_features=auto, min_samples_leaf=3, min_samples_split=2, n_estimators=1300 \n",
      "[CV]  bootstrap=True, max_depth=90, max_features=auto, min_samples_leaf=3, min_samples_split=2, n_estimators=1100, total=   8.0s\n",
      "[CV] bootstrap=True, max_depth=90, max_features=auto, min_samples_leaf=3, min_samples_split=2, n_estimators=1300 \n",
      "[CV]  bootstrap=True, max_depth=90, max_features=auto, min_samples_leaf=3, min_samples_split=2, n_estimators=1200, total=   9.8s\n",
      "[CV] bootstrap=True, max_depth=90, max_features=auto, min_samples_leaf=3, min_samples_split=2, n_estimators=1300 \n",
      "[CV]  bootstrap=True, max_depth=90, max_features=auto, min_samples_leaf=3, min_samples_split=2, n_estimators=1200, total=   9.9s\n",
      "[CV] bootstrap=True, max_depth=90, max_features=auto, min_samples_leaf=3, min_samples_split=2, n_estimators=1300 \n",
      "[CV]  bootstrap=True, max_depth=90, max_features=auto, min_samples_leaf=3, min_samples_split=2, n_estimators=1200, total=  10.0s\n",
      "[CV] bootstrap=True, max_depth=90, max_features=auto, min_samples_leaf=3, min_samples_split=2, n_estimators=1400 \n",
      "[CV]  bootstrap=True, max_depth=90, max_features=auto, min_samples_leaf=3, min_samples_split=2, n_estimators=1200, total=   7.9s\n",
      "[CV] bootstrap=True, max_depth=90, max_features=auto, min_samples_leaf=3, min_samples_split=2, n_estimators=1400 \n",
      "[CV]  bootstrap=True, max_depth=90, max_features=auto, min_samples_leaf=3, min_samples_split=2, n_estimators=1200, total=   7.9s\n",
      "[CV] bootstrap=True, max_depth=90, max_features=auto, min_samples_leaf=3, min_samples_split=2, n_estimators=1400 \n",
      "[CV]  bootstrap=True, max_depth=90, max_features=auto, min_samples_leaf=3, min_samples_split=2, n_estimators=1300, total=   8.4s\n",
      "[CV] bootstrap=True, max_depth=90, max_features=auto, min_samples_leaf=3, min_samples_split=2, n_estimators=1400 \n",
      "[CV]  bootstrap=True, max_depth=90, max_features=auto, min_samples_leaf=3, min_samples_split=2, n_estimators=1300, total=   8.4s\n",
      "[CV] bootstrap=True, max_depth=90, max_features=auto, min_samples_leaf=3, min_samples_split=2, n_estimators=1400 \n",
      "[CV]  bootstrap=True, max_depth=90, max_features=auto, min_samples_leaf=3, min_samples_split=2, n_estimators=1300, total=   8.7s\n",
      "[CV] bootstrap=True, max_depth=90, max_features=auto, min_samples_leaf=3, min_samples_split=3, n_estimators=1100 \n",
      "[CV]  bootstrap=True, max_depth=90, max_features=auto, min_samples_leaf=3, min_samples_split=2, n_estimators=1300, total=  10.6s\n",
      "[CV] bootstrap=True, max_depth=90, max_features=auto, min_samples_leaf=3, min_samples_split=3, n_estimators=1100 \n",
      "[CV]  bootstrap=True, max_depth=90, max_features=auto, min_samples_leaf=3, min_samples_split=2, n_estimators=1300, total=  11.3s\n",
      "[CV] bootstrap=True, max_depth=90, max_features=auto, min_samples_leaf=3, min_samples_split=3, n_estimators=1100 \n",
      "[CV]  bootstrap=True, max_depth=90, max_features=auto, min_samples_leaf=3, min_samples_split=2, n_estimators=1400, total=  12.3s\n",
      "[CV] bootstrap=True, max_depth=90, max_features=auto, min_samples_leaf=3, min_samples_split=3, n_estimators=1100 \n",
      "[CV]  bootstrap=True, max_depth=90, max_features=auto, min_samples_leaf=3, min_samples_split=3, n_estimators=1100, total=   8.6s\n",
      "[CV] bootstrap=True, max_depth=90, max_features=auto, min_samples_leaf=3, min_samples_split=3, n_estimators=1100 \n",
      "[CV]  bootstrap=True, max_depth=90, max_features=auto, min_samples_leaf=3, min_samples_split=2, n_estimators=1400, total=  11.2s\n",
      "[CV] bootstrap=True, max_depth=90, max_features=auto, min_samples_leaf=3, min_samples_split=3, n_estimators=1200 \n",
      "[CV]  bootstrap=True, max_depth=90, max_features=auto, min_samples_leaf=3, min_samples_split=2, n_estimators=1400, total=  11.5s\n",
      "[CV] bootstrap=True, max_depth=90, max_features=auto, min_samples_leaf=3, min_samples_split=3, n_estimators=1200 \n",
      "[CV]  bootstrap=True, max_depth=90, max_features=auto, min_samples_leaf=3, min_samples_split=2, n_estimators=1400, total=  11.5s\n",
      "[CV]  bootstrap=True, max_depth=90, max_features=auto, min_samples_leaf=3, min_samples_split=2, n_estimators=1400, total=  11.4s\n",
      "[CV] bootstrap=True, max_depth=90, max_features=auto, min_samples_leaf=3, min_samples_split=3, n_estimators=1200 \n",
      "[CV] bootstrap=True, max_depth=90, max_features=auto, min_samples_leaf=3, min_samples_split=3, n_estimators=1200 \n",
      "[CV]  bootstrap=True, max_depth=90, max_features=auto, min_samples_leaf=3, min_samples_split=3, n_estimators=1100, total=   9.5s\n",
      "[CV] bootstrap=True, max_depth=90, max_features=auto, min_samples_leaf=3, min_samples_split=3, n_estimators=1200 \n",
      "[CV]  bootstrap=True, max_depth=90, max_features=auto, min_samples_leaf=3, min_samples_split=3, n_estimators=1100, total=  10.5s\n",
      "[CV] bootstrap=True, max_depth=90, max_features=auto, min_samples_leaf=3, min_samples_split=3, n_estimators=1300 \n",
      "[CV]  bootstrap=True, max_depth=90, max_features=auto, min_samples_leaf=3, min_samples_split=3, n_estimators=1100, total=  10.8s\n",
      "[CV] bootstrap=True, max_depth=90, max_features=auto, min_samples_leaf=3, min_samples_split=3, n_estimators=1300 \n",
      "[CV]  bootstrap=True, max_depth=90, max_features=auto, min_samples_leaf=3, min_samples_split=3, n_estimators=1100, total=   8.7s\n",
      "[CV] bootstrap=True, max_depth=90, max_features=auto, min_samples_leaf=3, min_samples_split=3, n_estimators=1300 \n"
     ]
    },
    {
     "name": "stderr",
     "output_type": "stream",
     "text": [
      "[Parallel(n_jobs=-1)]: Done  25 tasks      | elapsed:   36.8s\n"
     ]
    },
    {
     "name": "stdout",
     "output_type": "stream",
     "text": [
      "[CV]  bootstrap=True, max_depth=90, max_features=auto, min_samples_leaf=3, min_samples_split=3, n_estimators=1200, total=   8.7s\n",
      "[CV] bootstrap=True, max_depth=90, max_features=auto, min_samples_leaf=3, min_samples_split=3, n_estimators=1300 \n",
      "[CV]  bootstrap=True, max_depth=90, max_features=auto, min_samples_leaf=3, min_samples_split=3, n_estimators=1200, total=   8.9s\n",
      "[CV] bootstrap=True, max_depth=90, max_features=auto, min_samples_leaf=3, min_samples_split=3, n_estimators=1300 \n",
      "[CV]  bootstrap=True, max_depth=90, max_features=auto, min_samples_leaf=3, min_samples_split=3, n_estimators=1200, total=   9.3s\n",
      "[CV] bootstrap=True, max_depth=90, max_features=auto, min_samples_leaf=3, min_samples_split=3, n_estimators=1400 \n",
      "[CV]  bootstrap=True, max_depth=90, max_features=auto, min_samples_leaf=3, min_samples_split=3, n_estimators=1200, total=   9.3s\n",
      "[CV] bootstrap=True, max_depth=90, max_features=auto, min_samples_leaf=3, min_samples_split=3, n_estimators=1400 \n",
      "[CV]  bootstrap=True, max_depth=90, max_features=auto, min_samples_leaf=3, min_samples_split=3, n_estimators=1200, total=  10.8s\n",
      "[CV] bootstrap=True, max_depth=90, max_features=auto, min_samples_leaf=3, min_samples_split=3, n_estimators=1400 \n",
      "[CV]  bootstrap=True, max_depth=90, max_features=auto, min_samples_leaf=3, min_samples_split=3, n_estimators=1300, total=  10.9s\n",
      "[CV] bootstrap=True, max_depth=90, max_features=auto, min_samples_leaf=3, min_samples_split=3, n_estimators=1400 \n",
      "[CV]  bootstrap=True, max_depth=90, max_features=auto, min_samples_leaf=3, min_samples_split=3, n_estimators=1300, total=  10.7s\n",
      "[CV] bootstrap=True, max_depth=90, max_features=auto, min_samples_leaf=3, min_samples_split=3, n_estimators=1400 \n",
      "[CV]  bootstrap=True, max_depth=90, max_features=auto, min_samples_leaf=3, min_samples_split=3, n_estimators=1300, total=   9.8s\n",
      "[CV] bootstrap=True, max_depth=90, max_features=auto, min_samples_leaf=4, min_samples_split=2, n_estimators=1100 \n",
      "[CV]  bootstrap=True, max_depth=90, max_features=auto, min_samples_leaf=3, min_samples_split=3, n_estimators=1300, total=   9.4s\n",
      "[CV] bootstrap=True, max_depth=90, max_features=auto, min_samples_leaf=4, min_samples_split=2, n_estimators=1100 \n",
      "[CV]  bootstrap=True, max_depth=90, max_features=auto, min_samples_leaf=3, min_samples_split=3, n_estimators=1300, total=   9.6s\n",
      "[CV] bootstrap=True, max_depth=90, max_features=auto, min_samples_leaf=4, min_samples_split=2, n_estimators=1100 \n",
      "[CV]  bootstrap=True, max_depth=90, max_features=auto, min_samples_leaf=3, min_samples_split=3, n_estimators=1400, total=  11.6s\n",
      "[CV] bootstrap=True, max_depth=90, max_features=auto, min_samples_leaf=4, min_samples_split=2, n_estimators=1100 \n",
      "[CV]  bootstrap=True, max_depth=90, max_features=auto, min_samples_leaf=3, min_samples_split=3, n_estimators=1400, total=  11.7s\n",
      "[CV] bootstrap=True, max_depth=90, max_features=auto, min_samples_leaf=4, min_samples_split=2, n_estimators=1100 \n",
      "[CV]  bootstrap=True, max_depth=90, max_features=auto, min_samples_leaf=3, min_samples_split=3, n_estimators=1400, total=  13.0s\n",
      "[CV] bootstrap=True, max_depth=90, max_features=auto, min_samples_leaf=4, min_samples_split=2, n_estimators=1200 \n",
      "[CV]  bootstrap=True, max_depth=90, max_features=auto, min_samples_leaf=4, min_samples_split=2, n_estimators=1100, total=   9.7s\n",
      "[CV] bootstrap=True, max_depth=90, max_features=auto, min_samples_leaf=4, min_samples_split=2, n_estimators=1200 \n",
      "[CV]  bootstrap=True, max_depth=90, max_features=auto, min_samples_leaf=3, min_samples_split=3, n_estimators=1400, total=  12.6s\n",
      "[CV] bootstrap=True, max_depth=90, max_features=auto, min_samples_leaf=4, min_samples_split=2, n_estimators=1200 \n",
      "[CV]  bootstrap=True, max_depth=90, max_features=auto, min_samples_leaf=4, min_samples_split=2, n_estimators=1100, total=   9.5s\n",
      "[CV] bootstrap=True, max_depth=90, max_features=auto, min_samples_leaf=4, min_samples_split=2, n_estimators=1200 \n",
      "[CV]  bootstrap=True, max_depth=90, max_features=auto, min_samples_leaf=4, min_samples_split=2, n_estimators=1100, total=   9.4s\n",
      "[CV] bootstrap=True, max_depth=90, max_features=auto, min_samples_leaf=4, min_samples_split=2, n_estimators=1200 \n",
      "[CV]  bootstrap=True, max_depth=90, max_features=auto, min_samples_leaf=3, min_samples_split=3, n_estimators=1400, total=  12.9s\n",
      "[CV] bootstrap=True, max_depth=90, max_features=auto, min_samples_leaf=4, min_samples_split=2, n_estimators=1300 \n",
      "[CV]  bootstrap=True, max_depth=90, max_features=auto, min_samples_leaf=4, min_samples_split=2, n_estimators=1100, total=  10.2s\n",
      "[CV] bootstrap=True, max_depth=90, max_features=auto, min_samples_leaf=4, min_samples_split=2, n_estimators=1300 \n",
      "[CV]  bootstrap=True, max_depth=90, max_features=auto, min_samples_leaf=4, min_samples_split=2, n_estimators=1100, total=  10.5s\n",
      "[CV] bootstrap=True, max_depth=90, max_features=auto, min_samples_leaf=4, min_samples_split=2, n_estimators=1300 \n",
      "[CV]  bootstrap=True, max_depth=90, max_features=auto, min_samples_leaf=4, min_samples_split=2, n_estimators=1200, total=   8.6s\n",
      "[CV] bootstrap=True, max_depth=90, max_features=auto, min_samples_leaf=4, min_samples_split=2, n_estimators=1300 \n",
      "[CV]  bootstrap=True, max_depth=90, max_features=auto, min_samples_leaf=4, min_samples_split=2, n_estimators=1200, total=   8.6s\n",
      "[CV] bootstrap=True, max_depth=90, max_features=auto, min_samples_leaf=4, min_samples_split=2, n_estimators=1300 \n",
      "[CV]  bootstrap=True, max_depth=90, max_features=auto, min_samples_leaf=4, min_samples_split=2, n_estimators=1200, total=   8.6s\n",
      "[CV] bootstrap=True, max_depth=90, max_features=auto, min_samples_leaf=4, min_samples_split=2, n_estimators=1400 \n",
      "[CV]  bootstrap=True, max_depth=90, max_features=auto, min_samples_leaf=4, min_samples_split=2, n_estimators=1200, total=   8.8s\n",
      "[CV] bootstrap=True, max_depth=90, max_features=auto, min_samples_leaf=4, min_samples_split=2, n_estimators=1400 \n",
      "[CV]  bootstrap=True, max_depth=90, max_features=auto, min_samples_leaf=4, min_samples_split=2, n_estimators=1200, total=   9.8s\n",
      "[CV] bootstrap=True, max_depth=90, max_features=auto, min_samples_leaf=4, min_samples_split=2, n_estimators=1400 \n",
      "[CV]  bootstrap=True, max_depth=90, max_features=auto, min_samples_leaf=4, min_samples_split=2, n_estimators=1300, total=  11.2s\n",
      "[CV] bootstrap=True, max_depth=90, max_features=auto, min_samples_leaf=4, min_samples_split=2, n_estimators=1400 \n",
      "[CV]  bootstrap=True, max_depth=90, max_features=auto, min_samples_leaf=4, min_samples_split=2, n_estimators=1300, total=  11.2s\n",
      "[CV] bootstrap=True, max_depth=90, max_features=auto, min_samples_leaf=4, min_samples_split=2, n_estimators=1400 \n",
      "[CV]  bootstrap=True, max_depth=90, max_features=auto, min_samples_leaf=4, min_samples_split=2, n_estimators=1300, total=  11.1s\n",
      "[CV] bootstrap=True, max_depth=90, max_features=auto, min_samples_leaf=4, min_samples_split=3, n_estimators=1100 \n",
      "[CV]  bootstrap=True, max_depth=90, max_features=auto, min_samples_leaf=4, min_samples_split=2, n_estimators=1300, total=   9.5s\n",
      "[CV] bootstrap=True, max_depth=90, max_features=auto, min_samples_leaf=4, min_samples_split=3, n_estimators=1100 \n",
      "[CV]  bootstrap=True, max_depth=90, max_features=auto, min_samples_leaf=4, min_samples_split=2, n_estimators=1300, total=   9.4s\n",
      "[CV] bootstrap=True, max_depth=90, max_features=auto, min_samples_leaf=4, min_samples_split=3, n_estimators=1100 \n",
      "[CV]  bootstrap=True, max_depth=90, max_features=auto, min_samples_leaf=4, min_samples_split=2, n_estimators=1400, total=  11.3s\n",
      "[CV] bootstrap=True, max_depth=90, max_features=auto, min_samples_leaf=4, min_samples_split=3, n_estimators=1100 \n",
      "[CV]  bootstrap=True, max_depth=90, max_features=auto, min_samples_leaf=4, min_samples_split=2, n_estimators=1400, total=  11.4s\n",
      "[CV] bootstrap=True, max_depth=90, max_features=auto, min_samples_leaf=4, min_samples_split=3, n_estimators=1100 \n",
      "[CV]  bootstrap=True, max_depth=90, max_features=auto, min_samples_leaf=4, min_samples_split=2, n_estimators=1400, total=  11.8s\n",
      "[CV] bootstrap=True, max_depth=90, max_features=auto, min_samples_leaf=4, min_samples_split=3, n_estimators=1200 \n",
      "[CV]  bootstrap=True, max_depth=90, max_features=auto, min_samples_leaf=4, min_samples_split=3, n_estimators=1100, total=   9.3s\n",
      "[CV] bootstrap=True, max_depth=90, max_features=auto, min_samples_leaf=4, min_samples_split=3, n_estimators=1200 \n"
     ]
    },
    {
     "name": "stdout",
     "output_type": "stream",
     "text": [
      "[CV]  bootstrap=True, max_depth=90, max_features=auto, min_samples_leaf=4, min_samples_split=2, n_estimators=1400, total=  12.7s\n",
      "[CV] bootstrap=True, max_depth=90, max_features=auto, min_samples_leaf=4, min_samples_split=3, n_estimators=1200 \n",
      "[CV]  bootstrap=True, max_depth=90, max_features=auto, min_samples_leaf=4, min_samples_split=3, n_estimators=1100, total=   9.1s\n",
      "[CV] bootstrap=True, max_depth=90, max_features=auto, min_samples_leaf=4, min_samples_split=3, n_estimators=1200 \n",
      "[CV]  bootstrap=True, max_depth=90, max_features=auto, min_samples_leaf=4, min_samples_split=3, n_estimators=1100, total=   9.2s\n",
      "[CV] bootstrap=True, max_depth=90, max_features=auto, min_samples_leaf=4, min_samples_split=3, n_estimators=1200 \n",
      "[CV]  bootstrap=True, max_depth=90, max_features=auto, min_samples_leaf=4, min_samples_split=2, n_estimators=1400, total=  12.2s\n",
      "[CV] bootstrap=True, max_depth=90, max_features=auto, min_samples_leaf=4, min_samples_split=3, n_estimators=1300 \n",
      "[CV]  bootstrap=True, max_depth=90, max_features=auto, min_samples_leaf=4, min_samples_split=3, n_estimators=1100, total=  10.3s\n",
      "[CV] bootstrap=True, max_depth=90, max_features=auto, min_samples_leaf=4, min_samples_split=3, n_estimators=1300 \n",
      "[CV]  bootstrap=True, max_depth=90, max_features=auto, min_samples_leaf=4, min_samples_split=3, n_estimators=1100, total=  10.1s\n",
      "[CV] bootstrap=True, max_depth=90, max_features=auto, min_samples_leaf=4, min_samples_split=3, n_estimators=1300 \n",
      "[CV]  bootstrap=True, max_depth=90, max_features=auto, min_samples_leaf=4, min_samples_split=3, n_estimators=1200, total=  10.1s\n",
      "[CV] bootstrap=True, max_depth=90, max_features=auto, min_samples_leaf=4, min_samples_split=3, n_estimators=1300 \n",
      "[CV]  bootstrap=True, max_depth=90, max_features=auto, min_samples_leaf=4, min_samples_split=3, n_estimators=1200, total=   8.9s\n",
      "[CV] bootstrap=True, max_depth=90, max_features=auto, min_samples_leaf=4, min_samples_split=3, n_estimators=1300 \n",
      "[CV]  bootstrap=True, max_depth=90, max_features=auto, min_samples_leaf=4, min_samples_split=3, n_estimators=1200, total=   8.8s\n",
      "[CV] bootstrap=True, max_depth=90, max_features=auto, min_samples_leaf=4, min_samples_split=3, n_estimators=1400 \n",
      "[CV]  bootstrap=True, max_depth=90, max_features=auto, min_samples_leaf=4, min_samples_split=3, n_estimators=1200, total=   9.3s\n",
      "[CV] bootstrap=True, max_depth=90, max_features=auto, min_samples_leaf=4, min_samples_split=3, n_estimators=1400 \n",
      "[CV]  bootstrap=True, max_depth=90, max_features=auto, min_samples_leaf=4, min_samples_split=3, n_estimators=1200, total=   9.6s\n",
      "[CV] bootstrap=True, max_depth=90, max_features=auto, min_samples_leaf=4, min_samples_split=3, n_estimators=1400 \n",
      "[CV]  bootstrap=True, max_depth=90, max_features=auto, min_samples_leaf=4, min_samples_split=3, n_estimators=1300, total=  11.4s\n",
      "[CV] bootstrap=True, max_depth=90, max_features=auto, min_samples_leaf=4, min_samples_split=3, n_estimators=1400 \n",
      "[CV]  bootstrap=True, max_depth=90, max_features=auto, min_samples_leaf=4, min_samples_split=3, n_estimators=1300, total=  10.1s\n",
      "[CV] bootstrap=True, max_depth=90, max_features=auto, min_samples_leaf=4, min_samples_split=3, n_estimators=1400 \n",
      "[CV]  bootstrap=True, max_depth=90, max_features=auto, min_samples_leaf=4, min_samples_split=3, n_estimators=1300, total=  10.0s\n",
      "[CV] bootstrap=True, max_depth=90, max_features=auto, min_samples_leaf=5, min_samples_split=2, n_estimators=1100 \n",
      "[CV]  bootstrap=True, max_depth=90, max_features=auto, min_samples_leaf=4, min_samples_split=3, n_estimators=1300, total=   9.9s\n",
      "[CV] bootstrap=True, max_depth=90, max_features=auto, min_samples_leaf=5, min_samples_split=2, n_estimators=1100 \n",
      "[CV]  bootstrap=True, max_depth=90, max_features=auto, min_samples_leaf=4, min_samples_split=3, n_estimators=1300, total=   9.6s\n",
      "[CV] bootstrap=True, max_depth=90, max_features=auto, min_samples_leaf=5, min_samples_split=2, n_estimators=1100 \n",
      "[CV]  bootstrap=True, max_depth=90, max_features=auto, min_samples_leaf=4, min_samples_split=3, n_estimators=1400, total=  10.7s\n",
      "[CV] bootstrap=True, max_depth=90, max_features=auto, min_samples_leaf=5, min_samples_split=2, n_estimators=1100 \n",
      "[CV]  bootstrap=True, max_depth=90, max_features=auto, min_samples_leaf=4, min_samples_split=3, n_estimators=1400, total=  11.8s\n",
      "[CV] bootstrap=True, max_depth=90, max_features=auto, min_samples_leaf=5, min_samples_split=2, n_estimators=1100 \n",
      "[CV]  bootstrap=True, max_depth=90, max_features=auto, min_samples_leaf=4, min_samples_split=3, n_estimators=1400, total=  12.0s\n",
      "[CV] bootstrap=True, max_depth=90, max_features=auto, min_samples_leaf=5, min_samples_split=2, n_estimators=1200 \n",
      "[CV]  bootstrap=True, max_depth=90, max_features=auto, min_samples_leaf=5, min_samples_split=2, n_estimators=1100, total=   8.6s\n",
      "[CV] bootstrap=True, max_depth=90, max_features=auto, min_samples_leaf=5, min_samples_split=2, n_estimators=1200 \n",
      "[CV]  bootstrap=True, max_depth=90, max_features=auto, min_samples_leaf=4, min_samples_split=3, n_estimators=1400, total=  11.6s\n",
      "[CV] bootstrap=True, max_depth=90, max_features=auto, min_samples_leaf=5, min_samples_split=2, n_estimators=1200 \n",
      "[CV]  bootstrap=True, max_depth=90, max_features=auto, min_samples_leaf=5, min_samples_split=2, n_estimators=1100, total=   9.2s\n",
      "[CV] bootstrap=True, max_depth=90, max_features=auto, min_samples_leaf=5, min_samples_split=2, n_estimators=1200 \n",
      "[CV]  bootstrap=True, max_depth=90, max_features=auto, min_samples_leaf=4, min_samples_split=3, n_estimators=1400, total=  11.8s\n",
      "[CV] bootstrap=True, max_depth=90, max_features=auto, min_samples_leaf=5, min_samples_split=2, n_estimators=1200 \n",
      "[CV]  bootstrap=True, max_depth=90, max_features=auto, min_samples_leaf=5, min_samples_split=2, n_estimators=1100, total=   9.6s\n",
      "[CV] bootstrap=True, max_depth=90, max_features=auto, min_samples_leaf=5, min_samples_split=2, n_estimators=1300 \n",
      "[CV]  bootstrap=True, max_depth=90, max_features=auto, min_samples_leaf=5, min_samples_split=2, n_estimators=1100, total=   9.7s\n",
      "[CV] bootstrap=True, max_depth=90, max_features=auto, min_samples_leaf=5, min_samples_split=2, n_estimators=1300 \n",
      "[CV]  bootstrap=True, max_depth=90, max_features=auto, min_samples_leaf=5, min_samples_split=2, n_estimators=1100, total=   9.1s\n",
      "[CV] bootstrap=True, max_depth=90, max_features=auto, min_samples_leaf=5, min_samples_split=2, n_estimators=1300 \n",
      "[CV]  bootstrap=True, max_depth=90, max_features=auto, min_samples_leaf=5, min_samples_split=2, n_estimators=1200, total=   9.5s\n",
      "[CV] bootstrap=True, max_depth=90, max_features=auto, min_samples_leaf=5, min_samples_split=2, n_estimators=1300 \n",
      "[CV]  bootstrap=True, max_depth=90, max_features=auto, min_samples_leaf=5, min_samples_split=2, n_estimators=1200, total=   9.0s\n",
      "[CV] bootstrap=True, max_depth=90, max_features=auto, min_samples_leaf=5, min_samples_split=2, n_estimators=1300 \n",
      "[CV]  bootstrap=True, max_depth=90, max_features=auto, min_samples_leaf=5, min_samples_split=2, n_estimators=1200, total=   8.7s\n",
      "[CV] bootstrap=True, max_depth=90, max_features=auto, min_samples_leaf=5, min_samples_split=2, n_estimators=1400 \n",
      "[CV]  bootstrap=True, max_depth=90, max_features=auto, min_samples_leaf=5, min_samples_split=2, n_estimators=1200, total=   9.2s\n",
      "[CV] bootstrap=True, max_depth=90, max_features=auto, min_samples_leaf=5, min_samples_split=2, n_estimators=1400 \n",
      "[CV]  bootstrap=True, max_depth=90, max_features=auto, min_samples_leaf=5, min_samples_split=2, n_estimators=1200, total=   9.6s\n",
      "[CV] bootstrap=True, max_depth=90, max_features=auto, min_samples_leaf=5, min_samples_split=2, n_estimators=1400 \n",
      "[CV]  bootstrap=True, max_depth=90, max_features=auto, min_samples_leaf=5, min_samples_split=2, n_estimators=1300, total=  10.5s\n",
      "[CV] bootstrap=True, max_depth=90, max_features=auto, min_samples_leaf=5, min_samples_split=2, n_estimators=1400 \n",
      "[CV]  bootstrap=True, max_depth=90, max_features=auto, min_samples_leaf=5, min_samples_split=2, n_estimators=1300, total=  10.6s\n",
      "[CV] bootstrap=True, max_depth=90, max_features=auto, min_samples_leaf=5, min_samples_split=2, n_estimators=1400 \n",
      "[CV]  bootstrap=True, max_depth=90, max_features=auto, min_samples_leaf=5, min_samples_split=2, n_estimators=1300, total=  10.1s\n",
      "[CV] bootstrap=True, max_depth=90, max_features=auto, min_samples_leaf=5, min_samples_split=3, n_estimators=1100 \n"
     ]
    },
    {
     "name": "stdout",
     "output_type": "stream",
     "text": [
      "[CV]  bootstrap=True, max_depth=90, max_features=auto, min_samples_leaf=5, min_samples_split=2, n_estimators=1300, total=   9.8s\n",
      "[CV] bootstrap=True, max_depth=90, max_features=auto, min_samples_leaf=5, min_samples_split=3, n_estimators=1100 \n",
      "[CV]  bootstrap=True, max_depth=90, max_features=auto, min_samples_leaf=5, min_samples_split=2, n_estimators=1300, total=  10.0s\n",
      "[CV] bootstrap=True, max_depth=90, max_features=auto, min_samples_leaf=5, min_samples_split=3, n_estimators=1100 \n",
      "[CV]  bootstrap=True, max_depth=90, max_features=auto, min_samples_leaf=5, min_samples_split=2, n_estimators=1400, total=  11.1s\n",
      "[CV] bootstrap=True, max_depth=90, max_features=auto, min_samples_leaf=5, min_samples_split=3, n_estimators=1100 \n",
      "[CV]  bootstrap=True, max_depth=90, max_features=auto, min_samples_leaf=5, min_samples_split=2, n_estimators=1400, total=  11.5s\n",
      "[CV] bootstrap=True, max_depth=90, max_features=auto, min_samples_leaf=5, min_samples_split=3, n_estimators=1100 \n",
      "[CV]  bootstrap=True, max_depth=90, max_features=auto, min_samples_leaf=5, min_samples_split=2, n_estimators=1400, total=  11.8s\n",
      "[CV] bootstrap=True, max_depth=90, max_features=auto, min_samples_leaf=5, min_samples_split=3, n_estimators=1200 \n",
      "[CV]  bootstrap=True, max_depth=90, max_features=auto, min_samples_leaf=5, min_samples_split=3, n_estimators=1100, total=   9.1s\n",
      "[CV] bootstrap=True, max_depth=90, max_features=auto, min_samples_leaf=5, min_samples_split=3, n_estimators=1200 \n",
      "[CV]  bootstrap=True, max_depth=90, max_features=auto, min_samples_leaf=5, min_samples_split=2, n_estimators=1400, total=  12.0s\n",
      "[CV] bootstrap=True, max_depth=90, max_features=auto, min_samples_leaf=5, min_samples_split=3, n_estimators=1200 \n",
      "[CV]  bootstrap=True, max_depth=90, max_features=auto, min_samples_leaf=5, min_samples_split=3, n_estimators=1100, total=   9.4s\n",
      "[CV] bootstrap=True, max_depth=90, max_features=auto, min_samples_leaf=5, min_samples_split=3, n_estimators=1200 \n",
      "[CV]  bootstrap=True, max_depth=90, max_features=auto, min_samples_leaf=5, min_samples_split=2, n_estimators=1400, total=  11.9s\n",
      "[CV] bootstrap=True, max_depth=90, max_features=auto, min_samples_leaf=5, min_samples_split=3, n_estimators=1200 \n",
      "[CV]  bootstrap=True, max_depth=90, max_features=auto, min_samples_leaf=5, min_samples_split=3, n_estimators=1100, total=  10.7s\n",
      "[CV] bootstrap=True, max_depth=90, max_features=auto, min_samples_leaf=5, min_samples_split=3, n_estimators=1300 \n",
      "[CV]  bootstrap=True, max_depth=90, max_features=auto, min_samples_leaf=5, min_samples_split=3, n_estimators=1100, total=  10.1s\n",
      "[CV] bootstrap=True, max_depth=90, max_features=auto, min_samples_leaf=5, min_samples_split=3, n_estimators=1300 \n",
      "[CV]  bootstrap=True, max_depth=90, max_features=auto, min_samples_leaf=5, min_samples_split=3, n_estimators=1100, total=   9.1s\n",
      "[CV] bootstrap=True, max_depth=90, max_features=auto, min_samples_leaf=5, min_samples_split=3, n_estimators=1300 \n",
      "[CV]  bootstrap=True, max_depth=90, max_features=auto, min_samples_leaf=5, min_samples_split=3, n_estimators=1200, total=   9.4s\n",
      "[CV] bootstrap=True, max_depth=90, max_features=auto, min_samples_leaf=5, min_samples_split=3, n_estimators=1300 \n",
      "[CV]  bootstrap=True, max_depth=90, max_features=auto, min_samples_leaf=5, min_samples_split=3, n_estimators=1200, total=   9.1s\n",
      "[CV] bootstrap=True, max_depth=90, max_features=auto, min_samples_leaf=5, min_samples_split=3, n_estimators=1300 \n",
      "[CV]  bootstrap=True, max_depth=90, max_features=auto, min_samples_leaf=5, min_samples_split=3, n_estimators=1200, total=   9.3s\n",
      "[CV] bootstrap=True, max_depth=90, max_features=auto, min_samples_leaf=5, min_samples_split=3, n_estimators=1400 \n",
      "[CV]  bootstrap=True, max_depth=90, max_features=auto, min_samples_leaf=5, min_samples_split=3, n_estimators=1200, total=   9.4s\n",
      "[CV] bootstrap=True, max_depth=90, max_features=auto, min_samples_leaf=5, min_samples_split=3, n_estimators=1400 \n",
      "[CV]  bootstrap=True, max_depth=90, max_features=auto, min_samples_leaf=5, min_samples_split=3, n_estimators=1200, total=  10.3s\n",
      "[CV] bootstrap=True, max_depth=90, max_features=auto, min_samples_leaf=5, min_samples_split=3, n_estimators=1400 \n",
      "[CV]  bootstrap=True, max_depth=90, max_features=auto, min_samples_leaf=5, min_samples_split=3, n_estimators=1300, total=  11.6s\n",
      "[CV] bootstrap=True, max_depth=90, max_features=auto, min_samples_leaf=5, min_samples_split=3, n_estimators=1400 \n",
      "[CV]  bootstrap=True, max_depth=90, max_features=auto, min_samples_leaf=5, min_samples_split=3, n_estimators=1300, total=  11.0s\n",
      "[CV] bootstrap=True, max_depth=90, max_features=auto, min_samples_leaf=5, min_samples_split=3, n_estimators=1400 \n",
      "[CV]  bootstrap=True, max_depth=90, max_features=auto, min_samples_leaf=5, min_samples_split=3, n_estimators=1300, total=  10.4s\n",
      "[CV] bootstrap=True, max_depth=100, max_features=auto, min_samples_leaf=3, min_samples_split=2, n_estimators=1100 \n",
      "[CV]  bootstrap=True, max_depth=90, max_features=auto, min_samples_leaf=5, min_samples_split=3, n_estimators=1300, total=  10.4s\n",
      "[CV] bootstrap=True, max_depth=100, max_features=auto, min_samples_leaf=3, min_samples_split=2, n_estimators=1100 \n",
      "[CV]  bootstrap=True, max_depth=90, max_features=auto, min_samples_leaf=5, min_samples_split=3, n_estimators=1300, total=   9.9s\n",
      "[CV] bootstrap=True, max_depth=100, max_features=auto, min_samples_leaf=3, min_samples_split=2, n_estimators=1100 \n",
      "[CV]  bootstrap=True, max_depth=90, max_features=auto, min_samples_leaf=5, min_samples_split=3, n_estimators=1400, total=  11.0s\n",
      "[CV] bootstrap=True, max_depth=100, max_features=auto, min_samples_leaf=3, min_samples_split=2, n_estimators=1100 \n",
      "[CV]  bootstrap=True, max_depth=90, max_features=auto, min_samples_leaf=5, min_samples_split=3, n_estimators=1400, total=  11.4s\n",
      "[CV] bootstrap=True, max_depth=100, max_features=auto, min_samples_leaf=3, min_samples_split=2, n_estimators=1100 \n",
      "[CV]  bootstrap=True, max_depth=90, max_features=auto, min_samples_leaf=5, min_samples_split=3, n_estimators=1400, total=  12.8s\n",
      "[CV] bootstrap=True, max_depth=100, max_features=auto, min_samples_leaf=3, min_samples_split=2, n_estimators=1200 \n",
      "[CV]  bootstrap=True, max_depth=100, max_features=auto, min_samples_leaf=3, min_samples_split=2, n_estimators=1100, total=   9.5s\n",
      "[CV] bootstrap=True, max_depth=100, max_features=auto, min_samples_leaf=3, min_samples_split=2, n_estimators=1200 \n",
      "[CV]  bootstrap=True, max_depth=90, max_features=auto, min_samples_leaf=5, min_samples_split=3, n_estimators=1400, total=  12.5s\n",
      "[CV] bootstrap=True, max_depth=100, max_features=auto, min_samples_leaf=3, min_samples_split=2, n_estimators=1200 \n",
      "[CV]  bootstrap=True, max_depth=90, max_features=auto, min_samples_leaf=5, min_samples_split=3, n_estimators=1400, total=  12.1s\n",
      "[CV] bootstrap=True, max_depth=100, max_features=auto, min_samples_leaf=3, min_samples_split=2, n_estimators=1200 \n",
      "[CV]  bootstrap=True, max_depth=100, max_features=auto, min_samples_leaf=3, min_samples_split=2, n_estimators=1100, total=   9.6s\n",
      "[CV] bootstrap=True, max_depth=100, max_features=auto, min_samples_leaf=3, min_samples_split=2, n_estimators=1200 \n",
      "[CV]  bootstrap=True, max_depth=100, max_features=auto, min_samples_leaf=3, min_samples_split=2, n_estimators=1100, total=   9.7s\n",
      "[CV] bootstrap=True, max_depth=100, max_features=auto, min_samples_leaf=3, min_samples_split=2, n_estimators=1300 \n",
      "[CV]  bootstrap=True, max_depth=100, max_features=auto, min_samples_leaf=3, min_samples_split=2, n_estimators=1100, total=  10.7s\n",
      "[CV] bootstrap=True, max_depth=100, max_features=auto, min_samples_leaf=3, min_samples_split=2, n_estimators=1300 \n",
      "[CV]  bootstrap=True, max_depth=100, max_features=auto, min_samples_leaf=3, min_samples_split=2, n_estimators=1100, total=  10.9s\n",
      "[CV] bootstrap=True, max_depth=100, max_features=auto, min_samples_leaf=3, min_samples_split=2, n_estimators=1300 \n",
      "[CV]  bootstrap=True, max_depth=100, max_features=auto, min_samples_leaf=3, min_samples_split=2, n_estimators=1200, total=  10.3s\n",
      "[CV] bootstrap=True, max_depth=100, max_features=auto, min_samples_leaf=3, min_samples_split=2, n_estimators=1300 \n",
      "[CV]  bootstrap=True, max_depth=100, max_features=auto, min_samples_leaf=3, min_samples_split=2, n_estimators=1200, total=   9.8s\n",
      "[CV] bootstrap=True, max_depth=100, max_features=auto, min_samples_leaf=3, min_samples_split=2, n_estimators=1300 \n"
     ]
    },
    {
     "name": "stdout",
     "output_type": "stream",
     "text": [
      "[CV]  bootstrap=True, max_depth=100, max_features=auto, min_samples_leaf=3, min_samples_split=2, n_estimators=1200, total=   9.3s\n",
      "[CV] bootstrap=True, max_depth=100, max_features=auto, min_samples_leaf=3, min_samples_split=2, n_estimators=1400 \n",
      "[CV]  bootstrap=True, max_depth=100, max_features=auto, min_samples_leaf=3, min_samples_split=2, n_estimators=1200, total=   9.8s\n",
      "[CV] bootstrap=True, max_depth=100, max_features=auto, min_samples_leaf=3, min_samples_split=2, n_estimators=1400 \n",
      "[CV]  bootstrap=True, max_depth=100, max_features=auto, min_samples_leaf=3, min_samples_split=2, n_estimators=1200, total=   9.9s\n",
      "[CV] bootstrap=True, max_depth=100, max_features=auto, min_samples_leaf=3, min_samples_split=2, n_estimators=1400 \n",
      "[CV]  bootstrap=True, max_depth=100, max_features=auto, min_samples_leaf=3, min_samples_split=2, n_estimators=1300, total=  12.2s\n",
      "[CV] bootstrap=True, max_depth=100, max_features=auto, min_samples_leaf=3, min_samples_split=2, n_estimators=1400 \n",
      "[CV]  bootstrap=True, max_depth=100, max_features=auto, min_samples_leaf=3, min_samples_split=2, n_estimators=1300, total=  11.8s\n",
      "[CV] bootstrap=True, max_depth=100, max_features=auto, min_samples_leaf=3, min_samples_split=2, n_estimators=1400 \n",
      "[CV]  bootstrap=True, max_depth=100, max_features=auto, min_samples_leaf=3, min_samples_split=2, n_estimators=1300, total=  11.5s\n",
      "[CV] bootstrap=True, max_depth=100, max_features=auto, min_samples_leaf=3, min_samples_split=3, n_estimators=1100 \n",
      "[CV]  bootstrap=True, max_depth=100, max_features=auto, min_samples_leaf=3, min_samples_split=2, n_estimators=1300, total=  10.2s\n",
      "[CV] bootstrap=True, max_depth=100, max_features=auto, min_samples_leaf=3, min_samples_split=3, n_estimators=1100 \n",
      "[CV]  bootstrap=True, max_depth=100, max_features=auto, min_samples_leaf=3, min_samples_split=2, n_estimators=1300, total=  10.1s\n",
      "[CV] bootstrap=True, max_depth=100, max_features=auto, min_samples_leaf=3, min_samples_split=3, n_estimators=1100 \n",
      "[CV]  bootstrap=True, max_depth=100, max_features=auto, min_samples_leaf=3, min_samples_split=2, n_estimators=1400, total=  11.4s\n",
      "[CV] bootstrap=True, max_depth=100, max_features=auto, min_samples_leaf=3, min_samples_split=3, n_estimators=1100 \n",
      "[CV]  bootstrap=True, max_depth=100, max_features=auto, min_samples_leaf=3, min_samples_split=2, n_estimators=1400, total=  12.0s\n",
      "[CV] bootstrap=True, max_depth=100, max_features=auto, min_samples_leaf=3, min_samples_split=3, n_estimators=1100 \n",
      "[CV]  bootstrap=True, max_depth=100, max_features=auto, min_samples_leaf=3, min_samples_split=2, n_estimators=1400, total=  12.0s\n",
      "[CV] bootstrap=True, max_depth=100, max_features=auto, min_samples_leaf=3, min_samples_split=3, n_estimators=1200 \n",
      "[CV]  bootstrap=True, max_depth=100, max_features=auto, min_samples_leaf=3, min_samples_split=3, n_estimators=1100, total=  10.1s\n",
      "[CV] bootstrap=True, max_depth=100, max_features=auto, min_samples_leaf=3, min_samples_split=3, n_estimators=1200 \n",
      "[CV]  bootstrap=True, max_depth=100, max_features=auto, min_samples_leaf=3, min_samples_split=2, n_estimators=1400, total=  14.0s\n",
      "[CV] bootstrap=True, max_depth=100, max_features=auto, min_samples_leaf=3, min_samples_split=3, n_estimators=1200 \n",
      "[CV]  bootstrap=True, max_depth=100, max_features=auto, min_samples_leaf=3, min_samples_split=3, n_estimators=1100, total=  10.0s\n",
      "[CV] bootstrap=True, max_depth=100, max_features=auto, min_samples_leaf=3, min_samples_split=3, n_estimators=1200 \n",
      "[CV]  bootstrap=True, max_depth=100, max_features=auto, min_samples_leaf=3, min_samples_split=2, n_estimators=1400, total=  12.7s\n",
      "[CV] bootstrap=True, max_depth=100, max_features=auto, min_samples_leaf=3, min_samples_split=3, n_estimators=1200 \n",
      "[CV]  bootstrap=True, max_depth=100, max_features=auto, min_samples_leaf=3, min_samples_split=3, n_estimators=1100, total=  10.0s\n",
      "[CV] bootstrap=True, max_depth=100, max_features=auto, min_samples_leaf=3, min_samples_split=3, n_estimators=1300 \n",
      "[CV]  bootstrap=True, max_depth=100, max_features=auto, min_samples_leaf=3, min_samples_split=3, n_estimators=1100, total=  10.6s\n",
      "[CV] bootstrap=True, max_depth=100, max_features=auto, min_samples_leaf=3, min_samples_split=3, n_estimators=1300 \n",
      "[CV]  bootstrap=True, max_depth=100, max_features=auto, min_samples_leaf=3, min_samples_split=3, n_estimators=1100, total=  10.3s\n",
      "[CV] bootstrap=True, max_depth=100, max_features=auto, min_samples_leaf=3, min_samples_split=3, n_estimators=1300 \n",
      "[CV]  bootstrap=True, max_depth=100, max_features=auto, min_samples_leaf=3, min_samples_split=3, n_estimators=1200, total=  11.1s\n",
      "[CV] bootstrap=True, max_depth=100, max_features=auto, min_samples_leaf=3, min_samples_split=3, n_estimators=1300 \n"
     ]
    },
    {
     "name": "stderr",
     "output_type": "stream",
     "text": [
      "[Parallel(n_jobs=-1)]: Done 146 tasks      | elapsed:  3.4min\n"
     ]
    },
    {
     "name": "stdout",
     "output_type": "stream",
     "text": [
      "[CV]  bootstrap=True, max_depth=100, max_features=auto, min_samples_leaf=3, min_samples_split=3, n_estimators=1200, total=   9.6s\n",
      "[CV] bootstrap=True, max_depth=100, max_features=auto, min_samples_leaf=3, min_samples_split=3, n_estimators=1300 \n",
      "[CV]  bootstrap=True, max_depth=100, max_features=auto, min_samples_leaf=3, min_samples_split=3, n_estimators=1200, total=   9.3s\n",
      "[CV] bootstrap=True, max_depth=100, max_features=auto, min_samples_leaf=3, min_samples_split=3, n_estimators=1400 \n",
      "[CV]  bootstrap=True, max_depth=100, max_features=auto, min_samples_leaf=3, min_samples_split=3, n_estimators=1200, total=   9.5s\n",
      "[CV] bootstrap=True, max_depth=100, max_features=auto, min_samples_leaf=3, min_samples_split=3, n_estimators=1400 \n",
      "[CV]  bootstrap=True, max_depth=100, max_features=auto, min_samples_leaf=3, min_samples_split=3, n_estimators=1200, total=  10.4s\n",
      "[CV] bootstrap=True, max_depth=100, max_features=auto, min_samples_leaf=3, min_samples_split=3, n_estimators=1400 \n",
      "[CV]  bootstrap=True, max_depth=100, max_features=auto, min_samples_leaf=3, min_samples_split=3, n_estimators=1300, total=  12.1s\n",
      "[CV] bootstrap=True, max_depth=100, max_features=auto, min_samples_leaf=3, min_samples_split=3, n_estimators=1400 \n",
      "[CV]  bootstrap=True, max_depth=100, max_features=auto, min_samples_leaf=3, min_samples_split=3, n_estimators=1300, total=  11.7s\n",
      "[CV] bootstrap=True, max_depth=100, max_features=auto, min_samples_leaf=3, min_samples_split=3, n_estimators=1400 \n",
      "[CV]  bootstrap=True, max_depth=100, max_features=auto, min_samples_leaf=3, min_samples_split=3, n_estimators=1300, total=  11.6s\n",
      "[CV] bootstrap=True, max_depth=100, max_features=auto, min_samples_leaf=4, min_samples_split=2, n_estimators=1100 \n",
      "[CV]  bootstrap=True, max_depth=100, max_features=auto, min_samples_leaf=3, min_samples_split=3, n_estimators=1300, total=  11.2s\n",
      "[CV] bootstrap=True, max_depth=100, max_features=auto, min_samples_leaf=4, min_samples_split=2, n_estimators=1100 \n",
      "[CV]  bootstrap=True, max_depth=100, max_features=auto, min_samples_leaf=3, min_samples_split=3, n_estimators=1300, total=  11.0s\n",
      "[CV] bootstrap=True, max_depth=100, max_features=auto, min_samples_leaf=4, min_samples_split=2, n_estimators=1100 \n",
      "[CV]  bootstrap=True, max_depth=100, max_features=auto, min_samples_leaf=3, min_samples_split=3, n_estimators=1400, total=  11.5s\n",
      "[CV] bootstrap=True, max_depth=100, max_features=auto, min_samples_leaf=4, min_samples_split=2, n_estimators=1100 \n",
      "[CV]  bootstrap=True, max_depth=100, max_features=auto, min_samples_leaf=3, min_samples_split=3, n_estimators=1400, total=  11.4s\n",
      "[CV] bootstrap=True, max_depth=100, max_features=auto, min_samples_leaf=4, min_samples_split=2, n_estimators=1100 \n",
      "[CV]  bootstrap=True, max_depth=100, max_features=auto, min_samples_leaf=3, min_samples_split=3, n_estimators=1400, total=  13.6s\n",
      "[CV] bootstrap=True, max_depth=100, max_features=auto, min_samples_leaf=4, min_samples_split=2, n_estimators=1200 \n",
      "[CV]  bootstrap=True, max_depth=100, max_features=auto, min_samples_leaf=4, min_samples_split=2, n_estimators=1100, total=   9.9s\n",
      "[CV] bootstrap=True, max_depth=100, max_features=auto, min_samples_leaf=4, min_samples_split=2, n_estimators=1200 \n",
      "[CV]  bootstrap=True, max_depth=100, max_features=auto, min_samples_leaf=3, min_samples_split=3, n_estimators=1400, total=  13.4s\n",
      "[CV] bootstrap=True, max_depth=100, max_features=auto, min_samples_leaf=4, min_samples_split=2, n_estimators=1200 \n",
      "[CV]  bootstrap=True, max_depth=100, max_features=auto, min_samples_leaf=4, min_samples_split=2, n_estimators=1100, total=   9.8s\n",
      "[CV] bootstrap=True, max_depth=100, max_features=auto, min_samples_leaf=4, min_samples_split=2, n_estimators=1200 \n",
      "[CV]  bootstrap=True, max_depth=100, max_features=auto, min_samples_leaf=3, min_samples_split=3, n_estimators=1400, total=  13.6s\n",
      "[CV] bootstrap=True, max_depth=100, max_features=auto, min_samples_leaf=4, min_samples_split=2, n_estimators=1200 \n",
      "[CV]  bootstrap=True, max_depth=100, max_features=auto, min_samples_leaf=4, min_samples_split=2, n_estimators=1100, total=  10.5s\n",
      "[CV] bootstrap=True, max_depth=100, max_features=auto, min_samples_leaf=4, min_samples_split=2, n_estimators=1300 \n",
      "[CV]  bootstrap=True, max_depth=100, max_features=auto, min_samples_leaf=4, min_samples_split=2, n_estimators=1100, total=  10.5s\n",
      "[CV] bootstrap=True, max_depth=100, max_features=auto, min_samples_leaf=4, min_samples_split=2, n_estimators=1300 \n",
      "[CV]  bootstrap=True, max_depth=100, max_features=auto, min_samples_leaf=4, min_samples_split=2, n_estimators=1100, total=  10.6s\n",
      "[CV] bootstrap=True, max_depth=100, max_features=auto, min_samples_leaf=4, min_samples_split=2, n_estimators=1300 \n",
      "[CV]  bootstrap=True, max_depth=100, max_features=auto, min_samples_leaf=4, min_samples_split=2, n_estimators=1200, total=  11.2s\n",
      "[CV] bootstrap=True, max_depth=100, max_features=auto, min_samples_leaf=4, min_samples_split=2, n_estimators=1300 \n",
      "[CV]  bootstrap=True, max_depth=100, max_features=auto, min_samples_leaf=4, min_samples_split=2, n_estimators=1200, total=   9.8s\n",
      "[CV] bootstrap=True, max_depth=100, max_features=auto, min_samples_leaf=4, min_samples_split=2, n_estimators=1300 \n",
      "[CV]  bootstrap=True, max_depth=100, max_features=auto, min_samples_leaf=4, min_samples_split=2, n_estimators=1200, total=   9.9s\n",
      "[CV] bootstrap=True, max_depth=100, max_features=auto, min_samples_leaf=4, min_samples_split=2, n_estimators=1400 \n",
      "[CV]  bootstrap=True, max_depth=100, max_features=auto, min_samples_leaf=4, min_samples_split=2, n_estimators=1200, total=  10.0s\n",
      "[CV] bootstrap=True, max_depth=100, max_features=auto, min_samples_leaf=4, min_samples_split=2, n_estimators=1400 \n",
      "[CV]  bootstrap=True, max_depth=100, max_features=auto, min_samples_leaf=4, min_samples_split=2, n_estimators=1200, total=  10.6s\n",
      "[CV] bootstrap=True, max_depth=100, max_features=auto, min_samples_leaf=4, min_samples_split=2, n_estimators=1400 \n",
      "[CV]  bootstrap=True, max_depth=100, max_features=auto, min_samples_leaf=4, min_samples_split=2, n_estimators=1300, total=  11.1s\n",
      "[CV] bootstrap=True, max_depth=100, max_features=auto, min_samples_leaf=4, min_samples_split=2, n_estimators=1400 \n",
      "[CV]  bootstrap=True, max_depth=100, max_features=auto, min_samples_leaf=4, min_samples_split=2, n_estimators=1300, total=  11.4s\n",
      "[CV] bootstrap=True, max_depth=100, max_features=auto, min_samples_leaf=4, min_samples_split=2, n_estimators=1400 \n",
      "[CV]  bootstrap=True, max_depth=100, max_features=auto, min_samples_leaf=4, min_samples_split=2, n_estimators=1300, total=  11.5s\n",
      "[CV] bootstrap=True, max_depth=100, max_features=auto, min_samples_leaf=4, min_samples_split=3, n_estimators=1100 \n",
      "[CV]  bootstrap=True, max_depth=100, max_features=auto, min_samples_leaf=4, min_samples_split=2, n_estimators=1300, total=  11.1s\n",
      "[CV] bootstrap=True, max_depth=100, max_features=auto, min_samples_leaf=4, min_samples_split=3, n_estimators=1100 \n",
      "[CV]  bootstrap=True, max_depth=100, max_features=auto, min_samples_leaf=4, min_samples_split=2, n_estimators=1300, total=  11.0s\n",
      "[CV] bootstrap=True, max_depth=100, max_features=auto, min_samples_leaf=4, min_samples_split=3, n_estimators=1100 \n",
      "[CV]  bootstrap=True, max_depth=100, max_features=auto, min_samples_leaf=4, min_samples_split=2, n_estimators=1400, total=  11.8s\n",
      "[CV] bootstrap=True, max_depth=100, max_features=auto, min_samples_leaf=4, min_samples_split=3, n_estimators=1100 \n",
      "[CV]  bootstrap=True, max_depth=100, max_features=auto, min_samples_leaf=4, min_samples_split=2, n_estimators=1400, total=  11.8s\n",
      "[CV] bootstrap=True, max_depth=100, max_features=auto, min_samples_leaf=4, min_samples_split=3, n_estimators=1100 \n",
      "[CV]  bootstrap=True, max_depth=100, max_features=auto, min_samples_leaf=4, min_samples_split=2, n_estimators=1400, total=  12.5s\n",
      "[CV] bootstrap=True, max_depth=100, max_features=auto, min_samples_leaf=4, min_samples_split=3, n_estimators=1200 \n",
      "[CV]  bootstrap=True, max_depth=100, max_features=auto, min_samples_leaf=4, min_samples_split=3, n_estimators=1100, total=   9.9s\n",
      "[CV] bootstrap=True, max_depth=100, max_features=auto, min_samples_leaf=4, min_samples_split=3, n_estimators=1200 \n",
      "[CV]  bootstrap=True, max_depth=100, max_features=auto, min_samples_leaf=4, min_samples_split=2, n_estimators=1400, total=  12.1s\n"
     ]
    },
    {
     "name": "stdout",
     "output_type": "stream",
     "text": [
      "[CV] bootstrap=True, max_depth=100, max_features=auto, min_samples_leaf=4, min_samples_split=3, n_estimators=1200 \n",
      "[CV]  bootstrap=True, max_depth=100, max_features=auto, min_samples_leaf=4, min_samples_split=2, n_estimators=1400, total=  13.1s\n",
      "[CV] bootstrap=True, max_depth=100, max_features=auto, min_samples_leaf=4, min_samples_split=3, n_estimators=1200 \n",
      "[CV]  bootstrap=True, max_depth=100, max_features=auto, min_samples_leaf=4, min_samples_split=3, n_estimators=1100, total=   9.2s\n",
      "[CV] bootstrap=True, max_depth=100, max_features=auto, min_samples_leaf=4, min_samples_split=3, n_estimators=1200 \n",
      "[CV]  bootstrap=True, max_depth=100, max_features=auto, min_samples_leaf=4, min_samples_split=3, n_estimators=1100, total=   9.4s\n",
      "[CV] bootstrap=True, max_depth=100, max_features=auto, min_samples_leaf=4, min_samples_split=3, n_estimators=1300 \n",
      "[CV]  bootstrap=True, max_depth=100, max_features=auto, min_samples_leaf=4, min_samples_split=3, n_estimators=1100, total=  10.3s\n",
      "[CV] bootstrap=True, max_depth=100, max_features=auto, min_samples_leaf=4, min_samples_split=3, n_estimators=1300 \n",
      "[CV]  bootstrap=True, max_depth=100, max_features=auto, min_samples_leaf=4, min_samples_split=3, n_estimators=1100, total=  10.8s\n",
      "[CV] bootstrap=True, max_depth=100, max_features=auto, min_samples_leaf=4, min_samples_split=3, n_estimators=1300 \n",
      "[CV]  bootstrap=True, max_depth=100, max_features=auto, min_samples_leaf=4, min_samples_split=3, n_estimators=1200, total=  10.4s\n",
      "[CV] bootstrap=True, max_depth=100, max_features=auto, min_samples_leaf=4, min_samples_split=3, n_estimators=1300 \n",
      "[CV]  bootstrap=True, max_depth=100, max_features=auto, min_samples_leaf=4, min_samples_split=3, n_estimators=1200, total=  10.3s\n",
      "[CV] bootstrap=True, max_depth=100, max_features=auto, min_samples_leaf=4, min_samples_split=3, n_estimators=1300 \n",
      "[CV]  bootstrap=True, max_depth=100, max_features=auto, min_samples_leaf=4, min_samples_split=3, n_estimators=1200, total=  10.0s\n",
      "[CV] bootstrap=True, max_depth=100, max_features=auto, min_samples_leaf=4, min_samples_split=3, n_estimators=1400 \n",
      "[CV]  bootstrap=True, max_depth=100, max_features=auto, min_samples_leaf=4, min_samples_split=3, n_estimators=1200, total=  10.0s\n",
      "[CV] bootstrap=True, max_depth=100, max_features=auto, min_samples_leaf=4, min_samples_split=3, n_estimators=1400 \n",
      "[CV]  bootstrap=True, max_depth=100, max_features=auto, min_samples_leaf=4, min_samples_split=3, n_estimators=1200, total=  10.1s\n",
      "[CV] bootstrap=True, max_depth=100, max_features=auto, min_samples_leaf=4, min_samples_split=3, n_estimators=1400 \n",
      "[CV]  bootstrap=True, max_depth=100, max_features=auto, min_samples_leaf=4, min_samples_split=3, n_estimators=1300, total=  10.9s\n",
      "[CV] bootstrap=True, max_depth=100, max_features=auto, min_samples_leaf=4, min_samples_split=3, n_estimators=1400 \n",
      "[CV]  bootstrap=True, max_depth=100, max_features=auto, min_samples_leaf=4, min_samples_split=3, n_estimators=1300, total=  11.4s\n",
      "[CV] bootstrap=True, max_depth=100, max_features=auto, min_samples_leaf=4, min_samples_split=3, n_estimators=1400 \n",
      "[CV]  bootstrap=True, max_depth=100, max_features=auto, min_samples_leaf=4, min_samples_split=3, n_estimators=1300, total=  11.9s\n",
      "[CV] bootstrap=True, max_depth=100, max_features=auto, min_samples_leaf=5, min_samples_split=2, n_estimators=1100 \n",
      "[CV]  bootstrap=True, max_depth=100, max_features=auto, min_samples_leaf=4, min_samples_split=3, n_estimators=1300, total=  10.6s\n",
      "[CV] bootstrap=True, max_depth=100, max_features=auto, min_samples_leaf=5, min_samples_split=2, n_estimators=1100 \n",
      "[CV]  bootstrap=True, max_depth=100, max_features=auto, min_samples_leaf=4, min_samples_split=3, n_estimators=1300, total=  10.4s\n",
      "[CV] bootstrap=True, max_depth=100, max_features=auto, min_samples_leaf=5, min_samples_split=2, n_estimators=1100 \n",
      "[CV]  bootstrap=True, max_depth=100, max_features=auto, min_samples_leaf=4, min_samples_split=3, n_estimators=1400, total=  11.5s\n",
      "[CV] bootstrap=True, max_depth=100, max_features=auto, min_samples_leaf=5, min_samples_split=2, n_estimators=1100 \n",
      "[CV]  bootstrap=True, max_depth=100, max_features=auto, min_samples_leaf=4, min_samples_split=3, n_estimators=1400, total=  12.0s\n",
      "[CV] bootstrap=True, max_depth=100, max_features=auto, min_samples_leaf=5, min_samples_split=2, n_estimators=1100 \n",
      "[CV]  bootstrap=True, max_depth=100, max_features=auto, min_samples_leaf=4, min_samples_split=3, n_estimators=1400, total=  12.2s\n",
      "[CV] bootstrap=True, max_depth=100, max_features=auto, min_samples_leaf=5, min_samples_split=2, n_estimators=1200 \n",
      "[CV]  bootstrap=True, max_depth=100, max_features=auto, min_samples_leaf=4, min_samples_split=3, n_estimators=1400, total=  12.9s\n",
      "[CV] bootstrap=True, max_depth=100, max_features=auto, min_samples_leaf=5, min_samples_split=2, n_estimators=1200 \n",
      "[CV]  bootstrap=True, max_depth=100, max_features=auto, min_samples_leaf=5, min_samples_split=2, n_estimators=1100, total=   9.9s\n",
      "[CV] bootstrap=True, max_depth=100, max_features=auto, min_samples_leaf=5, min_samples_split=2, n_estimators=1200 \n",
      "[CV]  bootstrap=True, max_depth=100, max_features=auto, min_samples_leaf=4, min_samples_split=3, n_estimators=1400, total=  13.4s\n",
      "[CV] bootstrap=True, max_depth=100, max_features=auto, min_samples_leaf=5, min_samples_split=2, n_estimators=1200 \n",
      "[CV]  bootstrap=True, max_depth=100, max_features=auto, min_samples_leaf=5, min_samples_split=2, n_estimators=1100, total=  10.6s\n",
      "[CV] bootstrap=True, max_depth=100, max_features=auto, min_samples_leaf=5, min_samples_split=2, n_estimators=1200 \n",
      "[CV]  bootstrap=True, max_depth=100, max_features=auto, min_samples_leaf=5, min_samples_split=2, n_estimators=1100, total=  10.8s\n",
      "[CV] bootstrap=True, max_depth=100, max_features=auto, min_samples_leaf=5, min_samples_split=2, n_estimators=1300 \n",
      "[CV]  bootstrap=True, max_depth=100, max_features=auto, min_samples_leaf=5, min_samples_split=2, n_estimators=1100, total=  11.0s\n",
      "[CV] bootstrap=True, max_depth=100, max_features=auto, min_samples_leaf=5, min_samples_split=2, n_estimators=1300 \n",
      "[CV]  bootstrap=True, max_depth=100, max_features=auto, min_samples_leaf=5, min_samples_split=2, n_estimators=1100, total=  10.6s\n",
      "[CV] bootstrap=True, max_depth=100, max_features=auto, min_samples_leaf=5, min_samples_split=2, n_estimators=1300 \n",
      "[CV]  bootstrap=True, max_depth=100, max_features=auto, min_samples_leaf=5, min_samples_split=2, n_estimators=1200, total=  10.8s\n",
      "[CV] bootstrap=True, max_depth=100, max_features=auto, min_samples_leaf=5, min_samples_split=2, n_estimators=1300 \n",
      "[CV]  bootstrap=True, max_depth=100, max_features=auto, min_samples_leaf=5, min_samples_split=2, n_estimators=1200, total=   9.8s\n",
      "[CV] bootstrap=True, max_depth=100, max_features=auto, min_samples_leaf=5, min_samples_split=2, n_estimators=1300 \n",
      "[CV]  bootstrap=True, max_depth=100, max_features=auto, min_samples_leaf=5, min_samples_split=2, n_estimators=1200, total=   9.4s\n",
      "[CV] bootstrap=True, max_depth=100, max_features=auto, min_samples_leaf=5, min_samples_split=2, n_estimators=1400 \n",
      "[CV]  bootstrap=True, max_depth=100, max_features=auto, min_samples_leaf=5, min_samples_split=2, n_estimators=1200, total=   9.6s\n",
      "[CV] bootstrap=True, max_depth=100, max_features=auto, min_samples_leaf=5, min_samples_split=2, n_estimators=1400 \n",
      "[CV]  bootstrap=True, max_depth=100, max_features=auto, min_samples_leaf=5, min_samples_split=2, n_estimators=1200, total=   9.9s\n",
      "[CV] bootstrap=True, max_depth=100, max_features=auto, min_samples_leaf=5, min_samples_split=2, n_estimators=1400 \n",
      "[CV]  bootstrap=True, max_depth=100, max_features=auto, min_samples_leaf=5, min_samples_split=2, n_estimators=1300, total=  10.8s\n",
      "[CV] bootstrap=True, max_depth=100, max_features=auto, min_samples_leaf=5, min_samples_split=2, n_estimators=1400 \n",
      "[CV]  bootstrap=True, max_depth=100, max_features=auto, min_samples_leaf=5, min_samples_split=2, n_estimators=1300, total=  11.2s\n",
      "[CV] bootstrap=True, max_depth=100, max_features=auto, min_samples_leaf=5, min_samples_split=2, n_estimators=1400 \n",
      "[CV]  bootstrap=True, max_depth=100, max_features=auto, min_samples_leaf=5, min_samples_split=2, n_estimators=1300, total=  10.4s\n",
      "[CV] bootstrap=True, max_depth=100, max_features=auto, min_samples_leaf=5, min_samples_split=3, n_estimators=1100 \n"
     ]
    },
    {
     "name": "stdout",
     "output_type": "stream",
     "text": [
      "[CV]  bootstrap=True, max_depth=100, max_features=auto, min_samples_leaf=5, min_samples_split=2, n_estimators=1300, total=   9.9s\n",
      "[CV] bootstrap=True, max_depth=100, max_features=auto, min_samples_leaf=5, min_samples_split=3, n_estimators=1100 \n",
      "[CV]  bootstrap=True, max_depth=100, max_features=auto, min_samples_leaf=5, min_samples_split=2, n_estimators=1300, total=  11.2s\n",
      "[CV] bootstrap=True, max_depth=100, max_features=auto, min_samples_leaf=5, min_samples_split=3, n_estimators=1100 \n",
      "[CV]  bootstrap=True, max_depth=100, max_features=auto, min_samples_leaf=5, min_samples_split=2, n_estimators=1400, total=  12.0s\n",
      "[CV] bootstrap=True, max_depth=100, max_features=auto, min_samples_leaf=5, min_samples_split=3, n_estimators=1100 \n",
      "[CV]  bootstrap=True, max_depth=100, max_features=auto, min_samples_leaf=5, min_samples_split=2, n_estimators=1400, total=  11.8s\n",
      "[CV] bootstrap=True, max_depth=100, max_features=auto, min_samples_leaf=5, min_samples_split=3, n_estimators=1100 \n",
      "[CV]  bootstrap=True, max_depth=100, max_features=auto, min_samples_leaf=5, min_samples_split=2, n_estimators=1400, total=  11.6s\n",
      "[CV] bootstrap=True, max_depth=100, max_features=auto, min_samples_leaf=5, min_samples_split=3, n_estimators=1200 \n",
      "[CV]  bootstrap=True, max_depth=100, max_features=auto, min_samples_leaf=5, min_samples_split=2, n_estimators=1400, total=  12.5s\n",
      "[CV]  bootstrap=True, max_depth=100, max_features=auto, min_samples_leaf=5, min_samples_split=3, n_estimators=1100, total=   8.9s\n",
      "[CV] bootstrap=True, max_depth=100, max_features=auto, min_samples_leaf=5, min_samples_split=3, n_estimators=1200 \n",
      "[CV] bootstrap=True, max_depth=100, max_features=auto, min_samples_leaf=5, min_samples_split=3, n_estimators=1200 \n",
      "[CV]  bootstrap=True, max_depth=100, max_features=auto, min_samples_leaf=5, min_samples_split=3, n_estimators=1100, total=   9.2s\n",
      "[CV] bootstrap=True, max_depth=100, max_features=auto, min_samples_leaf=5, min_samples_split=3, n_estimators=1200 \n",
      "[CV]  bootstrap=True, max_depth=100, max_features=auto, min_samples_leaf=5, min_samples_split=2, n_estimators=1400, total=  11.8s\n",
      "[CV] bootstrap=True, max_depth=100, max_features=auto, min_samples_leaf=5, min_samples_split=3, n_estimators=1200 \n",
      "[CV]  bootstrap=True, max_depth=100, max_features=auto, min_samples_leaf=5, min_samples_split=3, n_estimators=1100, total=  10.1s\n",
      "[CV] bootstrap=True, max_depth=100, max_features=auto, min_samples_leaf=5, min_samples_split=3, n_estimators=1300 \n",
      "[CV]  bootstrap=True, max_depth=100, max_features=auto, min_samples_leaf=5, min_samples_split=3, n_estimators=1100, total=   9.9s\n",
      "[CV] bootstrap=True, max_depth=100, max_features=auto, min_samples_leaf=5, min_samples_split=3, n_estimators=1300 \n",
      "[CV]  bootstrap=True, max_depth=100, max_features=auto, min_samples_leaf=5, min_samples_split=3, n_estimators=1100, total=   9.4s\n",
      "[CV] bootstrap=True, max_depth=100, max_features=auto, min_samples_leaf=5, min_samples_split=3, n_estimators=1300 \n",
      "[CV]  bootstrap=True, max_depth=100, max_features=auto, min_samples_leaf=5, min_samples_split=3, n_estimators=1200, total=  10.3s\n",
      "[CV] bootstrap=True, max_depth=100, max_features=auto, min_samples_leaf=5, min_samples_split=3, n_estimators=1300 \n",
      "[CV]  bootstrap=True, max_depth=100, max_features=auto, min_samples_leaf=5, min_samples_split=3, n_estimators=1200, total=   9.4s\n",
      "[CV] bootstrap=True, max_depth=100, max_features=auto, min_samples_leaf=5, min_samples_split=3, n_estimators=1300 \n",
      "[CV]  bootstrap=True, max_depth=100, max_features=auto, min_samples_leaf=5, min_samples_split=3, n_estimators=1200, total=   9.3s\n",
      "[CV] bootstrap=True, max_depth=100, max_features=auto, min_samples_leaf=5, min_samples_split=3, n_estimators=1400 \n",
      "[CV]  bootstrap=True, max_depth=100, max_features=auto, min_samples_leaf=5, min_samples_split=3, n_estimators=1200, total=  10.2s\n",
      "[CV] bootstrap=True, max_depth=100, max_features=auto, min_samples_leaf=5, min_samples_split=3, n_estimators=1400 \n",
      "[CV]  bootstrap=True, max_depth=100, max_features=auto, min_samples_leaf=5, min_samples_split=3, n_estimators=1200, total=  11.2s\n",
      "[CV] bootstrap=True, max_depth=100, max_features=auto, min_samples_leaf=5, min_samples_split=3, n_estimators=1400 \n",
      "[CV]  bootstrap=True, max_depth=100, max_features=auto, min_samples_leaf=5, min_samples_split=3, n_estimators=1300, total=  11.8s\n",
      "[CV] bootstrap=True, max_depth=100, max_features=auto, min_samples_leaf=5, min_samples_split=3, n_estimators=1400 \n",
      "[CV]  bootstrap=True, max_depth=100, max_features=auto, min_samples_leaf=5, min_samples_split=3, n_estimators=1300, total=  11.8s\n",
      "[CV] bootstrap=True, max_depth=100, max_features=auto, min_samples_leaf=5, min_samples_split=3, n_estimators=1400 \n",
      "[CV]  bootstrap=True, max_depth=100, max_features=auto, min_samples_leaf=5, min_samples_split=3, n_estimators=1300, total=  11.3s\n",
      "[CV] bootstrap=True, max_depth=110, max_features=auto, min_samples_leaf=3, min_samples_split=2, n_estimators=1100 \n",
      "[CV]  bootstrap=True, max_depth=100, max_features=auto, min_samples_leaf=5, min_samples_split=3, n_estimators=1300, total=  11.2s\n",
      "[CV] bootstrap=True, max_depth=110, max_features=auto, min_samples_leaf=3, min_samples_split=2, n_estimators=1100 \n",
      "[CV]  bootstrap=True, max_depth=100, max_features=auto, min_samples_leaf=5, min_samples_split=3, n_estimators=1300, total=  11.7s\n",
      "[CV] bootstrap=True, max_depth=110, max_features=auto, min_samples_leaf=3, min_samples_split=2, n_estimators=1100 \n",
      "[CV]  bootstrap=True, max_depth=100, max_features=auto, min_samples_leaf=5, min_samples_split=3, n_estimators=1400, total=  13.0s\n",
      "[CV] bootstrap=True, max_depth=110, max_features=auto, min_samples_leaf=3, min_samples_split=2, n_estimators=1100 \n",
      "[CV]  bootstrap=True, max_depth=100, max_features=auto, min_samples_leaf=5, min_samples_split=3, n_estimators=1400, total=  13.0s\n",
      "[CV] bootstrap=True, max_depth=110, max_features=auto, min_samples_leaf=3, min_samples_split=2, n_estimators=1100 \n",
      "[CV]  bootstrap=True, max_depth=110, max_features=auto, min_samples_leaf=3, min_samples_split=2, n_estimators=1100, total=   9.7s\n",
      "[CV] bootstrap=True, max_depth=110, max_features=auto, min_samples_leaf=3, min_samples_split=2, n_estimators=1200 \n",
      "[CV]  bootstrap=True, max_depth=100, max_features=auto, min_samples_leaf=5, min_samples_split=3, n_estimators=1400, total=  14.1s\n",
      "[CV] bootstrap=True, max_depth=110, max_features=auto, min_samples_leaf=3, min_samples_split=2, n_estimators=1200 \n",
      "[CV]  bootstrap=True, max_depth=100, max_features=auto, min_samples_leaf=5, min_samples_split=3, n_estimators=1400, total=  12.9s\n",
      "[CV] bootstrap=True, max_depth=110, max_features=auto, min_samples_leaf=3, min_samples_split=2, n_estimators=1200 \n",
      "[CV]  bootstrap=True, max_depth=100, max_features=auto, min_samples_leaf=5, min_samples_split=3, n_estimators=1400, total=  13.5s\n",
      "[CV] bootstrap=True, max_depth=110, max_features=auto, min_samples_leaf=3, min_samples_split=2, n_estimators=1200 \n",
      "[CV]  bootstrap=True, max_depth=110, max_features=auto, min_samples_leaf=3, min_samples_split=2, n_estimators=1100, total=  11.4s\n",
      "[CV] bootstrap=True, max_depth=110, max_features=auto, min_samples_leaf=3, min_samples_split=2, n_estimators=1200 \n",
      "[CV]  bootstrap=True, max_depth=110, max_features=auto, min_samples_leaf=3, min_samples_split=2, n_estimators=1100, total=  11.2s\n",
      "[CV] bootstrap=True, max_depth=110, max_features=auto, min_samples_leaf=3, min_samples_split=2, n_estimators=1300 \n",
      "[CV]  bootstrap=True, max_depth=110, max_features=auto, min_samples_leaf=3, min_samples_split=2, n_estimators=1100, total=  11.6s\n",
      "[CV] bootstrap=True, max_depth=110, max_features=auto, min_samples_leaf=3, min_samples_split=2, n_estimators=1300 \n",
      "[CV]  bootstrap=True, max_depth=110, max_features=auto, min_samples_leaf=3, min_samples_split=2, n_estimators=1100, total=  11.5s\n",
      "[CV] bootstrap=True, max_depth=110, max_features=auto, min_samples_leaf=3, min_samples_split=2, n_estimators=1300 \n",
      "[CV]  bootstrap=True, max_depth=110, max_features=auto, min_samples_leaf=3, min_samples_split=2, n_estimators=1200, total=  10.1s\n",
      "[CV] bootstrap=True, max_depth=110, max_features=auto, min_samples_leaf=3, min_samples_split=2, n_estimators=1300 \n",
      "[CV]  bootstrap=True, max_depth=110, max_features=auto, min_samples_leaf=3, min_samples_split=2, n_estimators=1200, total=  10.3s\n"
     ]
    },
    {
     "name": "stdout",
     "output_type": "stream",
     "text": [
      "[CV] bootstrap=True, max_depth=110, max_features=auto, min_samples_leaf=3, min_samples_split=2, n_estimators=1300 \n",
      "[CV]  bootstrap=True, max_depth=110, max_features=auto, min_samples_leaf=3, min_samples_split=2, n_estimators=1200, total=  10.1s\n",
      "[CV] bootstrap=True, max_depth=110, max_features=auto, min_samples_leaf=3, min_samples_split=2, n_estimators=1400 \n",
      "[CV]  bootstrap=True, max_depth=110, max_features=auto, min_samples_leaf=3, min_samples_split=2, n_estimators=1200, total=  10.4s\n",
      "[CV] bootstrap=True, max_depth=110, max_features=auto, min_samples_leaf=3, min_samples_split=2, n_estimators=1400 \n",
      "[CV]  bootstrap=True, max_depth=110, max_features=auto, min_samples_leaf=3, min_samples_split=2, n_estimators=1200, total=  10.9s\n",
      "[CV] bootstrap=True, max_depth=110, max_features=auto, min_samples_leaf=3, min_samples_split=2, n_estimators=1400 \n",
      "[CV]  bootstrap=True, max_depth=110, max_features=auto, min_samples_leaf=3, min_samples_split=2, n_estimators=1300, total=  12.0s\n",
      "[CV] bootstrap=True, max_depth=110, max_features=auto, min_samples_leaf=3, min_samples_split=2, n_estimators=1400 \n",
      "[CV]  bootstrap=True, max_depth=110, max_features=auto, min_samples_leaf=3, min_samples_split=2, n_estimators=1300, total=  11.5s\n",
      "[CV] bootstrap=True, max_depth=110, max_features=auto, min_samples_leaf=3, min_samples_split=2, n_estimators=1400 \n",
      "[CV]  bootstrap=True, max_depth=110, max_features=auto, min_samples_leaf=3, min_samples_split=2, n_estimators=1300, total=  10.9s\n",
      "[CV] bootstrap=True, max_depth=110, max_features=auto, min_samples_leaf=3, min_samples_split=3, n_estimators=1100 \n",
      "[CV]  bootstrap=True, max_depth=110, max_features=auto, min_samples_leaf=3, min_samples_split=2, n_estimators=1300, total=  10.4s\n",
      "[CV] bootstrap=True, max_depth=110, max_features=auto, min_samples_leaf=3, min_samples_split=3, n_estimators=1100 \n",
      "[CV]  bootstrap=True, max_depth=110, max_features=auto, min_samples_leaf=3, min_samples_split=2, n_estimators=1300, total=  11.5s\n",
      "[CV] bootstrap=True, max_depth=110, max_features=auto, min_samples_leaf=3, min_samples_split=3, n_estimators=1100 \n",
      "[CV]  bootstrap=True, max_depth=110, max_features=auto, min_samples_leaf=3, min_samples_split=2, n_estimators=1400, total=  11.3s\n",
      "[CV] bootstrap=True, max_depth=110, max_features=auto, min_samples_leaf=3, min_samples_split=3, n_estimators=1100 \n",
      "[CV]  bootstrap=True, max_depth=110, max_features=auto, min_samples_leaf=3, min_samples_split=2, n_estimators=1400, total=  12.3s\n",
      "[CV] bootstrap=True, max_depth=110, max_features=auto, min_samples_leaf=3, min_samples_split=3, n_estimators=1100 \n",
      "[CV]  bootstrap=True, max_depth=110, max_features=auto, min_samples_leaf=3, min_samples_split=2, n_estimators=1400, total=  12.9s\n",
      "[CV] bootstrap=True, max_depth=110, max_features=auto, min_samples_leaf=3, min_samples_split=3, n_estimators=1200 \n",
      "[CV]  bootstrap=True, max_depth=110, max_features=auto, min_samples_leaf=3, min_samples_split=3, n_estimators=1100, total=   9.5s\n",
      "[CV] bootstrap=True, max_depth=110, max_features=auto, min_samples_leaf=3, min_samples_split=3, n_estimators=1200 \n",
      "[CV]  bootstrap=True, max_depth=110, max_features=auto, min_samples_leaf=3, min_samples_split=2, n_estimators=1400, total=  12.6s\n",
      "[CV] bootstrap=True, max_depth=110, max_features=auto, min_samples_leaf=3, min_samples_split=3, n_estimators=1200 \n",
      "[CV]  bootstrap=True, max_depth=110, max_features=auto, min_samples_leaf=3, min_samples_split=3, n_estimators=1100, total=  10.2s\n",
      "[CV] bootstrap=True, max_depth=110, max_features=auto, min_samples_leaf=3, min_samples_split=3, n_estimators=1200 \n",
      "[CV]  bootstrap=True, max_depth=110, max_features=auto, min_samples_leaf=3, min_samples_split=2, n_estimators=1400, total=  12.9s\n",
      "[CV] bootstrap=True, max_depth=110, max_features=auto, min_samples_leaf=3, min_samples_split=3, n_estimators=1200 \n",
      "[CV]  bootstrap=True, max_depth=110, max_features=auto, min_samples_leaf=3, min_samples_split=3, n_estimators=1100, total=  10.7s\n",
      "[CV] bootstrap=True, max_depth=110, max_features=auto, min_samples_leaf=3, min_samples_split=3, n_estimators=1300 \n",
      "[CV]  bootstrap=True, max_depth=110, max_features=auto, min_samples_leaf=3, min_samples_split=3, n_estimators=1100, total=  10.8s\n",
      "[CV] bootstrap=True, max_depth=110, max_features=auto, min_samples_leaf=3, min_samples_split=3, n_estimators=1300 \n",
      "[CV]  bootstrap=True, max_depth=110, max_features=auto, min_samples_leaf=3, min_samples_split=3, n_estimators=1100, total=  10.7s\n",
      "[CV] bootstrap=True, max_depth=110, max_features=auto, min_samples_leaf=3, min_samples_split=3, n_estimators=1300 \n",
      "[CV]  bootstrap=True, max_depth=110, max_features=auto, min_samples_leaf=3, min_samples_split=3, n_estimators=1200, total=  11.0s\n",
      "[CV] bootstrap=True, max_depth=110, max_features=auto, min_samples_leaf=3, min_samples_split=3, n_estimators=1300 \n",
      "[CV]  bootstrap=True, max_depth=110, max_features=auto, min_samples_leaf=3, min_samples_split=3, n_estimators=1200, total=   9.7s\n",
      "[CV] bootstrap=True, max_depth=110, max_features=auto, min_samples_leaf=3, min_samples_split=3, n_estimators=1300 \n",
      "[CV]  bootstrap=True, max_depth=110, max_features=auto, min_samples_leaf=3, min_samples_split=3, n_estimators=1200, total=  11.1s\n",
      "[CV] bootstrap=True, max_depth=110, max_features=auto, min_samples_leaf=3, min_samples_split=3, n_estimators=1400 \n",
      "[CV]  bootstrap=True, max_depth=110, max_features=auto, min_samples_leaf=3, min_samples_split=3, n_estimators=1200, total=   9.8s\n",
      "[CV] bootstrap=True, max_depth=110, max_features=auto, min_samples_leaf=3, min_samples_split=3, n_estimators=1400 \n",
      "[CV]  bootstrap=True, max_depth=110, max_features=auto, min_samples_leaf=3, min_samples_split=3, n_estimators=1200, total=   9.9s\n",
      "[CV] bootstrap=True, max_depth=110, max_features=auto, min_samples_leaf=3, min_samples_split=3, n_estimators=1400 \n",
      "[CV]  bootstrap=True, max_depth=110, max_features=auto, min_samples_leaf=3, min_samples_split=3, n_estimators=1300, total=  11.7s\n",
      "[CV] bootstrap=True, max_depth=110, max_features=auto, min_samples_leaf=3, min_samples_split=3, n_estimators=1400 \n",
      "[CV]  bootstrap=True, max_depth=110, max_features=auto, min_samples_leaf=3, min_samples_split=3, n_estimators=1300, total=  12.0s\n",
      "[CV] bootstrap=True, max_depth=110, max_features=auto, min_samples_leaf=3, min_samples_split=3, n_estimators=1400 \n",
      "[CV]  bootstrap=True, max_depth=110, max_features=auto, min_samples_leaf=3, min_samples_split=3, n_estimators=1300, total=  11.1s\n",
      "[CV] bootstrap=True, max_depth=110, max_features=auto, min_samples_leaf=4, min_samples_split=2, n_estimators=1100 \n",
      "[CV]  bootstrap=True, max_depth=110, max_features=auto, min_samples_leaf=3, min_samples_split=3, n_estimators=1300, total=  10.4s\n",
      "[CV] bootstrap=True, max_depth=110, max_features=auto, min_samples_leaf=4, min_samples_split=2, n_estimators=1100 \n",
      "[CV]  bootstrap=True, max_depth=110, max_features=auto, min_samples_leaf=3, min_samples_split=3, n_estimators=1300, total=  10.6s\n",
      "[CV] bootstrap=True, max_depth=110, max_features=auto, min_samples_leaf=4, min_samples_split=2, n_estimators=1100 \n",
      "[CV]  bootstrap=True, max_depth=110, max_features=auto, min_samples_leaf=3, min_samples_split=3, n_estimators=1400, total=  12.0s\n",
      "[CV] bootstrap=True, max_depth=110, max_features=auto, min_samples_leaf=4, min_samples_split=2, n_estimators=1100 \n",
      "[CV]  bootstrap=True, max_depth=110, max_features=auto, min_samples_leaf=3, min_samples_split=3, n_estimators=1400, total=  11.8s\n",
      "[CV]  bootstrap=True, max_depth=110, max_features=auto, min_samples_leaf=3, min_samples_split=3, n_estimators=1400, total=  11.9s\n",
      "[CV] bootstrap=True, max_depth=110, max_features=auto, min_samples_leaf=4, min_samples_split=2, n_estimators=1100 \n",
      "[CV] bootstrap=True, max_depth=110, max_features=auto, min_samples_leaf=4, min_samples_split=2, n_estimators=1200 \n",
      "[CV]  bootstrap=True, max_depth=110, max_features=auto, min_samples_leaf=4, min_samples_split=2, n_estimators=1100, total=   9.8s\n",
      "[CV] bootstrap=True, max_depth=110, max_features=auto, min_samples_leaf=4, min_samples_split=2, n_estimators=1200 \n",
      "[CV]  bootstrap=True, max_depth=110, max_features=auto, min_samples_leaf=3, min_samples_split=3, n_estimators=1400, total=  13.4s\n",
      "[CV] bootstrap=True, max_depth=110, max_features=auto, min_samples_leaf=4, min_samples_split=2, n_estimators=1200 \n"
     ]
    },
    {
     "name": "stdout",
     "output_type": "stream",
     "text": [
      "[CV]  bootstrap=True, max_depth=110, max_features=auto, min_samples_leaf=3, min_samples_split=3, n_estimators=1400, total=  12.9s\n",
      "[CV] bootstrap=True, max_depth=110, max_features=auto, min_samples_leaf=4, min_samples_split=2, n_estimators=1200 \n",
      "[CV]  bootstrap=True, max_depth=110, max_features=auto, min_samples_leaf=4, min_samples_split=2, n_estimators=1100, total=  10.7s\n",
      "[CV] bootstrap=True, max_depth=110, max_features=auto, min_samples_leaf=4, min_samples_split=2, n_estimators=1200 \n",
      "[CV]  bootstrap=True, max_depth=110, max_features=auto, min_samples_leaf=4, min_samples_split=2, n_estimators=1100, total=  10.3s\n",
      "[CV] bootstrap=True, max_depth=110, max_features=auto, min_samples_leaf=4, min_samples_split=2, n_estimators=1300 \n",
      "[CV]  bootstrap=True, max_depth=110, max_features=auto, min_samples_leaf=4, min_samples_split=2, n_estimators=1100, total=  10.4s\n",
      "[CV] bootstrap=True, max_depth=110, max_features=auto, min_samples_leaf=4, min_samples_split=2, n_estimators=1300 \n",
      "[CV]  bootstrap=True, max_depth=110, max_features=auto, min_samples_leaf=4, min_samples_split=2, n_estimators=1100, total=  10.8s\n",
      "[CV] bootstrap=True, max_depth=110, max_features=auto, min_samples_leaf=4, min_samples_split=2, n_estimators=1300 \n",
      "[CV]  bootstrap=True, max_depth=110, max_features=auto, min_samples_leaf=4, min_samples_split=2, n_estimators=1200, total=  11.7s\n",
      "[CV] bootstrap=True, max_depth=110, max_features=auto, min_samples_leaf=4, min_samples_split=2, n_estimators=1300 \n",
      "[CV]  bootstrap=True, max_depth=110, max_features=auto, min_samples_leaf=4, min_samples_split=2, n_estimators=1200, total=   9.9s\n",
      "[CV] bootstrap=True, max_depth=110, max_features=auto, min_samples_leaf=4, min_samples_split=2, n_estimators=1300 \n",
      "[CV]  bootstrap=True, max_depth=110, max_features=auto, min_samples_leaf=4, min_samples_split=2, n_estimators=1200, total=  10.9s\n",
      "[CV] bootstrap=True, max_depth=110, max_features=auto, min_samples_leaf=4, min_samples_split=2, n_estimators=1400 \n",
      "[CV]  bootstrap=True, max_depth=110, max_features=auto, min_samples_leaf=4, min_samples_split=2, n_estimators=1200, total=   9.8s\n",
      "[CV] bootstrap=True, max_depth=110, max_features=auto, min_samples_leaf=4, min_samples_split=2, n_estimators=1400 \n",
      "[CV]  bootstrap=True, max_depth=110, max_features=auto, min_samples_leaf=4, min_samples_split=2, n_estimators=1200, total=  10.0s\n",
      "[CV] bootstrap=True, max_depth=110, max_features=auto, min_samples_leaf=4, min_samples_split=2, n_estimators=1400 \n",
      "[CV]  bootstrap=True, max_depth=110, max_features=auto, min_samples_leaf=4, min_samples_split=2, n_estimators=1300, total=  11.8s\n",
      "[CV] bootstrap=True, max_depth=110, max_features=auto, min_samples_leaf=4, min_samples_split=2, n_estimators=1400 \n",
      "[CV]  bootstrap=True, max_depth=110, max_features=auto, min_samples_leaf=4, min_samples_split=2, n_estimators=1300, total=  11.5s\n",
      "[CV] bootstrap=True, max_depth=110, max_features=auto, min_samples_leaf=4, min_samples_split=2, n_estimators=1400 \n",
      "[CV]  bootstrap=True, max_depth=110, max_features=auto, min_samples_leaf=4, min_samples_split=2, n_estimators=1300, total=  11.3s\n",
      "[CV] bootstrap=True, max_depth=110, max_features=auto, min_samples_leaf=4, min_samples_split=3, n_estimators=1100 \n",
      "[CV]  bootstrap=True, max_depth=110, max_features=auto, min_samples_leaf=4, min_samples_split=2, n_estimators=1300, total=  11.4s\n",
      "[CV] bootstrap=True, max_depth=110, max_features=auto, min_samples_leaf=4, min_samples_split=3, n_estimators=1100 \n",
      "[CV]  bootstrap=True, max_depth=110, max_features=auto, min_samples_leaf=4, min_samples_split=2, n_estimators=1300, total=  10.8s\n",
      "[CV] bootstrap=True, max_depth=110, max_features=auto, min_samples_leaf=4, min_samples_split=3, n_estimators=1100 \n",
      "[CV]  bootstrap=True, max_depth=110, max_features=auto, min_samples_leaf=4, min_samples_split=2, n_estimators=1400, total=  11.4s\n",
      "[CV] bootstrap=True, max_depth=110, max_features=auto, min_samples_leaf=4, min_samples_split=3, n_estimators=1100 \n",
      "[CV]  bootstrap=True, max_depth=110, max_features=auto, min_samples_leaf=4, min_samples_split=2, n_estimators=1400, total=  11.7s\n",
      "[CV] bootstrap=True, max_depth=110, max_features=auto, min_samples_leaf=4, min_samples_split=3, n_estimators=1100 \n",
      "[CV]  bootstrap=True, max_depth=110, max_features=auto, min_samples_leaf=4, min_samples_split=2, n_estimators=1400, total=  12.2s\n",
      "[CV] bootstrap=True, max_depth=110, max_features=auto, min_samples_leaf=4, min_samples_split=3, n_estimators=1200 \n",
      "[CV]  bootstrap=True, max_depth=110, max_features=auto, min_samples_leaf=4, min_samples_split=3, n_estimators=1100, total=   9.9s\n",
      "[CV] bootstrap=True, max_depth=110, max_features=auto, min_samples_leaf=4, min_samples_split=3, n_estimators=1200 \n",
      "[CV]  bootstrap=True, max_depth=110, max_features=auto, min_samples_leaf=4, min_samples_split=2, n_estimators=1400, total=  13.5s\n",
      "[CV] bootstrap=True, max_depth=110, max_features=auto, min_samples_leaf=4, min_samples_split=3, n_estimators=1200 \n",
      "[CV]  bootstrap=True, max_depth=110, max_features=auto, min_samples_leaf=4, min_samples_split=3, n_estimators=1100, total=   9.5s\n",
      "[CV] bootstrap=True, max_depth=110, max_features=auto, min_samples_leaf=4, min_samples_split=3, n_estimators=1200 \n",
      "[CV]  bootstrap=True, max_depth=110, max_features=auto, min_samples_leaf=4, min_samples_split=2, n_estimators=1400, total=  12.5s\n",
      "[CV] bootstrap=True, max_depth=110, max_features=auto, min_samples_leaf=4, min_samples_split=3, n_estimators=1200 \n",
      "[CV]  bootstrap=True, max_depth=110, max_features=auto, min_samples_leaf=4, min_samples_split=3, n_estimators=1100, total=   9.9s\n",
      "[CV] bootstrap=True, max_depth=110, max_features=auto, min_samples_leaf=4, min_samples_split=3, n_estimators=1300 \n",
      "[CV]  bootstrap=True, max_depth=110, max_features=auto, min_samples_leaf=4, min_samples_split=3, n_estimators=1100, total=  10.3s\n",
      "[CV] bootstrap=True, max_depth=110, max_features=auto, min_samples_leaf=4, min_samples_split=3, n_estimators=1300 \n",
      "[CV]  bootstrap=True, max_depth=110, max_features=auto, min_samples_leaf=4, min_samples_split=3, n_estimators=1100, total=  10.8s\n",
      "[CV] bootstrap=True, max_depth=110, max_features=auto, min_samples_leaf=4, min_samples_split=3, n_estimators=1300 \n",
      "[CV]  bootstrap=True, max_depth=110, max_features=auto, min_samples_leaf=4, min_samples_split=3, n_estimators=1200, total=  12.7s\n",
      "[CV] bootstrap=True, max_depth=110, max_features=auto, min_samples_leaf=4, min_samples_split=3, n_estimators=1300 \n",
      "[CV]  bootstrap=True, max_depth=110, max_features=auto, min_samples_leaf=4, min_samples_split=3, n_estimators=1200, total=  10.5s\n",
      "[CV]  bootstrap=True, max_depth=110, max_features=auto, min_samples_leaf=4, min_samples_split=3, n_estimators=1200, total=  10.4s\n",
      "[CV] bootstrap=True, max_depth=110, max_features=auto, min_samples_leaf=4, min_samples_split=3, n_estimators=1300 \n",
      "[CV] bootstrap=True, max_depth=110, max_features=auto, min_samples_leaf=4, min_samples_split=3, n_estimators=1400 \n",
      "[CV]  bootstrap=True, max_depth=110, max_features=auto, min_samples_leaf=4, min_samples_split=3, n_estimators=1200, total=  11.2s\n",
      "[CV] bootstrap=True, max_depth=110, max_features=auto, min_samples_leaf=4, min_samples_split=3, n_estimators=1400 \n",
      "[CV]  bootstrap=True, max_depth=110, max_features=auto, min_samples_leaf=4, min_samples_split=3, n_estimators=1200, total=  11.4s\n",
      "[CV] bootstrap=True, max_depth=110, max_features=auto, min_samples_leaf=4, min_samples_split=3, n_estimators=1400 \n",
      "[CV]  bootstrap=True, max_depth=110, max_features=auto, min_samples_leaf=4, min_samples_split=3, n_estimators=1300, total=  12.4s\n",
      "[CV] bootstrap=True, max_depth=110, max_features=auto, min_samples_leaf=4, min_samples_split=3, n_estimators=1400 \n",
      "[CV]  bootstrap=True, max_depth=110, max_features=auto, min_samples_leaf=4, min_samples_split=3, n_estimators=1300, total=  12.2s\n",
      "[CV] bootstrap=True, max_depth=110, max_features=auto, min_samples_leaf=4, min_samples_split=3, n_estimators=1400 \n",
      "[CV]  bootstrap=True, max_depth=110, max_features=auto, min_samples_leaf=4, min_samples_split=3, n_estimators=1300, total=  12.3s\n",
      "[CV] bootstrap=True, max_depth=110, max_features=auto, min_samples_leaf=5, min_samples_split=2, n_estimators=1100 \n",
      "[CV]  bootstrap=True, max_depth=110, max_features=auto, min_samples_leaf=4, min_samples_split=3, n_estimators=1300, total=  11.0s\n"
     ]
    },
    {
     "name": "stdout",
     "output_type": "stream",
     "text": [
      "[CV] bootstrap=True, max_depth=110, max_features=auto, min_samples_leaf=5, min_samples_split=2, n_estimators=1100 \n",
      "[CV]  bootstrap=True, max_depth=110, max_features=auto, min_samples_leaf=4, min_samples_split=3, n_estimators=1300, total=  10.5s\n",
      "[CV] bootstrap=True, max_depth=110, max_features=auto, min_samples_leaf=5, min_samples_split=2, n_estimators=1100 \n",
      "[CV]  bootstrap=True, max_depth=110, max_features=auto, min_samples_leaf=4, min_samples_split=3, n_estimators=1400, total=  12.2s\n",
      "[CV] bootstrap=True, max_depth=110, max_features=auto, min_samples_leaf=5, min_samples_split=2, n_estimators=1100 \n",
      "[CV]  bootstrap=True, max_depth=110, max_features=auto, min_samples_leaf=4, min_samples_split=3, n_estimators=1400, total=  12.3s\n",
      "[CV] bootstrap=True, max_depth=110, max_features=auto, min_samples_leaf=5, min_samples_split=2, n_estimators=1100 \n",
      "[CV]  bootstrap=True, max_depth=110, max_features=auto, min_samples_leaf=4, min_samples_split=3, n_estimators=1400, total=  12.5s\n",
      "[CV] bootstrap=True, max_depth=110, max_features=auto, min_samples_leaf=5, min_samples_split=2, n_estimators=1200 \n",
      "[CV]  bootstrap=True, max_depth=110, max_features=auto, min_samples_leaf=5, min_samples_split=2, n_estimators=1100, total=  10.2s\n",
      "[CV] bootstrap=True, max_depth=110, max_features=auto, min_samples_leaf=5, min_samples_split=2, n_estimators=1200 \n",
      "[CV]  bootstrap=True, max_depth=110, max_features=auto, min_samples_leaf=4, min_samples_split=3, n_estimators=1400, total=  13.2s\n",
      "[CV] bootstrap=True, max_depth=110, max_features=auto, min_samples_leaf=5, min_samples_split=2, n_estimators=1200 \n",
      "[CV]  bootstrap=True, max_depth=110, max_features=auto, min_samples_leaf=5, min_samples_split=2, n_estimators=1100, total=  10.0s\n",
      "[CV] bootstrap=True, max_depth=110, max_features=auto, min_samples_leaf=5, min_samples_split=2, n_estimators=1200 \n",
      "[CV]  bootstrap=True, max_depth=110, max_features=auto, min_samples_leaf=4, min_samples_split=3, n_estimators=1400, total=  13.2s\n",
      "[CV] bootstrap=True, max_depth=110, max_features=auto, min_samples_leaf=5, min_samples_split=2, n_estimators=1200 \n",
      "[CV]  bootstrap=True, max_depth=110, max_features=auto, min_samples_leaf=5, min_samples_split=2, n_estimators=1100, total=   9.8s\n",
      "[CV] bootstrap=True, max_depth=110, max_features=auto, min_samples_leaf=5, min_samples_split=2, n_estimators=1300 \n",
      "[CV]  bootstrap=True, max_depth=110, max_features=auto, min_samples_leaf=5, min_samples_split=2, n_estimators=1100, total=   9.8s\n",
      "[CV] bootstrap=True, max_depth=110, max_features=auto, min_samples_leaf=5, min_samples_split=2, n_estimators=1300 \n",
      "[CV]  bootstrap=True, max_depth=110, max_features=auto, min_samples_leaf=5, min_samples_split=2, n_estimators=1100, total=  10.3s\n",
      "[CV] bootstrap=True, max_depth=110, max_features=auto, min_samples_leaf=5, min_samples_split=2, n_estimators=1300 \n",
      "[CV]  bootstrap=True, max_depth=110, max_features=auto, min_samples_leaf=5, min_samples_split=2, n_estimators=1200, total=  10.9s\n",
      "[CV] bootstrap=True, max_depth=110, max_features=auto, min_samples_leaf=5, min_samples_split=2, n_estimators=1300 \n",
      "[CV]  bootstrap=True, max_depth=110, max_features=auto, min_samples_leaf=5, min_samples_split=2, n_estimators=1200, total=   9.5s\n",
      "[CV] bootstrap=True, max_depth=110, max_features=auto, min_samples_leaf=5, min_samples_split=2, n_estimators=1300 \n",
      "[CV]  bootstrap=True, max_depth=110, max_features=auto, min_samples_leaf=5, min_samples_split=2, n_estimators=1200, total=   9.4s\n",
      "[CV] bootstrap=True, max_depth=110, max_features=auto, min_samples_leaf=5, min_samples_split=2, n_estimators=1400 \n",
      "[CV]  bootstrap=True, max_depth=110, max_features=auto, min_samples_leaf=5, min_samples_split=2, n_estimators=1200, total=   9.4s\n",
      "[CV] bootstrap=True, max_depth=110, max_features=auto, min_samples_leaf=5, min_samples_split=2, n_estimators=1400 \n",
      "[CV]  bootstrap=True, max_depth=110, max_features=auto, min_samples_leaf=5, min_samples_split=2, n_estimators=1200, total=   9.4s\n",
      "[CV] bootstrap=True, max_depth=110, max_features=auto, min_samples_leaf=5, min_samples_split=2, n_estimators=1400 \n",
      "[CV]  bootstrap=True, max_depth=110, max_features=auto, min_samples_leaf=5, min_samples_split=2, n_estimators=1300, total=  11.4s\n",
      "[CV] bootstrap=True, max_depth=110, max_features=auto, min_samples_leaf=5, min_samples_split=2, n_estimators=1400 \n",
      "[CV]  bootstrap=True, max_depth=110, max_features=auto, min_samples_leaf=5, min_samples_split=2, n_estimators=1300, total=  11.2s\n",
      "[CV] bootstrap=True, max_depth=110, max_features=auto, min_samples_leaf=5, min_samples_split=2, n_estimators=1400 \n",
      "[CV]  bootstrap=True, max_depth=110, max_features=auto, min_samples_leaf=5, min_samples_split=2, n_estimators=1300, total=  11.1s\n",
      "[CV] bootstrap=True, max_depth=110, max_features=auto, min_samples_leaf=5, min_samples_split=3, n_estimators=1100 \n",
      "[CV]  bootstrap=True, max_depth=110, max_features=auto, min_samples_leaf=5, min_samples_split=2, n_estimators=1300, total=  11.0s\n",
      "[CV] bootstrap=True, max_depth=110, max_features=auto, min_samples_leaf=5, min_samples_split=3, n_estimators=1100 \n",
      "[CV]  bootstrap=True, max_depth=110, max_features=auto, min_samples_leaf=5, min_samples_split=2, n_estimators=1300, total=  10.2s\n",
      "[CV] bootstrap=True, max_depth=110, max_features=auto, min_samples_leaf=5, min_samples_split=3, n_estimators=1100 \n",
      "[CV]  bootstrap=True, max_depth=110, max_features=auto, min_samples_leaf=5, min_samples_split=2, n_estimators=1400, total=  11.5s\n",
      "[CV] bootstrap=True, max_depth=110, max_features=auto, min_samples_leaf=5, min_samples_split=3, n_estimators=1100 \n",
      "[CV]  bootstrap=True, max_depth=110, max_features=auto, min_samples_leaf=5, min_samples_split=2, n_estimators=1400, total=  11.8s\n",
      "[CV] bootstrap=True, max_depth=110, max_features=auto, min_samples_leaf=5, min_samples_split=3, n_estimators=1100 \n",
      "[CV]  bootstrap=True, max_depth=110, max_features=auto, min_samples_leaf=5, min_samples_split=2, n_estimators=1400, total=  11.9s\n",
      "[CV] bootstrap=True, max_depth=110, max_features=auto, min_samples_leaf=5, min_samples_split=3, n_estimators=1200 \n",
      "[CV]  bootstrap=True, max_depth=110, max_features=auto, min_samples_leaf=5, min_samples_split=3, n_estimators=1100, total=   9.9s\n",
      "[CV] bootstrap=True, max_depth=110, max_features=auto, min_samples_leaf=5, min_samples_split=3, n_estimators=1200 \n",
      "[CV]  bootstrap=True, max_depth=110, max_features=auto, min_samples_leaf=5, min_samples_split=2, n_estimators=1400, total=  13.1s\n",
      "[CV] bootstrap=True, max_depth=110, max_features=auto, min_samples_leaf=5, min_samples_split=3, n_estimators=1200 \n",
      "[CV]  bootstrap=True, max_depth=110, max_features=auto, min_samples_leaf=5, min_samples_split=3, n_estimators=1100, total=   9.8s\n",
      "[CV] bootstrap=True, max_depth=110, max_features=auto, min_samples_leaf=5, min_samples_split=3, n_estimators=1200 \n",
      "[CV]  bootstrap=True, max_depth=110, max_features=auto, min_samples_leaf=5, min_samples_split=2, n_estimators=1400, total=  12.5s\n",
      "[CV] bootstrap=True, max_depth=110, max_features=auto, min_samples_leaf=5, min_samples_split=3, n_estimators=1200 \n",
      "[CV]  bootstrap=True, max_depth=110, max_features=auto, min_samples_leaf=5, min_samples_split=3, n_estimators=1100, total=  10.4s\n",
      "[CV] bootstrap=True, max_depth=110, max_features=auto, min_samples_leaf=5, min_samples_split=3, n_estimators=1300 \n",
      "[CV]  bootstrap=True, max_depth=110, max_features=auto, min_samples_leaf=5, min_samples_split=3, n_estimators=1100, total=  10.1s\n",
      "[CV] bootstrap=True, max_depth=110, max_features=auto, min_samples_leaf=5, min_samples_split=3, n_estimators=1300 \n",
      "[CV]  bootstrap=True, max_depth=110, max_features=auto, min_samples_leaf=5, min_samples_split=3, n_estimators=1100, total=  10.3s\n",
      "[CV] bootstrap=True, max_depth=110, max_features=auto, min_samples_leaf=5, min_samples_split=3, n_estimators=1300 \n",
      "[CV]  bootstrap=True, max_depth=110, max_features=auto, min_samples_leaf=5, min_samples_split=3, n_estimators=1200, total=  12.3s\n",
      "[CV] bootstrap=True, max_depth=110, max_features=auto, min_samples_leaf=5, min_samples_split=3, n_estimators=1300 \n",
      "[CV]  bootstrap=True, max_depth=110, max_features=auto, min_samples_leaf=5, min_samples_split=3, n_estimators=1200, total=   9.4s\n",
      "[CV] bootstrap=True, max_depth=110, max_features=auto, min_samples_leaf=5, min_samples_split=3, n_estimators=1300 \n"
     ]
    },
    {
     "name": "stdout",
     "output_type": "stream",
     "text": [
      "[CV]  bootstrap=True, max_depth=110, max_features=auto, min_samples_leaf=5, min_samples_split=3, n_estimators=1200, total=   9.6s\n",
      "[CV] bootstrap=True, max_depth=110, max_features=auto, min_samples_leaf=5, min_samples_split=3, n_estimators=1400 \n",
      "[CV]  bootstrap=True, max_depth=110, max_features=auto, min_samples_leaf=5, min_samples_split=3, n_estimators=1200, total=   9.5s\n",
      "[CV] bootstrap=True, max_depth=110, max_features=auto, min_samples_leaf=5, min_samples_split=3, n_estimators=1400 \n"
     ]
    },
    {
     "name": "stderr",
     "output_type": "stream",
     "text": [
      "[Parallel(n_jobs=-1)]: Done 349 tasks      | elapsed:  8.4min\n"
     ]
    },
    {
     "name": "stdout",
     "output_type": "stream",
     "text": [
      "[CV]  bootstrap=True, max_depth=110, max_features=auto, min_samples_leaf=5, min_samples_split=3, n_estimators=1200, total=   9.9s\n",
      "[CV] bootstrap=True, max_depth=110, max_features=auto, min_samples_leaf=5, min_samples_split=3, n_estimators=1400 \n",
      "[CV]  bootstrap=True, max_depth=110, max_features=auto, min_samples_leaf=5, min_samples_split=3, n_estimators=1300, total=  12.0s\n",
      "[CV] bootstrap=True, max_depth=110, max_features=auto, min_samples_leaf=5, min_samples_split=3, n_estimators=1400 \n",
      "[CV]  bootstrap=True, max_depth=110, max_features=auto, min_samples_leaf=5, min_samples_split=3, n_estimators=1300, total=  11.6s\n",
      "[CV] bootstrap=True, max_depth=110, max_features=auto, min_samples_leaf=5, min_samples_split=3, n_estimators=1400 \n",
      "[CV]  bootstrap=True, max_depth=110, max_features=auto, min_samples_leaf=5, min_samples_split=3, n_estimators=1300, total=  10.8s\n",
      "[CV] bootstrap=True, max_depth=120, max_features=auto, min_samples_leaf=3, min_samples_split=2, n_estimators=1100 \n",
      "[CV]  bootstrap=True, max_depth=110, max_features=auto, min_samples_leaf=5, min_samples_split=3, n_estimators=1300, total=   9.2s\n",
      "[CV] bootstrap=True, max_depth=120, max_features=auto, min_samples_leaf=3, min_samples_split=2, n_estimators=1100 \n",
      "[CV]  bootstrap=True, max_depth=110, max_features=auto, min_samples_leaf=5, min_samples_split=3, n_estimators=1300, total=   9.7s\n",
      "[CV] bootstrap=True, max_depth=120, max_features=auto, min_samples_leaf=3, min_samples_split=2, n_estimators=1100 \n",
      "[CV]  bootstrap=True, max_depth=110, max_features=auto, min_samples_leaf=5, min_samples_split=3, n_estimators=1400, total=  11.0s\n",
      "[CV] bootstrap=True, max_depth=120, max_features=auto, min_samples_leaf=3, min_samples_split=2, n_estimators=1100 \n",
      "[CV]  bootstrap=True, max_depth=110, max_features=auto, min_samples_leaf=5, min_samples_split=3, n_estimators=1400, total=  11.5s\n",
      "[CV] bootstrap=True, max_depth=120, max_features=auto, min_samples_leaf=3, min_samples_split=2, n_estimators=1100 \n",
      "[CV]  bootstrap=True, max_depth=110, max_features=auto, min_samples_leaf=5, min_samples_split=3, n_estimators=1400, total=  12.9s\n",
      "[CV] bootstrap=True, max_depth=120, max_features=auto, min_samples_leaf=3, min_samples_split=2, n_estimators=1200 \n",
      "[CV]  bootstrap=True, max_depth=120, max_features=auto, min_samples_leaf=3, min_samples_split=2, n_estimators=1100, total=   9.4s\n",
      "[CV] bootstrap=True, max_depth=120, max_features=auto, min_samples_leaf=3, min_samples_split=2, n_estimators=1200 \n",
      "[CV]  bootstrap=True, max_depth=120, max_features=auto, min_samples_leaf=3, min_samples_split=2, n_estimators=1100, total=   9.4s\n",
      "[CV] bootstrap=True, max_depth=120, max_features=auto, min_samples_leaf=3, min_samples_split=2, n_estimators=1200 \n",
      "[CV]  bootstrap=True, max_depth=110, max_features=auto, min_samples_leaf=5, min_samples_split=3, n_estimators=1400, total=  12.6s\n",
      "[CV] bootstrap=True, max_depth=120, max_features=auto, min_samples_leaf=3, min_samples_split=2, n_estimators=1200 \n",
      "[CV]  bootstrap=True, max_depth=110, max_features=auto, min_samples_leaf=5, min_samples_split=3, n_estimators=1400, total=  12.7s\n",
      "[CV] bootstrap=True, max_depth=120, max_features=auto, min_samples_leaf=3, min_samples_split=2, n_estimators=1200 \n",
      "[CV]  bootstrap=True, max_depth=120, max_features=auto, min_samples_leaf=3, min_samples_split=2, n_estimators=1100, total=  10.0s\n",
      "[CV] bootstrap=True, max_depth=120, max_features=auto, min_samples_leaf=3, min_samples_split=2, n_estimators=1300 \n",
      "[CV]  bootstrap=True, max_depth=120, max_features=auto, min_samples_leaf=3, min_samples_split=2, n_estimators=1100, total=  10.2s\n",
      "[CV] bootstrap=True, max_depth=120, max_features=auto, min_samples_leaf=3, min_samples_split=2, n_estimators=1300 \n",
      "[CV]  bootstrap=True, max_depth=120, max_features=auto, min_samples_leaf=3, min_samples_split=2, n_estimators=1100, total=  10.9s\n",
      "[CV] bootstrap=True, max_depth=120, max_features=auto, min_samples_leaf=3, min_samples_split=2, n_estimators=1300 \n",
      "[CV]  bootstrap=True, max_depth=120, max_features=auto, min_samples_leaf=3, min_samples_split=2, n_estimators=1200, total=  11.4s\n",
      "[CV] bootstrap=True, max_depth=120, max_features=auto, min_samples_leaf=3, min_samples_split=2, n_estimators=1300 \n",
      "[CV]  bootstrap=True, max_depth=120, max_features=auto, min_samples_leaf=3, min_samples_split=2, n_estimators=1200, total=   9.9s\n",
      "[CV] bootstrap=True, max_depth=120, max_features=auto, min_samples_leaf=3, min_samples_split=2, n_estimators=1300 \n",
      "[CV]  bootstrap=True, max_depth=120, max_features=auto, min_samples_leaf=3, min_samples_split=2, n_estimators=1200, total=   9.7s\n",
      "[CV] bootstrap=True, max_depth=120, max_features=auto, min_samples_leaf=3, min_samples_split=2, n_estimators=1400 \n",
      "[CV]  bootstrap=True, max_depth=120, max_features=auto, min_samples_leaf=3, min_samples_split=2, n_estimators=1200, total=  10.1s\n",
      "[CV] bootstrap=True, max_depth=120, max_features=auto, min_samples_leaf=3, min_samples_split=2, n_estimators=1400 \n",
      "[CV]  bootstrap=True, max_depth=120, max_features=auto, min_samples_leaf=3, min_samples_split=2, n_estimators=1200, total=  10.8s\n",
      "[CV] bootstrap=True, max_depth=120, max_features=auto, min_samples_leaf=3, min_samples_split=2, n_estimators=1400 \n",
      "[CV]  bootstrap=True, max_depth=120, max_features=auto, min_samples_leaf=3, min_samples_split=2, n_estimators=1300, total=  11.5s\n",
      "[CV] bootstrap=True, max_depth=120, max_features=auto, min_samples_leaf=3, min_samples_split=2, n_estimators=1400 \n",
      "[CV]  bootstrap=True, max_depth=120, max_features=auto, min_samples_leaf=3, min_samples_split=2, n_estimators=1300, total=  12.4s\n",
      "[CV] bootstrap=True, max_depth=120, max_features=auto, min_samples_leaf=3, min_samples_split=2, n_estimators=1400 \n",
      "[CV]  bootstrap=True, max_depth=120, max_features=auto, min_samples_leaf=3, min_samples_split=2, n_estimators=1300, total=  12.5s\n",
      "[CV] bootstrap=True, max_depth=120, max_features=auto, min_samples_leaf=3, min_samples_split=3, n_estimators=1100 \n",
      "[CV]  bootstrap=True, max_depth=120, max_features=auto, min_samples_leaf=3, min_samples_split=2, n_estimators=1300, total=  10.9s\n",
      "[CV] bootstrap=True, max_depth=120, max_features=auto, min_samples_leaf=3, min_samples_split=3, n_estimators=1100 \n",
      "[CV]  bootstrap=True, max_depth=120, max_features=auto, min_samples_leaf=3, min_samples_split=2, n_estimators=1300, total=  11.9s\n",
      "[CV] bootstrap=True, max_depth=120, max_features=auto, min_samples_leaf=3, min_samples_split=3, n_estimators=1100 \n",
      "[CV]  bootstrap=True, max_depth=120, max_features=auto, min_samples_leaf=3, min_samples_split=2, n_estimators=1400, total=  12.5s\n",
      "[CV] bootstrap=True, max_depth=120, max_features=auto, min_samples_leaf=3, min_samples_split=3, n_estimators=1100 \n",
      "[CV]  bootstrap=True, max_depth=120, max_features=auto, min_samples_leaf=3, min_samples_split=2, n_estimators=1400, total=  12.7s\n",
      "[CV] bootstrap=True, max_depth=120, max_features=auto, min_samples_leaf=3, min_samples_split=3, n_estimators=1100 \n",
      "[CV]  bootstrap=True, max_depth=120, max_features=auto, min_samples_leaf=3, min_samples_split=2, n_estimators=1400, total=  13.6s\n",
      "[CV] bootstrap=True, max_depth=120, max_features=auto, min_samples_leaf=3, min_samples_split=3, n_estimators=1200 \n",
      "[CV]  bootstrap=True, max_depth=120, max_features=auto, min_samples_leaf=3, min_samples_split=2, n_estimators=1400, total=  13.9s\n",
      "[CV] bootstrap=True, max_depth=120, max_features=auto, min_samples_leaf=3, min_samples_split=3, n_estimators=1200 \n",
      "[CV]  bootstrap=True, max_depth=120, max_features=auto, min_samples_leaf=3, min_samples_split=3, n_estimators=1100, total=  11.0s\n",
      "[CV] bootstrap=True, max_depth=120, max_features=auto, min_samples_leaf=3, min_samples_split=3, n_estimators=1200 \n",
      "[CV]  bootstrap=True, max_depth=120, max_features=auto, min_samples_leaf=3, min_samples_split=3, n_estimators=1100, total=  11.2s\n",
      "[CV] bootstrap=True, max_depth=120, max_features=auto, min_samples_leaf=3, min_samples_split=3, n_estimators=1200 \n",
      "[CV]  bootstrap=True, max_depth=120, max_features=auto, min_samples_leaf=3, min_samples_split=2, n_estimators=1400, total=  14.7s\n",
      "[CV] bootstrap=True, max_depth=120, max_features=auto, min_samples_leaf=3, min_samples_split=3, n_estimators=1200 \n",
      "[CV]  bootstrap=True, max_depth=120, max_features=auto, min_samples_leaf=3, min_samples_split=3, n_estimators=1100, total=  11.8s\n"
     ]
    },
    {
     "name": "stdout",
     "output_type": "stream",
     "text": [
      "[CV] bootstrap=True, max_depth=120, max_features=auto, min_samples_leaf=3, min_samples_split=3, n_estimators=1300 \n",
      "[CV]  bootstrap=True, max_depth=120, max_features=auto, min_samples_leaf=3, min_samples_split=3, n_estimators=1100, total=  11.6s\n",
      "[CV] bootstrap=True, max_depth=120, max_features=auto, min_samples_leaf=3, min_samples_split=3, n_estimators=1300 \n",
      "[CV]  bootstrap=True, max_depth=120, max_features=auto, min_samples_leaf=3, min_samples_split=3, n_estimators=1100, total=  11.5s\n",
      "[CV] bootstrap=True, max_depth=120, max_features=auto, min_samples_leaf=3, min_samples_split=3, n_estimators=1300 \n",
      "[CV]  bootstrap=True, max_depth=120, max_features=auto, min_samples_leaf=3, min_samples_split=3, n_estimators=1200, total=  11.3s\n",
      "[CV] bootstrap=True, max_depth=120, max_features=auto, min_samples_leaf=3, min_samples_split=3, n_estimators=1300 \n",
      "[CV]  bootstrap=True, max_depth=120, max_features=auto, min_samples_leaf=3, min_samples_split=3, n_estimators=1200, total=  10.7s\n",
      "[CV] bootstrap=True, max_depth=120, max_features=auto, min_samples_leaf=3, min_samples_split=3, n_estimators=1300 \n",
      "[CV]  bootstrap=True, max_depth=120, max_features=auto, min_samples_leaf=3, min_samples_split=3, n_estimators=1200, total=  10.3s\n",
      "[CV] bootstrap=True, max_depth=120, max_features=auto, min_samples_leaf=3, min_samples_split=3, n_estimators=1400 \n",
      "[CV]  bootstrap=True, max_depth=120, max_features=auto, min_samples_leaf=3, min_samples_split=3, n_estimators=1200, total=  10.4s\n",
      "[CV] bootstrap=True, max_depth=120, max_features=auto, min_samples_leaf=3, min_samples_split=3, n_estimators=1400 \n",
      "[CV]  bootstrap=True, max_depth=120, max_features=auto, min_samples_leaf=3, min_samples_split=3, n_estimators=1200, total=  10.9s\n",
      "[CV] bootstrap=True, max_depth=120, max_features=auto, min_samples_leaf=3, min_samples_split=3, n_estimators=1400 \n",
      "[CV]  bootstrap=True, max_depth=120, max_features=auto, min_samples_leaf=3, min_samples_split=3, n_estimators=1300, total=  11.6s\n",
      "[CV] bootstrap=True, max_depth=120, max_features=auto, min_samples_leaf=3, min_samples_split=3, n_estimators=1400 \n",
      "[CV]  bootstrap=True, max_depth=120, max_features=auto, min_samples_leaf=3, min_samples_split=3, n_estimators=1300, total=  11.7s\n",
      "[CV] bootstrap=True, max_depth=120, max_features=auto, min_samples_leaf=3, min_samples_split=3, n_estimators=1400 \n",
      "[CV]  bootstrap=True, max_depth=120, max_features=auto, min_samples_leaf=3, min_samples_split=3, n_estimators=1300, total=  12.6s\n",
      "[CV] bootstrap=True, max_depth=120, max_features=auto, min_samples_leaf=4, min_samples_split=2, n_estimators=1100 \n",
      "[CV]  bootstrap=True, max_depth=120, max_features=auto, min_samples_leaf=3, min_samples_split=3, n_estimators=1300, total=  11.6s\n",
      "[CV] bootstrap=True, max_depth=120, max_features=auto, min_samples_leaf=4, min_samples_split=2, n_estimators=1100 \n",
      "[CV]  bootstrap=True, max_depth=120, max_features=auto, min_samples_leaf=3, min_samples_split=3, n_estimators=1300, total=  11.6s\n",
      "[CV] bootstrap=True, max_depth=120, max_features=auto, min_samples_leaf=4, min_samples_split=2, n_estimators=1100 \n",
      "[CV]  bootstrap=True, max_depth=120, max_features=auto, min_samples_leaf=3, min_samples_split=3, n_estimators=1400, total=  12.7s\n",
      "[CV] bootstrap=True, max_depth=120, max_features=auto, min_samples_leaf=4, min_samples_split=2, n_estimators=1100 \n",
      "[CV]  bootstrap=True, max_depth=120, max_features=auto, min_samples_leaf=3, min_samples_split=3, n_estimators=1400, total=  13.7s\n",
      "[CV] bootstrap=True, max_depth=120, max_features=auto, min_samples_leaf=4, min_samples_split=2, n_estimators=1100 \n",
      "[CV]  bootstrap=True, max_depth=120, max_features=auto, min_samples_leaf=3, min_samples_split=3, n_estimators=1400, total=  13.4s\n",
      "[CV] bootstrap=True, max_depth=120, max_features=auto, min_samples_leaf=4, min_samples_split=2, n_estimators=1200 \n",
      "[CV]  bootstrap=True, max_depth=120, max_features=auto, min_samples_leaf=4, min_samples_split=2, n_estimators=1100, total=   9.9s\n",
      "[CV] bootstrap=True, max_depth=120, max_features=auto, min_samples_leaf=4, min_samples_split=2, n_estimators=1200 \n",
      "[CV]  bootstrap=True, max_depth=120, max_features=auto, min_samples_leaf=3, min_samples_split=3, n_estimators=1400, total=  13.1s\n",
      "[CV] bootstrap=True, max_depth=120, max_features=auto, min_samples_leaf=4, min_samples_split=2, n_estimators=1200 \n",
      "[CV]  bootstrap=True, max_depth=120, max_features=auto, min_samples_leaf=3, min_samples_split=3, n_estimators=1400, total=  12.8s\n",
      "[CV] bootstrap=True, max_depth=120, max_features=auto, min_samples_leaf=4, min_samples_split=2, n_estimators=1200 \n",
      "[CV]  bootstrap=True, max_depth=120, max_features=auto, min_samples_leaf=4, min_samples_split=2, n_estimators=1100, total=  10.9s\n",
      "[CV] bootstrap=True, max_depth=120, max_features=auto, min_samples_leaf=4, min_samples_split=2, n_estimators=1200 \n",
      "[CV]  bootstrap=True, max_depth=120, max_features=auto, min_samples_leaf=4, min_samples_split=2, n_estimators=1100, total=  10.8s\n",
      "[CV] bootstrap=True, max_depth=120, max_features=auto, min_samples_leaf=4, min_samples_split=2, n_estimators=1300 \n",
      "[CV]  bootstrap=True, max_depth=120, max_features=auto, min_samples_leaf=4, min_samples_split=2, n_estimators=1100, total=  11.1s\n",
      "[CV] bootstrap=True, max_depth=120, max_features=auto, min_samples_leaf=4, min_samples_split=2, n_estimators=1300 \n",
      "[CV]  bootstrap=True, max_depth=120, max_features=auto, min_samples_leaf=4, min_samples_split=2, n_estimators=1100, total=  10.5s\n",
      "[CV] bootstrap=True, max_depth=120, max_features=auto, min_samples_leaf=4, min_samples_split=2, n_estimators=1300 \n",
      "[CV]  bootstrap=True, max_depth=120, max_features=auto, min_samples_leaf=4, min_samples_split=2, n_estimators=1200, total=  11.5s\n",
      "[CV] bootstrap=True, max_depth=120, max_features=auto, min_samples_leaf=4, min_samples_split=2, n_estimators=1300 \n",
      "[CV]  bootstrap=True, max_depth=120, max_features=auto, min_samples_leaf=4, min_samples_split=2, n_estimators=1200, total=  11.6s\n",
      "[CV] bootstrap=True, max_depth=120, max_features=auto, min_samples_leaf=4, min_samples_split=2, n_estimators=1300 \n",
      "[CV]  bootstrap=True, max_depth=120, max_features=auto, min_samples_leaf=4, min_samples_split=2, n_estimators=1200, total=  11.7s\n",
      "[CV] bootstrap=True, max_depth=120, max_features=auto, min_samples_leaf=4, min_samples_split=2, n_estimators=1400 \n",
      "[CV]  bootstrap=True, max_depth=120, max_features=auto, min_samples_leaf=4, min_samples_split=2, n_estimators=1200, total=  12.1s\n",
      "[CV] bootstrap=True, max_depth=120, max_features=auto, min_samples_leaf=4, min_samples_split=2, n_estimators=1400 \n",
      "[CV]  bootstrap=True, max_depth=120, max_features=auto, min_samples_leaf=4, min_samples_split=2, n_estimators=1200, total=  12.7s\n",
      "[CV] bootstrap=True, max_depth=120, max_features=auto, min_samples_leaf=4, min_samples_split=2, n_estimators=1400 \n",
      "[CV]  bootstrap=True, max_depth=120, max_features=auto, min_samples_leaf=4, min_samples_split=2, n_estimators=1300, total=  13.6s\n",
      "[CV] bootstrap=True, max_depth=120, max_features=auto, min_samples_leaf=4, min_samples_split=2, n_estimators=1400 \n",
      "[CV]  bootstrap=True, max_depth=120, max_features=auto, min_samples_leaf=4, min_samples_split=2, n_estimators=1300, total=  13.9s\n",
      "[CV] bootstrap=True, max_depth=120, max_features=auto, min_samples_leaf=4, min_samples_split=2, n_estimators=1400 \n",
      "[CV]  bootstrap=True, max_depth=120, max_features=auto, min_samples_leaf=4, min_samples_split=2, n_estimators=1300, total=  13.5s\n",
      "[CV] bootstrap=True, max_depth=120, max_features=auto, min_samples_leaf=4, min_samples_split=3, n_estimators=1100 \n",
      "[CV]  bootstrap=True, max_depth=120, max_features=auto, min_samples_leaf=4, min_samples_split=2, n_estimators=1300, total=  12.6s\n",
      "[CV] bootstrap=True, max_depth=120, max_features=auto, min_samples_leaf=4, min_samples_split=3, n_estimators=1100 \n",
      "[CV]  bootstrap=True, max_depth=120, max_features=auto, min_samples_leaf=4, min_samples_split=2, n_estimators=1300, total=  12.4s\n",
      "[CV] bootstrap=True, max_depth=120, max_features=auto, min_samples_leaf=4, min_samples_split=3, n_estimators=1100 \n",
      "[CV]  bootstrap=True, max_depth=120, max_features=auto, min_samples_leaf=4, min_samples_split=2, n_estimators=1400, total=  13.3s\n",
      "[CV] bootstrap=True, max_depth=120, max_features=auto, min_samples_leaf=4, min_samples_split=3, n_estimators=1100 \n"
     ]
    },
    {
     "name": "stdout",
     "output_type": "stream",
     "text": [
      "[CV]  bootstrap=True, max_depth=120, max_features=auto, min_samples_leaf=4, min_samples_split=2, n_estimators=1400, total=  13.3s\n",
      "[CV] bootstrap=True, max_depth=120, max_features=auto, min_samples_leaf=4, min_samples_split=3, n_estimators=1100 \n",
      "[CV]  bootstrap=True, max_depth=120, max_features=auto, min_samples_leaf=4, min_samples_split=2, n_estimators=1400, total=  14.6s\n",
      "[CV] bootstrap=True, max_depth=120, max_features=auto, min_samples_leaf=4, min_samples_split=3, n_estimators=1200 \n",
      "[CV]  bootstrap=True, max_depth=120, max_features=auto, min_samples_leaf=4, min_samples_split=3, n_estimators=1100, total=  10.9s\n",
      "[CV]  bootstrap=True, max_depth=120, max_features=auto, min_samples_leaf=4, min_samples_split=2, n_estimators=1400, total=  15.1s\n",
      "[CV] bootstrap=True, max_depth=120, max_features=auto, min_samples_leaf=4, min_samples_split=3, n_estimators=1200 \n",
      "[CV] bootstrap=True, max_depth=120, max_features=auto, min_samples_leaf=4, min_samples_split=3, n_estimators=1200 \n",
      "[CV]  bootstrap=True, max_depth=120, max_features=auto, min_samples_leaf=4, min_samples_split=3, n_estimators=1100, total=  10.6s\n",
      "[CV] bootstrap=True, max_depth=120, max_features=auto, min_samples_leaf=4, min_samples_split=3, n_estimators=1200 \n",
      "[CV]  bootstrap=True, max_depth=120, max_features=auto, min_samples_leaf=4, min_samples_split=2, n_estimators=1400, total=  14.8s\n",
      "[CV] bootstrap=True, max_depth=120, max_features=auto, min_samples_leaf=4, min_samples_split=3, n_estimators=1200 \n",
      "[CV]  bootstrap=True, max_depth=120, max_features=auto, min_samples_leaf=4, min_samples_split=3, n_estimators=1100, total=  11.9s\n",
      "[CV] bootstrap=True, max_depth=120, max_features=auto, min_samples_leaf=4, min_samples_split=3, n_estimators=1300 \n",
      "[CV]  bootstrap=True, max_depth=120, max_features=auto, min_samples_leaf=4, min_samples_split=3, n_estimators=1100, total=  11.6s\n",
      "[CV] bootstrap=True, max_depth=120, max_features=auto, min_samples_leaf=4, min_samples_split=3, n_estimators=1300 \n",
      "[CV]  bootstrap=True, max_depth=120, max_features=auto, min_samples_leaf=4, min_samples_split=3, n_estimators=1100, total=  11.7s\n",
      "[CV] bootstrap=True, max_depth=120, max_features=auto, min_samples_leaf=4, min_samples_split=3, n_estimators=1300 \n",
      "[CV]  bootstrap=True, max_depth=120, max_features=auto, min_samples_leaf=4, min_samples_split=3, n_estimators=1200, total=  11.5s\n",
      "[CV] bootstrap=True, max_depth=120, max_features=auto, min_samples_leaf=4, min_samples_split=3, n_estimators=1300 \n",
      "[CV]  bootstrap=True, max_depth=120, max_features=auto, min_samples_leaf=4, min_samples_split=3, n_estimators=1200, total=  10.1s\n",
      "[CV] bootstrap=True, max_depth=120, max_features=auto, min_samples_leaf=4, min_samples_split=3, n_estimators=1300 \n",
      "[CV]  bootstrap=True, max_depth=120, max_features=auto, min_samples_leaf=4, min_samples_split=3, n_estimators=1200, total=  10.3s\n",
      "[CV] bootstrap=True, max_depth=120, max_features=auto, min_samples_leaf=4, min_samples_split=3, n_estimators=1400 \n",
      "[CV]  bootstrap=True, max_depth=120, max_features=auto, min_samples_leaf=4, min_samples_split=3, n_estimators=1200, total=  11.1s\n",
      "[CV] bootstrap=True, max_depth=120, max_features=auto, min_samples_leaf=4, min_samples_split=3, n_estimators=1400 \n",
      "[CV]  bootstrap=True, max_depth=120, max_features=auto, min_samples_leaf=4, min_samples_split=3, n_estimators=1200, total=  11.4s\n",
      "[CV] bootstrap=True, max_depth=120, max_features=auto, min_samples_leaf=4, min_samples_split=3, n_estimators=1400 \n",
      "[CV]  bootstrap=True, max_depth=120, max_features=auto, min_samples_leaf=4, min_samples_split=3, n_estimators=1300, total=  12.4s\n",
      "[CV] bootstrap=True, max_depth=120, max_features=auto, min_samples_leaf=4, min_samples_split=3, n_estimators=1400 \n",
      "[CV]  bootstrap=True, max_depth=120, max_features=auto, min_samples_leaf=4, min_samples_split=3, n_estimators=1300, total=  12.6s\n",
      "[CV] bootstrap=True, max_depth=120, max_features=auto, min_samples_leaf=4, min_samples_split=3, n_estimators=1400 \n",
      "[CV]  bootstrap=True, max_depth=120, max_features=auto, min_samples_leaf=4, min_samples_split=3, n_estimators=1300, total=  12.8s\n",
      "[CV] bootstrap=True, max_depth=120, max_features=auto, min_samples_leaf=5, min_samples_split=2, n_estimators=1100 \n",
      "[CV]  bootstrap=True, max_depth=120, max_features=auto, min_samples_leaf=4, min_samples_split=3, n_estimators=1300, total=  11.6s\n",
      "[CV] bootstrap=True, max_depth=120, max_features=auto, min_samples_leaf=5, min_samples_split=2, n_estimators=1100 \n",
      "[CV]  bootstrap=True, max_depth=120, max_features=auto, min_samples_leaf=4, min_samples_split=3, n_estimators=1300, total=  11.3s\n",
      "[CV] bootstrap=True, max_depth=120, max_features=auto, min_samples_leaf=5, min_samples_split=2, n_estimators=1100 \n",
      "[CV]  bootstrap=True, max_depth=120, max_features=auto, min_samples_leaf=4, min_samples_split=3, n_estimators=1400, total=  12.8s\n",
      "[CV] bootstrap=True, max_depth=120, max_features=auto, min_samples_leaf=5, min_samples_split=2, n_estimators=1100 \n",
      "[CV]  bootstrap=True, max_depth=120, max_features=auto, min_samples_leaf=4, min_samples_split=3, n_estimators=1400, total=  13.8s\n",
      "[CV] bootstrap=True, max_depth=120, max_features=auto, min_samples_leaf=5, min_samples_split=2, n_estimators=1100 \n",
      "[CV]  bootstrap=True, max_depth=120, max_features=auto, min_samples_leaf=4, min_samples_split=3, n_estimators=1400, total=  14.4s\n",
      "[CV] bootstrap=True, max_depth=120, max_features=auto, min_samples_leaf=5, min_samples_split=2, n_estimators=1200 \n",
      "[CV]  bootstrap=True, max_depth=120, max_features=auto, min_samples_leaf=5, min_samples_split=2, n_estimators=1100, total=  10.5s\n",
      "[CV] bootstrap=True, max_depth=120, max_features=auto, min_samples_leaf=5, min_samples_split=2, n_estimators=1200 \n",
      "[CV]  bootstrap=True, max_depth=120, max_features=auto, min_samples_leaf=4, min_samples_split=3, n_estimators=1400, total=  14.0s\n",
      "[CV] bootstrap=True, max_depth=120, max_features=auto, min_samples_leaf=5, min_samples_split=2, n_estimators=1200 \n",
      "[CV]  bootstrap=True, max_depth=120, max_features=auto, min_samples_leaf=4, min_samples_split=3, n_estimators=1400, total=  14.7s\n",
      "[CV] bootstrap=True, max_depth=120, max_features=auto, min_samples_leaf=5, min_samples_split=2, n_estimators=1200 \n",
      "[CV]  bootstrap=True, max_depth=120, max_features=auto, min_samples_leaf=5, min_samples_split=2, n_estimators=1100, total=  11.4s\n",
      "[CV] bootstrap=True, max_depth=120, max_features=auto, min_samples_leaf=5, min_samples_split=2, n_estimators=1200 \n",
      "[CV]  bootstrap=True, max_depth=120, max_features=auto, min_samples_leaf=5, min_samples_split=2, n_estimators=1100, total=  11.3s\n",
      "[CV] bootstrap=True, max_depth=120, max_features=auto, min_samples_leaf=5, min_samples_split=2, n_estimators=1300 \n",
      "[CV]  bootstrap=True, max_depth=120, max_features=auto, min_samples_leaf=5, min_samples_split=2, n_estimators=1100, total=  12.6s\n",
      "[CV] bootstrap=True, max_depth=120, max_features=auto, min_samples_leaf=5, min_samples_split=2, n_estimators=1300 \n",
      "[CV]  bootstrap=True, max_depth=120, max_features=auto, min_samples_leaf=5, min_samples_split=2, n_estimators=1100, total=  12.5s\n",
      "[CV] bootstrap=True, max_depth=120, max_features=auto, min_samples_leaf=5, min_samples_split=2, n_estimators=1300 \n",
      "[CV]  bootstrap=True, max_depth=120, max_features=auto, min_samples_leaf=5, min_samples_split=2, n_estimators=1200, total=  12.0s\n",
      "[CV] bootstrap=True, max_depth=120, max_features=auto, min_samples_leaf=5, min_samples_split=2, n_estimators=1300 \n",
      "[CV]  bootstrap=True, max_depth=120, max_features=auto, min_samples_leaf=5, min_samples_split=2, n_estimators=1200, total=  11.6s\n",
      "[CV] bootstrap=True, max_depth=120, max_features=auto, min_samples_leaf=5, min_samples_split=2, n_estimators=1300 \n",
      "[CV]  bootstrap=True, max_depth=120, max_features=auto, min_samples_leaf=5, min_samples_split=2, n_estimators=1200, total=  11.6s\n",
      "[CV] bootstrap=True, max_depth=120, max_features=auto, min_samples_leaf=5, min_samples_split=2, n_estimators=1400 \n",
      "[CV]  bootstrap=True, max_depth=120, max_features=auto, min_samples_leaf=5, min_samples_split=2, n_estimators=1200, total=  12.0s\n",
      "[CV] bootstrap=True, max_depth=120, max_features=auto, min_samples_leaf=5, min_samples_split=2, n_estimators=1400 \n",
      "[CV]  bootstrap=True, max_depth=120, max_features=auto, min_samples_leaf=5, min_samples_split=2, n_estimators=1200, total=  11.7s\n"
     ]
    },
    {
     "name": "stdout",
     "output_type": "stream",
     "text": [
      "[CV] bootstrap=True, max_depth=120, max_features=auto, min_samples_leaf=5, min_samples_split=2, n_estimators=1400 \n",
      "[CV]  bootstrap=True, max_depth=120, max_features=auto, min_samples_leaf=5, min_samples_split=2, n_estimators=1300, total=  13.3s\n",
      "[CV] bootstrap=True, max_depth=120, max_features=auto, min_samples_leaf=5, min_samples_split=2, n_estimators=1400 \n",
      "[CV]  bootstrap=True, max_depth=120, max_features=auto, min_samples_leaf=5, min_samples_split=2, n_estimators=1300, total=  14.9s\n",
      "[CV] bootstrap=True, max_depth=120, max_features=auto, min_samples_leaf=5, min_samples_split=2, n_estimators=1400 \n",
      "[CV]  bootstrap=True, max_depth=120, max_features=auto, min_samples_leaf=5, min_samples_split=2, n_estimators=1300, total=  14.0s\n",
      "[CV] bootstrap=True, max_depth=120, max_features=auto, min_samples_leaf=5, min_samples_split=3, n_estimators=1100 \n",
      "[CV]  bootstrap=True, max_depth=120, max_features=auto, min_samples_leaf=5, min_samples_split=2, n_estimators=1300, total=  13.8s\n",
      "[CV] bootstrap=True, max_depth=120, max_features=auto, min_samples_leaf=5, min_samples_split=3, n_estimators=1100 \n",
      "[CV]  bootstrap=True, max_depth=120, max_features=auto, min_samples_leaf=5, min_samples_split=2, n_estimators=1300, total=  13.3s\n",
      "[CV] bootstrap=True, max_depth=120, max_features=auto, min_samples_leaf=5, min_samples_split=3, n_estimators=1100 \n",
      "[CV]  bootstrap=True, max_depth=120, max_features=auto, min_samples_leaf=5, min_samples_split=2, n_estimators=1400, total=  15.3s\n",
      "[CV] bootstrap=True, max_depth=120, max_features=auto, min_samples_leaf=5, min_samples_split=3, n_estimators=1100 \n",
      "[CV]  bootstrap=True, max_depth=120, max_features=auto, min_samples_leaf=5, min_samples_split=2, n_estimators=1400, total=  14.4s\n",
      "[CV] bootstrap=True, max_depth=120, max_features=auto, min_samples_leaf=5, min_samples_split=3, n_estimators=1100 \n",
      "[CV]  bootstrap=True, max_depth=120, max_features=auto, min_samples_leaf=5, min_samples_split=2, n_estimators=1400, total=  14.6s\n",
      "[CV] bootstrap=True, max_depth=120, max_features=auto, min_samples_leaf=5, min_samples_split=3, n_estimators=1200 \n",
      "[CV]  bootstrap=True, max_depth=120, max_features=auto, min_samples_leaf=5, min_samples_split=2, n_estimators=1400, total=  17.1s\n",
      "[CV] bootstrap=True, max_depth=120, max_features=auto, min_samples_leaf=5, min_samples_split=3, n_estimators=1200 \n",
      "[CV]  bootstrap=True, max_depth=120, max_features=auto, min_samples_leaf=5, min_samples_split=3, n_estimators=1100, total=  11.9s\n",
      "[CV] bootstrap=True, max_depth=120, max_features=auto, min_samples_leaf=5, min_samples_split=3, n_estimators=1200 \n",
      "[CV]  bootstrap=True, max_depth=120, max_features=auto, min_samples_leaf=5, min_samples_split=2, n_estimators=1400, total=  15.5s\n",
      "[CV] bootstrap=True, max_depth=120, max_features=auto, min_samples_leaf=5, min_samples_split=3, n_estimators=1200 \n",
      "[CV]  bootstrap=True, max_depth=120, max_features=auto, min_samples_leaf=5, min_samples_split=3, n_estimators=1100, total=  12.7s\n",
      "[CV] bootstrap=True, max_depth=120, max_features=auto, min_samples_leaf=5, min_samples_split=3, n_estimators=1200 \n",
      "[CV]  bootstrap=True, max_depth=120, max_features=auto, min_samples_leaf=5, min_samples_split=3, n_estimators=1100, total=  12.9s\n",
      "[CV] bootstrap=True, max_depth=120, max_features=auto, min_samples_leaf=5, min_samples_split=3, n_estimators=1300 \n",
      "[CV]  bootstrap=True, max_depth=120, max_features=auto, min_samples_leaf=5, min_samples_split=3, n_estimators=1100, total=  12.8s\n",
      "[CV] bootstrap=True, max_depth=120, max_features=auto, min_samples_leaf=5, min_samples_split=3, n_estimators=1300 \n",
      "[CV]  bootstrap=True, max_depth=120, max_features=auto, min_samples_leaf=5, min_samples_split=3, n_estimators=1100, total=  12.6s\n",
      "[CV] bootstrap=True, max_depth=120, max_features=auto, min_samples_leaf=5, min_samples_split=3, n_estimators=1300 \n",
      "[CV]  bootstrap=True, max_depth=120, max_features=auto, min_samples_leaf=5, min_samples_split=3, n_estimators=1200, total=  13.4s\n",
      "[CV] bootstrap=True, max_depth=120, max_features=auto, min_samples_leaf=5, min_samples_split=3, n_estimators=1300 \n",
      "[CV]  bootstrap=True, max_depth=120, max_features=auto, min_samples_leaf=5, min_samples_split=3, n_estimators=1200, total=  12.2s\n",
      "[CV] bootstrap=True, max_depth=120, max_features=auto, min_samples_leaf=5, min_samples_split=3, n_estimators=1300 \n",
      "[CV]  bootstrap=True, max_depth=120, max_features=auto, min_samples_leaf=5, min_samples_split=3, n_estimators=1200, total=  12.1s\n",
      "[CV] bootstrap=True, max_depth=120, max_features=auto, min_samples_leaf=5, min_samples_split=3, n_estimators=1400 \n",
      "[CV]  bootstrap=True, max_depth=120, max_features=auto, min_samples_leaf=5, min_samples_split=3, n_estimators=1200, total=  12.6s\n",
      "[CV] bootstrap=True, max_depth=120, max_features=auto, min_samples_leaf=5, min_samples_split=3, n_estimators=1400 \n",
      "[CV]  bootstrap=True, max_depth=120, max_features=auto, min_samples_leaf=5, min_samples_split=3, n_estimators=1200, total=  12.8s\n",
      "[CV] bootstrap=True, max_depth=120, max_features=auto, min_samples_leaf=5, min_samples_split=3, n_estimators=1400 \n",
      "[CV]  bootstrap=True, max_depth=120, max_features=auto, min_samples_leaf=5, min_samples_split=3, n_estimators=1300, total=  14.4s\n",
      "[CV] bootstrap=True, max_depth=120, max_features=auto, min_samples_leaf=5, min_samples_split=3, n_estimators=1400 \n",
      "[CV]  bootstrap=True, max_depth=120, max_features=auto, min_samples_leaf=5, min_samples_split=3, n_estimators=1300, total=  14.9s\n",
      "[CV] bootstrap=True, max_depth=120, max_features=auto, min_samples_leaf=5, min_samples_split=3, n_estimators=1400 \n",
      "[CV]  bootstrap=True, max_depth=120, max_features=auto, min_samples_leaf=5, min_samples_split=3, n_estimators=1300, total=  14.6s\n",
      "[CV]  bootstrap=True, max_depth=120, max_features=auto, min_samples_leaf=5, min_samples_split=3, n_estimators=1300, total=  14.5s\n",
      "[CV]  bootstrap=True, max_depth=120, max_features=auto, min_samples_leaf=5, min_samples_split=3, n_estimators=1300, total=  14.9s\n",
      "[CV]  bootstrap=True, max_depth=120, max_features=auto, min_samples_leaf=5, min_samples_split=3, n_estimators=1400, total=  15.7s\n",
      "[CV]  bootstrap=True, max_depth=120, max_features=auto, min_samples_leaf=5, min_samples_split=3, n_estimators=1400, total=  14.8s\n",
      "[CV]  bootstrap=True, max_depth=120, max_features=auto, min_samples_leaf=5, min_samples_split=3, n_estimators=1400, total=  15.3s\n",
      "[CV]  bootstrap=True, max_depth=120, max_features=auto, min_samples_leaf=5, min_samples_split=3, n_estimators=1400, total=  16.0s\n",
      "[CV]  bootstrap=True, max_depth=120, max_features=auto, min_samples_leaf=5, min_samples_split=3, n_estimators=1400, total=  13.1s\n"
     ]
    },
    {
     "name": "stderr",
     "output_type": "stream",
     "text": [
      "[Parallel(n_jobs=-1)]: Done 480 out of 480 | elapsed: 12.0min finished\n"
     ]
    },
    {
     "data": {
      "text/plain": [
       "GridSearchCV(cv=5, error_score='raise',\n",
       "       estimator=RandomForestClassifier(bootstrap=True, class_weight='balanced',\n",
       "            criterion='gini', max_depth=None, max_features='auto',\n",
       "            max_leaf_nodes=None, min_impurity_decrease=0.0,\n",
       "            min_impurity_split=None, min_samples_leaf=1,\n",
       "            min_samples_split=2, min_weight_fraction_leaf=0.0,\n",
       "            n_estimators=10, n_jobs=-1, oob_score=False, random_state=0,\n",
       "            verbose=0, warm_start=False),\n",
       "       fit_params=None, iid=True, n_jobs=-1,\n",
       "       param_grid={'bootstrap': [True], 'max_depth': [90, 100, 110, 120], 'max_features': ['auto'], 'min_samples_leaf': [3, 4, 5], 'min_samples_split': [2, 3], 'n_estimators': [1100, 1200, 1300, 1400]},\n",
       "       pre_dispatch='2*n_jobs', refit=True, return_train_score='warn',\n",
       "       scoring=None, verbose=2)"
      ]
     },
     "execution_count": 21,
     "metadata": {},
     "output_type": "execute_result"
    }
   ],
   "source": [
    "clf6_grid_search.fit(X_train, y_train)"
   ]
  },
  {
   "cell_type": "code",
   "execution_count": 22,
   "metadata": {},
   "outputs": [
    {
     "data": {
      "text/plain": [
       "{'bootstrap': True,\n",
       " 'max_depth': 90,\n",
       " 'max_features': 'auto',\n",
       " 'min_samples_leaf': 5,\n",
       " 'min_samples_split': 2,\n",
       " 'n_estimators': 1200}"
      ]
     },
     "execution_count": 22,
     "metadata": {},
     "output_type": "execute_result"
    }
   ],
   "source": [
    "clf6_grid_search.best_params_"
   ]
  },
  {
   "cell_type": "code",
   "execution_count": 24,
   "metadata": {},
   "outputs": [
    {
     "data": {
      "text/html": [
       "<div>\n",
       "<style>\n",
       "    .dataframe thead tr:only-child th {\n",
       "        text-align: right;\n",
       "    }\n",
       "\n",
       "    .dataframe thead th {\n",
       "        text-align: left;\n",
       "    }\n",
       "\n",
       "    .dataframe tbody tr th {\n",
       "        vertical-align: top;\n",
       "    }\n",
       "</style>\n",
       "<table border=\"1\" class=\"dataframe\">\n",
       "  <thead>\n",
       "    <tr style=\"text-align: right;\">\n",
       "      <th>Predicted</th>\n",
       "      <th>0</th>\n",
       "      <th>1</th>\n",
       "    </tr>\n",
       "    <tr>\n",
       "      <th>Actual</th>\n",
       "      <th></th>\n",
       "      <th></th>\n",
       "    </tr>\n",
       "  </thead>\n",
       "  <tbody>\n",
       "    <tr>\n",
       "      <th>0</th>\n",
       "      <td>170</td>\n",
       "      <td>18</td>\n",
       "    </tr>\n",
       "    <tr>\n",
       "      <th>1</th>\n",
       "      <td>48</td>\n",
       "      <td>54</td>\n",
       "    </tr>\n",
       "  </tbody>\n",
       "</table>\n",
       "</div>"
      ],
      "text/plain": [
       "Predicted    0   1\n",
       "Actual            \n",
       "0          170  18\n",
       "1           48  54"
      ]
     },
     "execution_count": 24,
     "metadata": {},
     "output_type": "execute_result"
    }
   ],
   "source": [
    "clf6_best_grid = clf6_grid_search.best_estimator_\n",
    "predictions6 = clf6_best_grid.predict(X_test)\n",
    "cm = pd.crosstab(y_test, predictions6, rownames=['Actual'], colnames=['Predicted'])\n",
    "cm"
   ]
  },
  {
   "cell_type": "code",
   "execution_count": 25,
   "metadata": {
    "scrolled": true
   },
   "outputs": [
    {
     "name": "stdout",
     "output_type": "stream",
     "text": [
      "Accuracy: 0.77\n",
      "FNR: 0.47\n",
      "Recall: 0.53\n",
      "Precision: 0.75\n",
      "F1: 0.62\n"
     ]
    }
   ],
   "source": [
    "TP = cm[1][1]\n",
    "FP = cm[1][0]\n",
    "FN = cm[0][1]\n",
    "TN = cm[0][0]\n",
    "print('Accuracy:',round((TP+TN)/(TP+FP+FN+TN),2))\n",
    "print('FNR:',round(FN / (TP+FN),2))\n",
    "print('Recall:',round(TP/(TP+FN),2))\n",
    "print('Precision:',round(TP/(TP+FP),2))\n",
    "print('F1:',round(2*TP/(2*TP+FP+FN),2))"
   ]
  },
  {
   "cell_type": "markdown",
   "metadata": {},
   "source": [
    "Our hypertuned random forest model predicts with an accuracy of 77%, recall 0.53, and F! 0.62. This model is an improvement on all prior models to date especially because of less false negatives. The FNR is 0.47 compared to the base random forest which had an FNR of 0.62 (-24% improvement)"
   ]
  },
  {
   "cell_type": "code",
   "execution_count": 26,
   "metadata": {},
   "outputs": [
    {
     "data": {
      "image/png": "[encoded data removed]",
      "text/plain": [
       "<matplotlib.figure.Figure at 0x115da54e0>"
      ]
     },
     "metadata": {},
     "output_type": "display_data"
    }
   ],
   "source": [
    "df = list(zip(X_train, clf6_best_grid.feature_importances_))\n",
    "df = pd.DataFrame(df, columns=['feat','fe'])\n",
    "dfs = df.sort_values('fe',ascending=False) #sort by the column 'fe'\n",
    "\n",
    "import matplotlib.pyplot as plt\n",
    "%matplotlib inline\n",
    "fig, ax = plt.subplots(figsize=(15, 30))\n",
    "features = list(dfs.feat)\n",
    "y_pos = np.arange(len(features))\n",
    "x = dfs.fe\n",
    "ax.barh(y_pos, x, xerr=None, align='center',color='green', ecolor='black')\n",
    "ax.set_yticks(y_pos)\n",
    "ax.set_yticklabels(features)\n",
    "ax.invert_yaxis()  # labels read top-to-bottom\n",
    "ax.set_xlabel('Feature importance')\n",
    "ax.set_title('Feature Importance (Random Forest)')\n",
    "plt.show()"
   ]
  },
  {
   "cell_type": "markdown",
   "metadata": {},
   "source": [
    "# Support Vector Machine Model7\n",
    "basic parameters"
   ]
  },
  {
   "cell_type": "code",
   "execution_count": 5,
   "metadata": {
    "collapsed": true
   },
   "outputs": [],
   "source": [
    "from sklearn import svm"
   ]
  },
  {
   "cell_type": "code",
   "execution_count": 64,
   "metadata": {},
   "outputs": [
    {
     "data": {
      "text/plain": [
       "SVC(C=1, cache_size=200, class_weight=None, coef0=0.0,\n",
       "  decision_function_shape='ovr', degree=3, gamma=1, kernel='linear',\n",
       "  max_iter=-1, probability=False, random_state=0, shrinking=True,\n",
       "  tol=0.001, verbose=False)"
      ]
     },
     "execution_count": 64,
     "metadata": {},
     "output_type": "execute_result"
    }
   ],
   "source": [
    "from sklearn import preprocessing\n",
    "from sklearn.preprocessing import StandardScaler\n",
    "\n",
    "X_norm = (X_train - X_train.mean()) / (X_train.max() - X_train.min())\n",
    "clf7 = svm.SVC(kernel='linear', C=1, gamma=1,random_state=0) \n",
    "clf7.fit(X_norm, y_train)"
   ]
  },
  {
   "cell_type": "code",
   "execution_count": 65,
   "metadata": {},
   "outputs": [
    {
     "data": {
      "text/html": [
       "<div>\n",
       "<style>\n",
       "    .dataframe thead tr:only-child th {\n",
       "        text-align: right;\n",
       "    }\n",
       "\n",
       "    .dataframe thead th {\n",
       "        text-align: left;\n",
       "    }\n",
       "\n",
       "    .dataframe tbody tr th {\n",
       "        vertical-align: top;\n",
       "    }\n",
       "</style>\n",
       "<table border=\"1\" class=\"dataframe\">\n",
       "  <thead>\n",
       "    <tr style=\"text-align: right;\">\n",
       "      <th>Predicted</th>\n",
       "      <th>0</th>\n",
       "      <th>1</th>\n",
       "    </tr>\n",
       "    <tr>\n",
       "      <th>Actual</th>\n",
       "      <th></th>\n",
       "      <th></th>\n",
       "    </tr>\n",
       "  </thead>\n",
       "  <tbody>\n",
       "    <tr>\n",
       "      <th>0</th>\n",
       "      <td>159</td>\n",
       "      <td>29</td>\n",
       "    </tr>\n",
       "    <tr>\n",
       "      <th>1</th>\n",
       "      <td>95</td>\n",
       "      <td>7</td>\n",
       "    </tr>\n",
       "  </tbody>\n",
       "</table>\n",
       "</div>"
      ],
      "text/plain": [
       "Predicted    0   1\n",
       "Actual            \n",
       "0          159  29\n",
       "1           95   7"
      ]
     },
     "execution_count": 65,
     "metadata": {},
     "output_type": "execute_result"
    }
   ],
   "source": [
    "predictions7 = clf7.predict(X_test)\n",
    "cm = pd.crosstab(y_test, predictions7, rownames=['Actual'], colnames=['Predicted'])\n",
    "cm"
   ]
  },
  {
   "cell_type": "code",
   "execution_count": 66,
   "metadata": {
    "scrolled": true
   },
   "outputs": [
    {
     "name": "stdout",
     "output_type": "stream",
     "text": [
      "Accuracy: 0.57\n",
      "FNR: 0.93\n",
      "Recall: 0.07\n",
      "Precision: 0.19\n",
      "F1: 0.1\n"
     ]
    }
   ],
   "source": [
    "TP = cm[1][1]\n",
    "FP = cm[1][0]\n",
    "FN = cm[0][1]\n",
    "TN = cm[0][0]\n",
    "print('Accuracy:',round((TP+TN)/(TP+FP+FN+TN),2))\n",
    "print('FNR:',round(FN / (TP+FN),2))\n",
    "print('Recall:',round(TP/(TP+FN),2))\n",
    "print('Precision:',round(TP/(TP+FP),2))\n",
    "print('F1:',round(2*TP/(2*TP+FP+FN),2))"
   ]
  },
  {
   "cell_type": "markdown",
   "metadata": {},
   "source": [
    "# Support Vector Machine Model8\n",
    "rbf kernel with SMOTE oversampling"
   ]
  },
  {
   "cell_type": "code",
   "execution_count": 233,
   "metadata": {},
   "outputs": [
    {
     "data": {
      "text/plain": [
       "SVC(C=1, cache_size=200, class_weight=None, coef0=0.0,\n",
       "  decision_function_shape='ovr', degree=3, gamma=2, kernel='poly',\n",
       "  max_iter=-1, probability=False, random_state=0, shrinking=True,\n",
       "  tol=0.001, verbose=False)"
      ]
     },
     "execution_count": 233,
     "metadata": {},
     "output_type": "execute_result"
    }
   ],
   "source": [
    "sm = SMOTE(random_state=12, ratio = 'minority')\n",
    "X_train_res, y_train_res = sm.fit_sample(X_train, y_train)\n",
    "X_norm = (X_train_res - X_train_res.mean()) / (X_train_res.max() - X_train_res.min())\n",
    "clf8 = svm.SVC(kernel='poly', degree=3, C=1, gamma=2,random_state=0) \n",
    "clf8.fit(X_norm, y_train_res)"
   ]
  },
  {
   "cell_type": "code",
   "execution_count": 234,
   "metadata": {
    "scrolled": false
   },
   "outputs": [
    {
     "data": {
      "text/html": [
       "<div>\n",
       "<style>\n",
       "    .dataframe thead tr:only-child th {\n",
       "        text-align: right;\n",
       "    }\n",
       "\n",
       "    .dataframe thead th {\n",
       "        text-align: left;\n",
       "    }\n",
       "\n",
       "    .dataframe tbody tr th {\n",
       "        vertical-align: top;\n",
       "    }\n",
       "</style>\n",
       "<table border=\"1\" class=\"dataframe\">\n",
       "  <thead>\n",
       "    <tr style=\"text-align: right;\">\n",
       "      <th>Predicted</th>\n",
       "      <th>0</th>\n",
       "      <th>1</th>\n",
       "    </tr>\n",
       "    <tr>\n",
       "      <th>Actual</th>\n",
       "      <th></th>\n",
       "      <th></th>\n",
       "    </tr>\n",
       "  </thead>\n",
       "  <tbody>\n",
       "    <tr>\n",
       "      <th>0</th>\n",
       "      <td>179</td>\n",
       "      <td>9</td>\n",
       "    </tr>\n",
       "    <tr>\n",
       "      <th>1</th>\n",
       "      <td>76</td>\n",
       "      <td>26</td>\n",
       "    </tr>\n",
       "  </tbody>\n",
       "</table>\n",
       "</div>"
      ],
      "text/plain": [
       "Predicted    0   1\n",
       "Actual            \n",
       "0          179   9\n",
       "1           76  26"
      ]
     },
     "execution_count": 234,
     "metadata": {},
     "output_type": "execute_result"
    }
   ],
   "source": [
    "predictions8 = clf8.predict(X_test)\n",
    "cm = pd.crosstab(y_test, predictions8, rownames=['Actual'], colnames=['Predicted'])\n",
    "cm"
   ]
  },
  {
   "cell_type": "code",
   "execution_count": 235,
   "metadata": {},
   "outputs": [
    {
     "name": "stdout",
     "output_type": "stream",
     "text": [
      "Accuracy: 0.71\n",
      "FNR: 0.75\n",
      "Recall: 0.25\n",
      "Precision: 0.74\n",
      "F1: 0.38\n"
     ]
    }
   ],
   "source": [
    "TP = cm[1][1]\n",
    "FP = cm[1][0]\n",
    "FN = cm[0][1]\n",
    "TN = cm[0][0]\n",
    "print('Accuracy:',round((TP+TN)/(TP+FP+FN+TN),2))\n",
    "print('FNR:',round(FN / (TP+FN),2))\n",
    "print('Recall:',round(TP/(TP+FN),2))\n",
    "print('Precision:',round(TP/(TP+FP),2))\n",
    "print('F1:',round(2*TP/(2*TP+FP+FN),2))"
   ]
  },
  {
   "cell_type": "markdown",
   "metadata": {},
   "source": [
    "# Support Vector Machine Model9\n",
    "poly kernel with 4th degree"
   ]
  },
  {
   "cell_type": "code",
   "execution_count": 81,
   "metadata": {},
   "outputs": [
    {
     "data": {
      "text/plain": [
       "SVC(C=1, cache_size=200, class_weight='balanced', coef0=0.0,\n",
       "  decision_function_shape='ovr', degree=4, gamma=1, kernel='poly',\n",
       "  max_iter=-1, probability=False, random_state=0, shrinking=True,\n",
       "  tol=0.001, verbose=False)"
      ]
     },
     "execution_count": 81,
     "metadata": {},
     "output_type": "execute_result"
    }
   ],
   "source": [
    "clf9 = svm.SVC(kernel='poly', C=1, gamma=1, class_weight='balanced',random_state=0,degree=4) \n",
    "clf9.fit(X_norm, y_train)"
   ]
  },
  {
   "cell_type": "code",
   "execution_count": 83,
   "metadata": {
    "scrolled": false
   },
   "outputs": [
    {
     "data": {
      "text/html": [
       "<div>\n",
       "<style>\n",
       "    .dataframe thead tr:only-child th {\n",
       "        text-align: right;\n",
       "    }\n",
       "\n",
       "    .dataframe thead th {\n",
       "        text-align: left;\n",
       "    }\n",
       "\n",
       "    .dataframe tbody tr th {\n",
       "        vertical-align: top;\n",
       "    }\n",
       "</style>\n",
       "<table border=\"1\" class=\"dataframe\">\n",
       "  <thead>\n",
       "    <tr style=\"text-align: right;\">\n",
       "      <th>Predicted</th>\n",
       "      <th>0</th>\n",
       "      <th>1</th>\n",
       "    </tr>\n",
       "    <tr>\n",
       "      <th>Actual</th>\n",
       "      <th></th>\n",
       "      <th></th>\n",
       "    </tr>\n",
       "  </thead>\n",
       "  <tbody>\n",
       "    <tr>\n",
       "      <th>0</th>\n",
       "      <td>183</td>\n",
       "      <td>5</td>\n",
       "    </tr>\n",
       "    <tr>\n",
       "      <th>1</th>\n",
       "      <td>86</td>\n",
       "      <td>16</td>\n",
       "    </tr>\n",
       "  </tbody>\n",
       "</table>\n",
       "</div>"
      ],
      "text/plain": [
       "Predicted    0   1\n",
       "Actual            \n",
       "0          183   5\n",
       "1           86  16"
      ]
     },
     "execution_count": 83,
     "metadata": {},
     "output_type": "execute_result"
    }
   ],
   "source": [
    "predictions9 = clf9.predict(X_test)\n",
    "cm = pd.crosstab(y_test, predictions9, rownames=['Actual'], colnames=['Predicted'])\n",
    "cm"
   ]
  },
  {
   "cell_type": "code",
   "execution_count": 84,
   "metadata": {
    "scrolled": true
   },
   "outputs": [
    {
     "name": "stdout",
     "output_type": "stream",
     "text": [
      "Accuracy: 0.69\n",
      "FNR: 0.84\n",
      "Recall: 0.16\n",
      "Precision: 0.76\n",
      "F1: 0.26\n"
     ]
    }
   ],
   "source": [
    "TP = cm[1][1]\n",
    "FP = cm[1][0]\n",
    "FN = cm[0][1]\n",
    "TN = cm[0][0]\n",
    "print('Accuracy:',round((TP+TN)/(TP+FP+FN+TN),2))\n",
    "print('FNR:',round(FN / (TP+FN),2))\n",
    "print('Recall:',round(TP/(TP+FN),2))\n",
    "print('Precision:',round(TP/(TP+FP),2))\n",
    "print('F1:',round(2*TP/(2*TP+FP+FN),2))"
   ]
  },
  {
   "cell_type": "markdown",
   "metadata": {},
   "source": [
    "The class imbalance makes the SVM perform poorly."
   ]
  },
  {
   "cell_type": "markdown",
   "metadata": {
    "collapsed": true
   },
   "source": [
    "# AdaBoost Model10"
   ]
  },
  {
   "cell_type": "code",
   "execution_count": 85,
   "metadata": {},
   "outputs": [
    {
     "data": {
      "text/plain": [
       "AdaBoostClassifier(algorithm='SAMME.R',\n",
       "          base_estimator=RandomForestClassifier(bootstrap=True, class_weight='balanced',\n",
       "            criterion='gini', max_depth=None, max_features='auto',\n",
       "            max_leaf_nodes=None, min_impurity_decrease=0.0,\n",
       "            min_impurity_split=None, min_samples_leaf=1,\n",
       "            min_samples_split=2, min_weight_fraction_leaf=0.0,\n",
       "            n_estimators=10, n_jobs=-1, oob_score=False, random_state=0,\n",
       "            verbose=0, warm_start=False),\n",
       "          learning_rate=1, n_estimators=100, random_state=None)"
      ]
     },
     "execution_count": 85,
     "metadata": {},
     "output_type": "execute_result"
    }
   ],
   "source": [
    "rf = RandomForestClassifier(n_jobs=-1, class_weight='balanced', random_state=0)\n",
    "clf10 = AdaBoostClassifier(n_estimators=100, base_estimator=rf,learning_rate=1)\n",
    "clf10.fit(X_train,y_train)"
   ]
  },
  {
   "cell_type": "code",
   "execution_count": 88,
   "metadata": {},
   "outputs": [
    {
     "data": {
      "text/html": [
       "<div>\n",
       "<style>\n",
       "    .dataframe thead tr:only-child th {\n",
       "        text-align: right;\n",
       "    }\n",
       "\n",
       "    .dataframe thead th {\n",
       "        text-align: left;\n",
       "    }\n",
       "\n",
       "    .dataframe tbody tr th {\n",
       "        vertical-align: top;\n",
       "    }\n",
       "</style>\n",
       "<table border=\"1\" class=\"dataframe\">\n",
       "  <thead>\n",
       "    <tr style=\"text-align: right;\">\n",
       "      <th>Predicted</th>\n",
       "      <th>0</th>\n",
       "      <th>1</th>\n",
       "    </tr>\n",
       "    <tr>\n",
       "      <th>Actual</th>\n",
       "      <th></th>\n",
       "      <th></th>\n",
       "    </tr>\n",
       "  </thead>\n",
       "  <tbody>\n",
       "    <tr>\n",
       "      <th>0</th>\n",
       "      <td>172</td>\n",
       "      <td>16</td>\n",
       "    </tr>\n",
       "    <tr>\n",
       "      <th>1</th>\n",
       "      <td>54</td>\n",
       "      <td>48</td>\n",
       "    </tr>\n",
       "  </tbody>\n",
       "</table>\n",
       "</div>"
      ],
      "text/plain": [
       "Predicted    0   1\n",
       "Actual            \n",
       "0          172  16\n",
       "1           54  48"
      ]
     },
     "execution_count": 88,
     "metadata": {},
     "output_type": "execute_result"
    }
   ],
   "source": [
    "predictions10 = clf10.predict(X_test)\n",
    "cm = pd.crosstab(y_test, predictions10, rownames=['Actual'], colnames=['Predicted'])\n",
    "cm"
   ]
  },
  {
   "cell_type": "code",
   "execution_count": 89,
   "metadata": {},
   "outputs": [
    {
     "name": "stdout",
     "output_type": "stream",
     "text": [
      "Accuracy: 0.76\n",
      "FNR: 0.53\n",
      "Recall: 0.47\n",
      "Precision: 0.75\n",
      "F1: 0.58\n"
     ]
    }
   ],
   "source": [
    "TP = cm[1][1]\n",
    "FP = cm[1][0]\n",
    "FN = cm[0][1]\n",
    "TN = cm[0][0]\n",
    "print('Accuracy:',round((TP+TN)/(TP+FP+FN+TN),2))\n",
    "print('FNR:',round(FN / (TP+FN),2))\n",
    "print('Recall:',round(TP/(TP+FN),2))\n",
    "print('Precision:',round(TP/(TP+FP),2))\n",
    "print('F1:',round(2*TP/(2*TP+FP+FN),2))"
   ]
  },
  {
   "cell_type": "markdown",
   "metadata": {},
   "source": [
    "The base adaboost model performs slightly less than the tuned random forest."
   ]
  },
  {
   "cell_type": "markdown",
   "metadata": {},
   "source": [
    "# AdaBoost Model11\n"
   ]
  },
  {
   "cell_type": "code",
   "execution_count": 90,
   "metadata": {},
   "outputs": [
    {
     "name": "stdout",
     "output_type": "stream",
     "text": [
      "Parameters currently in use:\n",
      "\n",
      "{'algorithm': 'SAMME.R',\n",
      " 'base_estimator': RandomForestClassifier(bootstrap=True, class_weight='balanced',\n",
      "            criterion='gini', max_depth=90, max_features='auto',\n",
      "            max_leaf_nodes=None, min_impurity_decrease=0.0,\n",
      "            min_impurity_split=None, min_samples_leaf=5,\n",
      "            min_samples_split=2, min_weight_fraction_leaf=0.0,\n",
      "            n_estimators=1200, n_jobs=-1, oob_score=False, random_state=0,\n",
      "            verbose=0, warm_start=False),\n",
      " 'base_estimator__bootstrap': True,\n",
      " 'base_estimator__class_weight': 'balanced',\n",
      " 'base_estimator__criterion': 'gini',\n",
      " 'base_estimator__max_depth': 90,\n",
      " 'base_estimator__max_features': 'auto',\n",
      " 'base_estimator__max_leaf_nodes': None,\n",
      " 'base_estimator__min_impurity_decrease': 0.0,\n",
      " 'base_estimator__min_impurity_split': None,\n",
      " 'base_estimator__min_samples_leaf': 5,\n",
      " 'base_estimator__min_samples_split': 2,\n",
      " 'base_estimator__min_weight_fraction_leaf': 0.0,\n",
      " 'base_estimator__n_estimators': 1200,\n",
      " 'base_estimator__n_jobs': -1,\n",
      " 'base_estimator__oob_score': False,\n",
      " 'base_estimator__random_state': 0,\n",
      " 'base_estimator__verbose': 0,\n",
      " 'base_estimator__warm_start': False,\n",
      " 'learning_rate': 1,\n",
      " 'n_estimators': 50,\n",
      " 'random_state': None}\n"
     ]
    }
   ],
   "source": [
    "rf = RandomForestClassifier(n_jobs=-1, class_weight='balanced', random_state=0,bootstrap=True,max_depth=90, max_features='auto', min_samples_leaf=5, min_samples_split=2,n_estimators=1200 )\n",
    "clf11 = AdaBoostClassifier(base_estimator=rf,learning_rate=1)\n",
    "print('Parameters currently in use:\\n')\n",
    "pprint(clf11.get_params())"
   ]
  },
  {
   "cell_type": "code",
   "execution_count": 91,
   "metadata": {},
   "outputs": [
    {
     "name": "stdout",
     "output_type": "stream",
     "text": [
      "{'base_estimator__bootstrap': [True, False],\n",
      " 'base_estimator__max_depth': [10,\n",
      "                               20,\n",
      "                               30,\n",
      "                               40,\n",
      "                               50,\n",
      "                               60,\n",
      "                               70,\n",
      "                               80,\n",
      "                               90,\n",
      "                               100,\n",
      "                               110,\n",
      "                               None],\n",
      " 'base_estimator__max_features': ['auto', 'sqrt', 'log2'],\n",
      " 'base_estimator__min_samples_leaf': [1, 2, 4],\n",
      " 'base_estimator__min_samples_split': [2, 5, 10],\n",
      " 'learning_rate': [0.01, 0.05, 0.1, 0.3, 1],\n",
      " 'n_estimators': [100, 311, 522, 733, 944, 1155, 1366, 1577, 1788, 2000]}\n"
     ]
    }
   ],
   "source": [
    "# number of trees\n",
    "n_estimators = [int(x) for x in np.linspace(start = 100, stop = 2000, num = 10)]\n",
    "# max number of features to consider at every split\n",
    "max_features = ['auto', 'sqrt', 'log2']\n",
    "# max number of levels in tree\n",
    "max_depth = [int(x) for x in np.linspace(10, 110, num = 11)]\n",
    "max_depth.append(None)\n",
    "# min number of samples required to split a node\n",
    "min_samples_split = [2, 5, 10]\n",
    "# min number of samples required at each leaf node\n",
    "min_samples_leaf = [1, 2, 4]\n",
    "# method of selecting samples for training each tree\n",
    "bootstrap = [True, False]\n",
    "#learning rate\n",
    "learning_rate = [0.01,0.05,0.1,0.3,1]\n",
    "# create the random grid\n",
    "random_grid = {'n_estimators': n_estimators,\n",
    "               'learning_rate': learning_rate,\n",
    "               'base_estimator__max_features': max_features,\n",
    "               'base_estimator__max_depth': max_depth,\n",
    "               'base_estimator__min_samples_split': min_samples_split,\n",
    "               'base_estimator__min_samples_leaf': min_samples_leaf,\n",
    "               'base_estimator__bootstrap': bootstrap}\n",
    "pprint(random_grid)"
   ]
  },
  {
   "cell_type": "code",
   "execution_count": 92,
   "metadata": {},
   "outputs": [
    {
     "name": "stdout",
     "output_type": "stream",
     "text": [
      "Fitting 5 folds for each of 10 candidates, totalling 50 fits\n",
      "[CV] n_estimators=944, learning_rate=0.01, base_estimator__min_samples_split=10, base_estimator__min_samples_leaf=2, base_estimator__max_features=sqrt, base_estimator__max_depth=60, base_estimator__bootstrap=False \n",
      "[CV] n_estimators=944, learning_rate=0.01, base_estimator__min_samples_split=10, base_estimator__min_samples_leaf=2, base_estimator__max_features=sqrt, base_estimator__max_depth=60, base_estimator__bootstrap=False \n",
      "[CV] n_estimators=944, learning_rate=0.01, base_estimator__min_samples_split=10, base_estimator__min_samples_leaf=2, base_estimator__max_features=sqrt, base_estimator__max_depth=60, base_estimator__bootstrap=False \n",
      "[CV] n_estimators=944, learning_rate=0.01, base_estimator__min_samples_split=10, base_estimator__min_samples_leaf=2, base_estimator__max_features=sqrt, base_estimator__max_depth=60, base_estimator__bootstrap=False \n",
      "[CV] n_estimators=944, learning_rate=0.01, base_estimator__min_samples_split=10, base_estimator__min_samples_leaf=2, base_estimator__max_features=sqrt, base_estimator__max_depth=60, base_estimator__bootstrap=False \n",
      "[CV] n_estimators=1155, learning_rate=1, base_estimator__min_samples_split=2, base_estimator__min_samples_leaf=1, base_estimator__max_features=log2, base_estimator__max_depth=None, base_estimator__bootstrap=True \n",
      "[CV] n_estimators=1155, learning_rate=1, base_estimator__min_samples_split=2, base_estimator__min_samples_leaf=1, base_estimator__max_features=log2, base_estimator__max_depth=None, base_estimator__bootstrap=True \n",
      "[CV] n_estimators=1155, learning_rate=1, base_estimator__min_samples_split=2, base_estimator__min_samples_leaf=1, base_estimator__max_features=log2, base_estimator__max_depth=None, base_estimator__bootstrap=True \n",
      "[CV]  n_estimators=1155, learning_rate=1, base_estimator__min_samples_split=2, base_estimator__min_samples_leaf=1, base_estimator__max_features=log2, base_estimator__max_depth=None, base_estimator__bootstrap=True, total=  10.9s\n",
      "[CV] n_estimators=1155, learning_rate=1, base_estimator__min_samples_split=2, base_estimator__min_samples_leaf=1, base_estimator__max_features=log2, base_estimator__max_depth=None, base_estimator__bootstrap=True \n",
      "[CV]  n_estimators=1155, learning_rate=1, base_estimator__min_samples_split=2, base_estimator__min_samples_leaf=1, base_estimator__max_features=log2, base_estimator__max_depth=None, base_estimator__bootstrap=True, total=  10.9s\n",
      "[CV] n_estimators=1155, learning_rate=1, base_estimator__min_samples_split=2, base_estimator__min_samples_leaf=1, base_estimator__max_features=log2, base_estimator__max_depth=None, base_estimator__bootstrap=True \n",
      "[CV]  n_estimators=1155, learning_rate=1, base_estimator__min_samples_split=2, base_estimator__min_samples_leaf=1, base_estimator__max_features=log2, base_estimator__max_depth=None, base_estimator__bootstrap=True, total=  11.5s\n",
      "[CV] n_estimators=100, learning_rate=0.05, base_estimator__min_samples_split=10, base_estimator__min_samples_leaf=4, base_estimator__max_features=sqrt, base_estimator__max_depth=10, base_estimator__bootstrap=True \n",
      "[CV]  n_estimators=944, learning_rate=0.01, base_estimator__min_samples_split=10, base_estimator__min_samples_leaf=2, base_estimator__max_features=sqrt, base_estimator__max_depth=60, base_estimator__bootstrap=False, total=  12.4s\n",
      "[CV] n_estimators=100, learning_rate=0.05, base_estimator__min_samples_split=10, base_estimator__min_samples_leaf=4, base_estimator__max_features=sqrt, base_estimator__max_depth=10, base_estimator__bootstrap=True \n",
      "[CV]  n_estimators=1155, learning_rate=1, base_estimator__min_samples_split=2, base_estimator__min_samples_leaf=1, base_estimator__max_features=log2, base_estimator__max_depth=None, base_estimator__bootstrap=True, total=   9.3s\n",
      "[CV] n_estimators=100, learning_rate=0.05, base_estimator__min_samples_split=10, base_estimator__min_samples_leaf=4, base_estimator__max_features=sqrt, base_estimator__max_depth=10, base_estimator__bootstrap=True \n",
      "[CV]  n_estimators=1155, learning_rate=1, base_estimator__min_samples_split=2, base_estimator__min_samples_leaf=1, base_estimator__max_features=log2, base_estimator__max_depth=None, base_estimator__bootstrap=True, total=  10.3s\n",
      "[CV] n_estimators=100, learning_rate=0.05, base_estimator__min_samples_split=10, base_estimator__min_samples_leaf=4, base_estimator__max_features=sqrt, base_estimator__max_depth=10, base_estimator__bootstrap=True \n",
      "[CV]  n_estimators=944, learning_rate=0.01, base_estimator__min_samples_split=10, base_estimator__min_samples_leaf=2, base_estimator__max_features=sqrt, base_estimator__max_depth=60, base_estimator__bootstrap=False, total=  49.7s\n",
      "[CV] n_estimators=100, learning_rate=0.05, base_estimator__min_samples_split=10, base_estimator__min_samples_leaf=4, base_estimator__max_features=sqrt, base_estimator__max_depth=10, base_estimator__bootstrap=True \n",
      "[CV]  n_estimators=944, learning_rate=0.01, base_estimator__min_samples_split=10, base_estimator__min_samples_leaf=2, base_estimator__max_features=sqrt, base_estimator__max_depth=60, base_estimator__bootstrap=False, total= 1.4min\n",
      "[CV] n_estimators=100, learning_rate=1, base_estimator__min_samples_split=10, base_estimator__min_samples_leaf=4, base_estimator__max_features=log2, base_estimator__max_depth=40, base_estimator__bootstrap=True \n",
      "[CV]  n_estimators=100, learning_rate=1, base_estimator__min_samples_split=10, base_estimator__min_samples_leaf=4, base_estimator__max_features=log2, base_estimator__max_depth=40, base_estimator__bootstrap=True, total=  21.9s\n",
      "[CV] n_estimators=100, learning_rate=1, base_estimator__min_samples_split=10, base_estimator__min_samples_leaf=4, base_estimator__max_features=log2, base_estimator__max_depth=40, base_estimator__bootstrap=True \n",
      "[CV]  n_estimators=100, learning_rate=1, base_estimator__min_samples_split=10, base_estimator__min_samples_leaf=4, base_estimator__max_features=log2, base_estimator__max_depth=40, base_estimator__bootstrap=True, total=  20.9s\n",
      "[CV] n_estimators=100, learning_rate=1, base_estimator__min_samples_split=10, base_estimator__min_samples_leaf=4, base_estimator__max_features=log2, base_estimator__max_depth=40, base_estimator__bootstrap=True \n",
      "[CV]  n_estimators=944, learning_rate=0.01, base_estimator__min_samples_split=10, base_estimator__min_samples_leaf=2, base_estimator__max_features=sqrt, base_estimator__max_depth=60, base_estimator__bootstrap=False, total= 2.2min\n",
      "[CV] n_estimators=100, learning_rate=1, base_estimator__min_samples_split=10, base_estimator__min_samples_leaf=4, base_estimator__max_features=log2, base_estimator__max_depth=40, base_estimator__bootstrap=True \n",
      "[CV]  n_estimators=100, learning_rate=1, base_estimator__min_samples_split=10, base_estimator__min_samples_leaf=4, base_estimator__max_features=log2, base_estimator__max_depth=40, base_estimator__bootstrap=True, total=  20.6s\n",
      "[CV] n_estimators=100, learning_rate=1, base_estimator__min_samples_split=10, base_estimator__min_samples_leaf=4, base_estimator__max_features=log2, base_estimator__max_depth=40, base_estimator__bootstrap=True \n",
      "[CV]  n_estimators=100, learning_rate=1, base_estimator__min_samples_split=10, base_estimator__min_samples_leaf=4, base_estimator__max_features=log2, base_estimator__max_depth=40, base_estimator__bootstrap=True, total=  22.3s\n",
      "[CV] n_estimators=522, learning_rate=0.01, base_estimator__min_samples_split=10, base_estimator__min_samples_leaf=1, base_estimator__max_features=auto, base_estimator__max_depth=110, base_estimator__bootstrap=False \n",
      "[CV]  n_estimators=944, learning_rate=0.01, base_estimator__min_samples_split=10, base_estimator__min_samples_leaf=2, base_estimator__max_features=sqrt, base_estimator__max_depth=60, base_estimator__bootstrap=False, total= 2.7min\n",
      "[CV] n_estimators=522, learning_rate=0.01, base_estimator__min_samples_split=10, base_estimator__min_samples_leaf=1, base_estimator__max_features=auto, base_estimator__max_depth=110, base_estimator__bootstrap=False \n",
      "[CV]  n_estimators=522, learning_rate=0.01, base_estimator__min_samples_split=10, base_estimator__min_samples_leaf=1, base_estimator__max_features=auto, base_estimator__max_depth=110, base_estimator__bootstrap=False, total=  11.8s\n",
      "[CV] n_estimators=522, learning_rate=0.01, base_estimator__min_samples_split=10, base_estimator__min_samples_leaf=1, base_estimator__max_features=auto, base_estimator__max_depth=110, base_estimator__bootstrap=False \n"
     ]
    },
    {
     "name": "stdout",
     "output_type": "stream",
     "text": [
      "[CV]  n_estimators=522, learning_rate=0.01, base_estimator__min_samples_split=10, base_estimator__min_samples_leaf=1, base_estimator__max_features=auto, base_estimator__max_depth=110, base_estimator__bootstrap=False, total=  11.7s\n",
      "[CV] n_estimators=522, learning_rate=0.01, base_estimator__min_samples_split=10, base_estimator__min_samples_leaf=1, base_estimator__max_features=auto, base_estimator__max_depth=110, base_estimator__bootstrap=False \n",
      "[CV]  n_estimators=522, learning_rate=0.01, base_estimator__min_samples_split=10, base_estimator__min_samples_leaf=1, base_estimator__max_features=auto, base_estimator__max_depth=110, base_estimator__bootstrap=False, total=  11.8s\n",
      "[CV] n_estimators=522, learning_rate=0.01, base_estimator__min_samples_split=10, base_estimator__min_samples_leaf=1, base_estimator__max_features=auto, base_estimator__max_depth=110, base_estimator__bootstrap=False \n",
      "[CV]  n_estimators=100, learning_rate=1, base_estimator__min_samples_split=10, base_estimator__min_samples_leaf=4, base_estimator__max_features=log2, base_estimator__max_depth=40, base_estimator__bootstrap=True, total=  32.0s\n",
      "[CV] n_estimators=1155, learning_rate=0.1, base_estimator__min_samples_split=10, base_estimator__min_samples_leaf=4, base_estimator__max_features=log2, base_estimator__max_depth=40, base_estimator__bootstrap=False \n",
      "[CV]  n_estimators=522, learning_rate=0.01, base_estimator__min_samples_split=10, base_estimator__min_samples_leaf=1, base_estimator__max_features=auto, base_estimator__max_depth=110, base_estimator__bootstrap=False, total=  12.0s\n",
      "[CV] n_estimators=1155, learning_rate=0.1, base_estimator__min_samples_split=10, base_estimator__min_samples_leaf=4, base_estimator__max_features=log2, base_estimator__max_depth=40, base_estimator__bootstrap=False \n",
      "[CV]  n_estimators=522, learning_rate=0.01, base_estimator__min_samples_split=10, base_estimator__min_samples_leaf=1, base_estimator__max_features=auto, base_estimator__max_depth=110, base_estimator__bootstrap=False, total=  13.1s\n",
      "[CV] n_estimators=1155, learning_rate=0.1, base_estimator__min_samples_split=10, base_estimator__min_samples_leaf=4, base_estimator__max_features=log2, base_estimator__max_depth=40, base_estimator__bootstrap=False \n",
      "[CV]  n_estimators=1155, learning_rate=0.1, base_estimator__min_samples_split=10, base_estimator__min_samples_leaf=4, base_estimator__max_features=log2, base_estimator__max_depth=40, base_estimator__bootstrap=False, total=  45.6s\n",
      "[CV] n_estimators=1155, learning_rate=0.1, base_estimator__min_samples_split=10, base_estimator__min_samples_leaf=4, base_estimator__max_features=log2, base_estimator__max_depth=40, base_estimator__bootstrap=False \n",
      "[CV]  n_estimators=1155, learning_rate=0.1, base_estimator__min_samples_split=10, base_estimator__min_samples_leaf=4, base_estimator__max_features=log2, base_estimator__max_depth=40, base_estimator__bootstrap=False, total=  57.6s\n",
      "[CV] n_estimators=1155, learning_rate=0.1, base_estimator__min_samples_split=10, base_estimator__min_samples_leaf=4, base_estimator__max_features=log2, base_estimator__max_depth=40, base_estimator__bootstrap=False \n",
      "[CV]  n_estimators=1155, learning_rate=0.1, base_estimator__min_samples_split=10, base_estimator__min_samples_leaf=4, base_estimator__max_features=log2, base_estimator__max_depth=40, base_estimator__bootstrap=False, total= 1.0min\n",
      "[CV] n_estimators=944, learning_rate=0.05, base_estimator__min_samples_split=10, base_estimator__min_samples_leaf=2, base_estimator__max_features=log2, base_estimator__max_depth=90, base_estimator__bootstrap=True \n",
      "[CV]  n_estimators=1155, learning_rate=0.1, base_estimator__min_samples_split=10, base_estimator__min_samples_leaf=4, base_estimator__max_features=log2, base_estimator__max_depth=40, base_estimator__bootstrap=False, total=  33.5s\n",
      "[CV] n_estimators=944, learning_rate=0.05, base_estimator__min_samples_split=10, base_estimator__min_samples_leaf=2, base_estimator__max_features=log2, base_estimator__max_depth=90, base_estimator__bootstrap=True \n",
      "[CV]  n_estimators=1155, learning_rate=0.1, base_estimator__min_samples_split=10, base_estimator__min_samples_leaf=4, base_estimator__max_features=log2, base_estimator__max_depth=40, base_estimator__bootstrap=False, total=  59.0s\n",
      "[CV] n_estimators=944, learning_rate=0.05, base_estimator__min_samples_split=10, base_estimator__min_samples_leaf=2, base_estimator__max_features=log2, base_estimator__max_depth=90, base_estimator__bootstrap=True \n"
     ]
    },
    {
     "name": "stderr",
     "output_type": "stream",
     "text": [
      "[Parallel(n_jobs=-1)]: Done  25 tasks      | elapsed:  5.2min\n"
     ]
    },
    {
     "name": "stdout",
     "output_type": "stream",
     "text": [
      "[CV]  n_estimators=100, learning_rate=0.05, base_estimator__min_samples_split=10, base_estimator__min_samples_leaf=4, base_estimator__max_features=sqrt, base_estimator__max_depth=10, base_estimator__bootstrap=True, total= 5.6min\n",
      "[CV] n_estimators=944, learning_rate=0.05, base_estimator__min_samples_split=10, base_estimator__min_samples_leaf=2, base_estimator__max_features=log2, base_estimator__max_depth=90, base_estimator__bootstrap=True \n",
      "[CV]  n_estimators=100, learning_rate=0.05, base_estimator__min_samples_split=10, base_estimator__min_samples_leaf=4, base_estimator__max_features=sqrt, base_estimator__max_depth=10, base_estimator__bootstrap=True, total= 5.9min\n",
      "[CV] n_estimators=944, learning_rate=0.05, base_estimator__min_samples_split=10, base_estimator__min_samples_leaf=2, base_estimator__max_features=log2, base_estimator__max_depth=90, base_estimator__bootstrap=True \n",
      "[CV]  n_estimators=100, learning_rate=0.05, base_estimator__min_samples_split=10, base_estimator__min_samples_leaf=4, base_estimator__max_features=sqrt, base_estimator__max_depth=10, base_estimator__bootstrap=True, total= 6.0min\n",
      "[CV] n_estimators=944, learning_rate=0.3, base_estimator__min_samples_split=2, base_estimator__min_samples_leaf=1, base_estimator__max_features=sqrt, base_estimator__max_depth=90, base_estimator__bootstrap=True \n",
      "[CV]  n_estimators=944, learning_rate=0.3, base_estimator__min_samples_split=2, base_estimator__min_samples_leaf=1, base_estimator__max_features=sqrt, base_estimator__max_depth=90, base_estimator__bootstrap=True, total=  11.2s\n",
      "[CV] n_estimators=944, learning_rate=0.3, base_estimator__min_samples_split=2, base_estimator__min_samples_leaf=1, base_estimator__max_features=sqrt, base_estimator__max_depth=90, base_estimator__bootstrap=True \n",
      "[CV]  n_estimators=100, learning_rate=0.05, base_estimator__min_samples_split=10, base_estimator__min_samples_leaf=4, base_estimator__max_features=sqrt, base_estimator__max_depth=10, base_estimator__bootstrap=True, total= 6.2min\n",
      "[CV] n_estimators=944, learning_rate=0.3, base_estimator__min_samples_split=2, base_estimator__min_samples_leaf=1, base_estimator__max_features=sqrt, base_estimator__max_depth=90, base_estimator__bootstrap=True \n",
      "[CV]  n_estimators=944, learning_rate=0.3, base_estimator__min_samples_split=2, base_estimator__min_samples_leaf=1, base_estimator__max_features=sqrt, base_estimator__max_depth=90, base_estimator__bootstrap=True, total=  13.2s\n",
      "[CV] n_estimators=944, learning_rate=0.3, base_estimator__min_samples_split=2, base_estimator__min_samples_leaf=1, base_estimator__max_features=sqrt, base_estimator__max_depth=90, base_estimator__bootstrap=True \n",
      "[CV]  n_estimators=944, learning_rate=0.3, base_estimator__min_samples_split=2, base_estimator__min_samples_leaf=1, base_estimator__max_features=sqrt, base_estimator__max_depth=90, base_estimator__bootstrap=True, total=  12.5s\n",
      "[CV] n_estimators=944, learning_rate=0.3, base_estimator__min_samples_split=2, base_estimator__min_samples_leaf=1, base_estimator__max_features=sqrt, base_estimator__max_depth=90, base_estimator__bootstrap=True \n",
      "[CV]  n_estimators=944, learning_rate=0.3, base_estimator__min_samples_split=2, base_estimator__min_samples_leaf=1, base_estimator__max_features=sqrt, base_estimator__max_depth=90, base_estimator__bootstrap=True, total=  11.6s\n",
      "[CV] n_estimators=1788, learning_rate=0.05, base_estimator__min_samples_split=5, base_estimator__min_samples_leaf=1, base_estimator__max_features=sqrt, base_estimator__max_depth=50, base_estimator__bootstrap=False \n",
      "[CV]  n_estimators=944, learning_rate=0.3, base_estimator__min_samples_split=2, base_estimator__min_samples_leaf=1, base_estimator__max_features=sqrt, base_estimator__max_depth=90, base_estimator__bootstrap=True, total=  11.8s\n",
      "[CV] n_estimators=1788, learning_rate=0.05, base_estimator__min_samples_split=5, base_estimator__min_samples_leaf=1, base_estimator__max_features=sqrt, base_estimator__max_depth=50, base_estimator__bootstrap=False \n",
      "[CV]  n_estimators=1788, learning_rate=0.05, base_estimator__min_samples_split=5, base_estimator__min_samples_leaf=1, base_estimator__max_features=sqrt, base_estimator__max_depth=50, base_estimator__bootstrap=False, total=  13.1s\n",
      "[CV] n_estimators=1788, learning_rate=0.05, base_estimator__min_samples_split=5, base_estimator__min_samples_leaf=1, base_estimator__max_features=sqrt, base_estimator__max_depth=50, base_estimator__bootstrap=False \n",
      "[CV]  n_estimators=100, learning_rate=0.05, base_estimator__min_samples_split=10, base_estimator__min_samples_leaf=4, base_estimator__max_features=sqrt, base_estimator__max_depth=10, base_estimator__bootstrap=True, total= 6.3min\n",
      "[CV] n_estimators=1788, learning_rate=0.05, base_estimator__min_samples_split=5, base_estimator__min_samples_leaf=1, base_estimator__max_features=sqrt, base_estimator__max_depth=50, base_estimator__bootstrap=False \n",
      "[CV]  n_estimators=1788, learning_rate=0.05, base_estimator__min_samples_split=5, base_estimator__min_samples_leaf=1, base_estimator__max_features=sqrt, base_estimator__max_depth=50, base_estimator__bootstrap=False, total=  12.9s\n",
      "[CV] n_estimators=1788, learning_rate=0.05, base_estimator__min_samples_split=5, base_estimator__min_samples_leaf=1, base_estimator__max_features=sqrt, base_estimator__max_depth=50, base_estimator__bootstrap=False \n",
      "[CV]  n_estimators=1788, learning_rate=0.05, base_estimator__min_samples_split=5, base_estimator__min_samples_leaf=1, base_estimator__max_features=sqrt, base_estimator__max_depth=50, base_estimator__bootstrap=False, total=  13.0s\n",
      "[CV] n_estimators=1155, learning_rate=0.05, base_estimator__min_samples_split=10, base_estimator__min_samples_leaf=4, base_estimator__max_features=sqrt, base_estimator__max_depth=50, base_estimator__bootstrap=True \n",
      "[CV]  n_estimators=1788, learning_rate=0.05, base_estimator__min_samples_split=5, base_estimator__min_samples_leaf=1, base_estimator__max_features=sqrt, base_estimator__max_depth=50, base_estimator__bootstrap=False, total=  13.5s\n",
      "[CV] n_estimators=1155, learning_rate=0.05, base_estimator__min_samples_split=10, base_estimator__min_samples_leaf=4, base_estimator__max_features=sqrt, base_estimator__max_depth=50, base_estimator__bootstrap=True \n",
      "[CV]  n_estimators=1788, learning_rate=0.05, base_estimator__min_samples_split=5, base_estimator__min_samples_leaf=1, base_estimator__max_features=sqrt, base_estimator__max_depth=50, base_estimator__bootstrap=False, total=  12.3s\n",
      "[CV] n_estimators=1155, learning_rate=0.05, base_estimator__min_samples_split=10, base_estimator__min_samples_leaf=4, base_estimator__max_features=sqrt, base_estimator__max_depth=50, base_estimator__bootstrap=True \n",
      "[CV]  n_estimators=944, learning_rate=0.05, base_estimator__min_samples_split=10, base_estimator__min_samples_leaf=2, base_estimator__max_features=log2, base_estimator__max_depth=90, base_estimator__bootstrap=True, total= 3.8min\n",
      "[CV] n_estimators=1155, learning_rate=0.05, base_estimator__min_samples_split=10, base_estimator__min_samples_leaf=4, base_estimator__max_features=sqrt, base_estimator__max_depth=50, base_estimator__bootstrap=True \n",
      "[CV]  n_estimators=944, learning_rate=0.05, base_estimator__min_samples_split=10, base_estimator__min_samples_leaf=2, base_estimator__max_features=log2, base_estimator__max_depth=90, base_estimator__bootstrap=True, total= 3.5min\n",
      "[CV] n_estimators=1155, learning_rate=0.05, base_estimator__min_samples_split=10, base_estimator__min_samples_leaf=4, base_estimator__max_features=sqrt, base_estimator__max_depth=50, base_estimator__bootstrap=True \n",
      "[CV]  n_estimators=944, learning_rate=0.05, base_estimator__min_samples_split=10, base_estimator__min_samples_leaf=2, base_estimator__max_features=log2, base_estimator__max_depth=90, base_estimator__bootstrap=True, total= 3.6min\n",
      "[CV]  n_estimators=944, learning_rate=0.05, base_estimator__min_samples_split=10, base_estimator__min_samples_leaf=2, base_estimator__max_features=log2, base_estimator__max_depth=90, base_estimator__bootstrap=True, total= 3.8min\n",
      "[CV]  n_estimators=944, learning_rate=0.05, base_estimator__min_samples_split=10, base_estimator__min_samples_leaf=2, base_estimator__max_features=log2, base_estimator__max_depth=90, base_estimator__bootstrap=True, total= 3.8min\n"
     ]
    },
    {
     "name": "stdout",
     "output_type": "stream",
     "text": [
      "[CV]  n_estimators=1155, learning_rate=0.05, base_estimator__min_samples_split=10, base_estimator__min_samples_leaf=4, base_estimator__max_features=sqrt, base_estimator__max_depth=50, base_estimator__bootstrap=True, total= 3.9min\n",
      "[CV]  n_estimators=1155, learning_rate=0.05, base_estimator__min_samples_split=10, base_estimator__min_samples_leaf=4, base_estimator__max_features=sqrt, base_estimator__max_depth=50, base_estimator__bootstrap=True, total= 4.1min\n",
      "[CV]  n_estimators=1155, learning_rate=0.05, base_estimator__min_samples_split=10, base_estimator__min_samples_leaf=4, base_estimator__max_features=sqrt, base_estimator__max_depth=50, base_estimator__bootstrap=True, total= 4.0min\n",
      "[CV]  n_estimators=1155, learning_rate=0.05, base_estimator__min_samples_split=10, base_estimator__min_samples_leaf=4, base_estimator__max_features=sqrt, base_estimator__max_depth=50, base_estimator__bootstrap=True, total= 3.8min\n",
      "[CV]  n_estimators=1155, learning_rate=0.05, base_estimator__min_samples_split=10, base_estimator__min_samples_leaf=4, base_estimator__max_features=sqrt, base_estimator__max_depth=50, base_estimator__bootstrap=True, total= 4.0min\n"
     ]
    },
    {
     "name": "stderr",
     "output_type": "stream",
     "text": [
      "[Parallel(n_jobs=-1)]: Done  50 out of  50 | elapsed: 12.7min finished\n"
     ]
    },
    {
     "data": {
      "text/plain": [
       "RandomizedSearchCV(cv=5, error_score='raise',\n",
       "          estimator=AdaBoostClassifier(algorithm='SAMME.R',\n",
       "          base_estimator=RandomForestClassifier(bootstrap=True, class_weight='balanced',\n",
       "            criterion='gini', max_depth=90, max_features='auto',\n",
       "            max_leaf_nodes=None, min_impurity_decrease=0.0,\n",
       "            min_impurity_split=None,...        verbose=0, warm_start=False),\n",
       "          learning_rate=1, n_estimators=50, random_state=None),\n",
       "          fit_params=None, iid=True, n_iter=10, n_jobs=-1,\n",
       "          param_distributions={'n_estimators': [100, 311, 522, 733, 944, 1155, 1366, 1577, 1788, 2000], 'learning_rate': [0.01, 0.05, 0.1, 0.3, 1], 'base_estimator__max_features': ['auto', 'sqrt', 'log2'], 'base_estimator__max_depth': [10, 20, 30, 40, 50, 60, 70, 80, 90, 100, 110, None], 'base_estimator__min_samples_split': [2, 5, 10], 'base_estimator__min_samples_leaf': [1, 2, 4], 'base_estimator__bootstrap': [True, False]},\n",
       "          pre_dispatch='2*n_jobs', random_state=42, refit=True,\n",
       "          return_train_score='warn', scoring=None, verbose=2)"
      ]
     },
     "execution_count": 92,
     "metadata": {},
     "output_type": "execute_result"
    }
   ],
   "source": [
    "# random search of parameters, using 5 fold cross validation, \n",
    "# search across 10 different combinations, and use all available cores\n",
    "clf11_random = RandomizedSearchCV(estimator = clf11, param_distributions = random_grid, n_iter = 10, cv = 5, verbose=2, random_state=42, n_jobs = -1)\n",
    "# Fit the random search model\n",
    "clf11_random.fit(X_train, y_train)"
   ]
  },
  {
   "cell_type": "code",
   "execution_count": 93,
   "metadata": {
    "scrolled": true
   },
   "outputs": [
    {
     "data": {
      "text/plain": [
       "{'base_estimator__bootstrap': True,\n",
       " 'base_estimator__max_depth': 40,\n",
       " 'base_estimator__max_features': 'log2',\n",
       " 'base_estimator__min_samples_leaf': 4,\n",
       " 'base_estimator__min_samples_split': 10,\n",
       " 'learning_rate': 1,\n",
       " 'n_estimators': 100}"
      ]
     },
     "execution_count": 93,
     "metadata": {},
     "output_type": "execute_result"
    }
   ],
   "source": [
    "clf11_random.best_params_"
   ]
  },
  {
   "cell_type": "code",
   "execution_count": 94,
   "metadata": {
    "scrolled": true
   },
   "outputs": [
    {
     "data": {
      "text/html": [
       "<div>\n",
       "<style>\n",
       "    .dataframe thead tr:only-child th {\n",
       "        text-align: right;\n",
       "    }\n",
       "\n",
       "    .dataframe thead th {\n",
       "        text-align: left;\n",
       "    }\n",
       "\n",
       "    .dataframe tbody tr th {\n",
       "        vertical-align: top;\n",
       "    }\n",
       "</style>\n",
       "<table border=\"1\" class=\"dataframe\">\n",
       "  <thead>\n",
       "    <tr style=\"text-align: right;\">\n",
       "      <th>Predicted</th>\n",
       "      <th>0</th>\n",
       "      <th>1</th>\n",
       "    </tr>\n",
       "    <tr>\n",
       "      <th>Actual</th>\n",
       "      <th></th>\n",
       "      <th></th>\n",
       "    </tr>\n",
       "  </thead>\n",
       "  <tbody>\n",
       "    <tr>\n",
       "      <th>0</th>\n",
       "      <td>169</td>\n",
       "      <td>19</td>\n",
       "    </tr>\n",
       "    <tr>\n",
       "      <th>1</th>\n",
       "      <td>47</td>\n",
       "      <td>55</td>\n",
       "    </tr>\n",
       "  </tbody>\n",
       "</table>\n",
       "</div>"
      ],
      "text/plain": [
       "Predicted    0   1\n",
       "Actual            \n",
       "0          169  19\n",
       "1           47  55"
      ]
     },
     "execution_count": 94,
     "metadata": {},
     "output_type": "execute_result"
    }
   ],
   "source": [
    "clf11_best_random = clf11_random.best_estimator_\n",
    "predictions11 = clf11_best_random.predict(X_test)\n",
    "cm = pd.crosstab(y_test, predictions11, rownames=['Actual'], colnames=['Predicted'])\n",
    "cm"
   ]
  },
  {
   "cell_type": "code",
   "execution_count": 95,
   "metadata": {
    "scrolled": true
   },
   "outputs": [
    {
     "name": "stdout",
     "output_type": "stream",
     "text": [
      "Accuracy: 0.77\n",
      "FNR: 0.46\n",
      "Recall: 0.54\n",
      "Precision: 0.74\n",
      "F1: 0.62\n"
     ]
    }
   ],
   "source": [
    "TP = cm[1][1]\n",
    "FP = cm[1][0]\n",
    "FN = cm[0][1]\n",
    "TN = cm[0][0]\n",
    "print('Accuracy:',round((TP+TN)/(TP+FP+FN+TN),2))\n",
    "print('FNR:',round(FN / (TP+FN),2))\n",
    "print('Recall:',round(TP/(TP+FN),2))\n",
    "print('Precision:',round(TP/(TP+FP),2))\n",
    "print('F1:',round(2*TP/(2*TP+FP+FN),2))"
   ]
  },
  {
   "cell_type": "markdown",
   "metadata": {},
   "source": [
    "For comparison the tuned random forest  \n",
    "Accuracy: 0.77  \n",
    "FNR: 0.47  \n",
    "Recall: 0.53  \n",
    "Precision: 0.75  \n",
    "F1: 0.62  \n",
    "\n",
    "This tuned adaboost performs similarily to the tuned random forest. Interestingly, the parameters are slightly different with a larger min_samples_split (10) and a max_features (log2) and a small n_estimators (100)"
   ]
  },
  {
   "cell_type": "markdown",
   "metadata": {},
   "source": [
    "# GradientBoost Model12"
   ]
  },
  {
   "cell_type": "code",
   "execution_count": 105,
   "metadata": {},
   "outputs": [
    {
     "data": {
      "text/plain": [
       "GradientBoostingClassifier(criterion='friedman_mse', init=None,\n",
       "              learning_rate=0.1, loss='deviance', max_depth=3,\n",
       "              max_features=None, max_leaf_nodes=None,\n",
       "              min_impurity_decrease=0.0, min_impurity_split=None,\n",
       "              min_samples_leaf=1, min_samples_split=2,\n",
       "              min_weight_fraction_leaf=0.0, n_estimators=100,\n",
       "              presort='auto', random_state=None, subsample=1.0, verbose=0,\n",
       "              warm_start=False)"
      ]
     },
     "execution_count": 105,
     "metadata": {},
     "output_type": "execute_result"
    }
   ],
   "source": [
    "from sklearn.ensemble import GradientBoostingClassifier\n",
    "\n",
    "clf12 = GradientBoostingClassifier()\n",
    "clf12.fit(X_train, y_train)"
   ]
  },
  {
   "cell_type": "code",
   "execution_count": 106,
   "metadata": {},
   "outputs": [
    {
     "data": {
      "text/html": [
       "<div>\n",
       "<style>\n",
       "    .dataframe thead tr:only-child th {\n",
       "        text-align: right;\n",
       "    }\n",
       "\n",
       "    .dataframe thead th {\n",
       "        text-align: left;\n",
       "    }\n",
       "\n",
       "    .dataframe tbody tr th {\n",
       "        vertical-align: top;\n",
       "    }\n",
       "</style>\n",
       "<table border=\"1\" class=\"dataframe\">\n",
       "  <thead>\n",
       "    <tr style=\"text-align: right;\">\n",
       "      <th>Predicted</th>\n",
       "      <th>0</th>\n",
       "      <th>1</th>\n",
       "    </tr>\n",
       "    <tr>\n",
       "      <th>Actual</th>\n",
       "      <th></th>\n",
       "      <th></th>\n",
       "    </tr>\n",
       "  </thead>\n",
       "  <tbody>\n",
       "    <tr>\n",
       "      <th>0</th>\n",
       "      <td>171</td>\n",
       "      <td>17</td>\n",
       "    </tr>\n",
       "    <tr>\n",
       "      <th>1</th>\n",
       "      <td>43</td>\n",
       "      <td>59</td>\n",
       "    </tr>\n",
       "  </tbody>\n",
       "</table>\n",
       "</div>"
      ],
      "text/plain": [
       "Predicted    0   1\n",
       "Actual            \n",
       "0          171  17\n",
       "1           43  59"
      ]
     },
     "execution_count": 106,
     "metadata": {},
     "output_type": "execute_result"
    }
   ],
   "source": [
    "predictions12 = clf12.predict(X_test)\n",
    "cm = pd.crosstab(y_test, predictions12, rownames=['Actual'], colnames=['Predicted'])\n",
    "cm"
   ]
  },
  {
   "cell_type": "code",
   "execution_count": 107,
   "metadata": {},
   "outputs": [
    {
     "name": "stdout",
     "output_type": "stream",
     "text": [
      "Accuracy: 0.79\n",
      "FNR: 0.42\n",
      "Recall: 0.58\n",
      "Precision: 0.78\n",
      "F1: 0.66\n"
     ]
    }
   ],
   "source": [
    "TP = cm[1][1]\n",
    "FP = cm[1][0]\n",
    "FN = cm[0][1]\n",
    "TN = cm[0][0]\n",
    "print('Accuracy:',round((TP+TN)/(TP+FP+FN+TN),2))\n",
    "print('FNR:',round(FN / (TP+FN),2))\n",
    "print('Recall:',round(TP/(TP+FN),2))\n",
    "print('Precision:',round(TP/(TP+FP),2))\n",
    "print('F1:',round(2*TP/(2*TP+FP+FN),2))"
   ]
  },
  {
   "cell_type": "markdown",
   "metadata": {},
   "source": [
    "# GradientBoost Model13"
   ]
  },
  {
   "cell_type": "code",
   "execution_count": 109,
   "metadata": {},
   "outputs": [
    {
     "name": "stdout",
     "output_type": "stream",
     "text": [
      "Parameters currently in use:\n",
      "\n",
      "{'criterion': 'friedman_mse',\n",
      " 'init': None,\n",
      " 'learning_rate': 0.1,\n",
      " 'loss': 'deviance',\n",
      " 'max_depth': 3,\n",
      " 'max_features': None,\n",
      " 'max_leaf_nodes': None,\n",
      " 'min_impurity_decrease': 0.0,\n",
      " 'min_impurity_split': None,\n",
      " 'min_samples_leaf': 1,\n",
      " 'min_samples_split': 2,\n",
      " 'min_weight_fraction_leaf': 0.0,\n",
      " 'n_estimators': 100,\n",
      " 'presort': 'auto',\n",
      " 'random_state': 0,\n",
      " 'subsample': 1.0,\n",
      " 'verbose': 0,\n",
      " 'warm_start': False}\n"
     ]
    }
   ],
   "source": [
    "clf13 = GradientBoostingClassifier(random_state=0)\n",
    "print('Parameters currently in use:\\n')\n",
    "pprint(clf13.get_params())"
   ]
  },
  {
   "cell_type": "code",
   "execution_count": 121,
   "metadata": {},
   "outputs": [],
   "source": [
    "random_grid = {\n",
    "    'loss': ['deviance','exponential'],\n",
    "    'max_depth': [int(x) for x in np.linspace(10, 110, num = 11)],\n",
    "    'max_features': ['auto', 'sqrt', 'log2'],\n",
    "    'min_samples_leaf': [1, 2, 4],\n",
    "    'min_samples_split': [2, 5, 10],\n",
    "    'n_estimators': [int(x) for x in np.linspace(start = 100, stop = 2000, num = 10)],\n",
    "    'learning_rate': [0.01, 0.05, 0.1, 0.3, 1],\n",
    "}"
   ]
  },
  {
   "cell_type": "code",
   "execution_count": 122,
   "metadata": {},
   "outputs": [
    {
     "name": "stdout",
     "output_type": "stream",
     "text": [
      "Fitting 5 folds for each of 10 candidates, totalling 50 fits\n",
      "[CV] n_estimators=944, min_samples_split=5, min_samples_leaf=4, max_features=sqrt, max_depth=110, loss=exponential, learning_rate=0.3 \n",
      "[CV] n_estimators=944, min_samples_split=5, min_samples_leaf=4, max_features=sqrt, max_depth=110, loss=exponential, learning_rate=0.3 \n",
      "[CV] n_estimators=944, min_samples_split=5, min_samples_leaf=4, max_features=sqrt, max_depth=110, loss=exponential, learning_rate=0.3 \n",
      "[CV] n_estimators=944, min_samples_split=5, min_samples_leaf=4, max_features=sqrt, max_depth=110, loss=exponential, learning_rate=0.3 \n",
      "[CV] n_estimators=944, min_samples_split=5, min_samples_leaf=4, max_features=sqrt, max_depth=110, loss=exponential, learning_rate=0.3 \n",
      "[CV] n_estimators=1155, min_samples_split=5, min_samples_leaf=2, max_features=sqrt, max_depth=40, loss=exponential, learning_rate=0.1 \n",
      "[CV] n_estimators=1155, min_samples_split=5, min_samples_leaf=2, max_features=sqrt, max_depth=40, loss=exponential, learning_rate=0.1 \n",
      "[CV] n_estimators=1155, min_samples_split=5, min_samples_leaf=2, max_features=sqrt, max_depth=40, loss=exponential, learning_rate=0.1 \n",
      "[CV]  n_estimators=944, min_samples_split=5, min_samples_leaf=4, max_features=sqrt, max_depth=110, loss=exponential, learning_rate=0.3, total=   1.6s\n",
      "[CV] n_estimators=1155, min_samples_split=5, min_samples_leaf=2, max_features=sqrt, max_depth=40, loss=exponential, learning_rate=0.1 \n",
      "[CV]  n_estimators=944, min_samples_split=5, min_samples_leaf=4, max_features=sqrt, max_depth=110, loss=exponential, learning_rate=0.3, total=   1.6s\n",
      "[CV]  n_estimators=944, min_samples_split=5, min_samples_leaf=4, max_features=sqrt, max_depth=110, loss=exponential, learning_rate=0.3, total=   1.6s\n",
      "[CV] n_estimators=1155, min_samples_split=5, min_samples_leaf=2, max_features=sqrt, max_depth=40, loss=exponential, learning_rate=0.1 \n",
      "[CV] n_estimators=100, min_samples_split=10, min_samples_leaf=2, max_features=auto, max_depth=40, loss=deviance, learning_rate=0.01 \n",
      "[CV]  n_estimators=944, min_samples_split=5, min_samples_leaf=4, max_features=sqrt, max_depth=110, loss=exponential, learning_rate=0.3, total=   1.6s\n",
      "[CV] n_estimators=100, min_samples_split=10, min_samples_leaf=2, max_features=auto, max_depth=40, loss=deviance, learning_rate=0.01 \n",
      "[CV]  n_estimators=944, min_samples_split=5, min_samples_leaf=4, max_features=sqrt, max_depth=110, loss=exponential, learning_rate=0.3, total=   1.7s\n",
      "[CV] n_estimators=100, min_samples_split=10, min_samples_leaf=2, max_features=auto, max_depth=40, loss=deviance, learning_rate=0.01 \n",
      "[CV]  n_estimators=1155, min_samples_split=5, min_samples_leaf=2, max_features=sqrt, max_depth=40, loss=exponential, learning_rate=0.1, total=   4.2s\n",
      "[CV] n_estimators=100, min_samples_split=10, min_samples_leaf=2, max_features=auto, max_depth=40, loss=deviance, learning_rate=0.01 \n",
      "[CV]  n_estimators=1155, min_samples_split=5, min_samples_leaf=2, max_features=sqrt, max_depth=40, loss=exponential, learning_rate=0.1, total=   4.3s\n",
      "[CV] n_estimators=100, min_samples_split=10, min_samples_leaf=2, max_features=auto, max_depth=40, loss=deviance, learning_rate=0.01 \n",
      "[CV]  n_estimators=1155, min_samples_split=5, min_samples_leaf=2, max_features=sqrt, max_depth=40, loss=exponential, learning_rate=0.1, total=   4.3s\n",
      "[CV] n_estimators=100, min_samples_split=10, min_samples_leaf=4, max_features=log2, max_depth=90, loss=exponential, learning_rate=0.01 \n",
      "[CV]  n_estimators=1155, min_samples_split=5, min_samples_leaf=2, max_features=sqrt, max_depth=40, loss=exponential, learning_rate=0.1, total=   4.5s\n",
      "[CV] n_estimators=100, min_samples_split=10, min_samples_leaf=4, max_features=log2, max_depth=90, loss=exponential, learning_rate=0.01 \n",
      "[CV]  n_estimators=1155, min_samples_split=5, min_samples_leaf=2, max_features=sqrt, max_depth=40, loss=exponential, learning_rate=0.1, total=   4.5s\n",
      "[CV] n_estimators=100, min_samples_split=10, min_samples_leaf=4, max_features=log2, max_depth=90, loss=exponential, learning_rate=0.01 \n",
      "[CV]  n_estimators=100, min_samples_split=10, min_samples_leaf=4, max_features=log2, max_depth=90, loss=exponential, learning_rate=0.01, total=   2.5s\n",
      "[CV] n_estimators=100, min_samples_split=10, min_samples_leaf=4, max_features=log2, max_depth=90, loss=exponential, learning_rate=0.01 \n",
      "[CV]  n_estimators=100, min_samples_split=10, min_samples_leaf=4, max_features=log2, max_depth=90, loss=exponential, learning_rate=0.01, total=   2.5s\n",
      "[CV] n_estimators=100, min_samples_split=10, min_samples_leaf=4, max_features=log2, max_depth=90, loss=exponential, learning_rate=0.01 \n",
      "[CV]  n_estimators=100, min_samples_split=10, min_samples_leaf=4, max_features=log2, max_depth=90, loss=exponential, learning_rate=0.01, total=   2.5s\n",
      "[CV] n_estimators=1155, min_samples_split=2, min_samples_leaf=4, max_features=log2, max_depth=30, loss=exponential, learning_rate=0.3 \n",
      "[CV]  n_estimators=100, min_samples_split=10, min_samples_leaf=2, max_features=auto, max_depth=40, loss=deviance, learning_rate=0.01, total=   7.6s\n",
      "[CV] n_estimators=1155, min_samples_split=2, min_samples_leaf=4, max_features=log2, max_depth=30, loss=exponential, learning_rate=0.3 \n",
      "[CV]  n_estimators=100, min_samples_split=10, min_samples_leaf=2, max_features=auto, max_depth=40, loss=deviance, learning_rate=0.01, total=   7.7s\n",
      "[CV]  n_estimators=100, min_samples_split=10, min_samples_leaf=4, max_features=log2, max_depth=90, loss=exponential, learning_rate=0.01, total=   2.4s\n",
      "[CV] n_estimators=1155, min_samples_split=2, min_samples_leaf=4, max_features=log2, max_depth=30, loss=exponential, learning_rate=0.3 \n",
      "[CV] n_estimators=1155, min_samples_split=2, min_samples_leaf=4, max_features=log2, max_depth=30, loss=exponential, learning_rate=0.3 \n",
      "[CV]  n_estimators=100, min_samples_split=10, min_samples_leaf=2, max_features=auto, max_depth=40, loss=deviance, learning_rate=0.01, total=   7.9s\n",
      "[CV] n_estimators=1155, min_samples_split=2, min_samples_leaf=4, max_features=log2, max_depth=30, loss=exponential, learning_rate=0.3 \n",
      "[CV]  n_estimators=1155, min_samples_split=2, min_samples_leaf=4, max_features=log2, max_depth=30, loss=exponential, learning_rate=0.3, total=   2.2s\n",
      "[CV] n_estimators=944, min_samples_split=10, min_samples_leaf=4, max_features=auto, max_depth=10, loss=deviance, learning_rate=0.1 \n",
      "[CV]  n_estimators=100, min_samples_split=10, min_samples_leaf=4, max_features=log2, max_depth=90, loss=exponential, learning_rate=0.01, total=   2.7s\n",
      "[CV] n_estimators=944, min_samples_split=10, min_samples_leaf=4, max_features=auto, max_depth=10, loss=deviance, learning_rate=0.1 \n",
      "[CV]  n_estimators=1155, min_samples_split=2, min_samples_leaf=4, max_features=log2, max_depth=30, loss=exponential, learning_rate=0.3, total=   2.2s\n",
      "[CV]  n_estimators=1155, min_samples_split=2, min_samples_leaf=4, max_features=log2, max_depth=30, loss=exponential, learning_rate=0.3, total=   2.2s\n",
      "[CV] n_estimators=944, min_samples_split=10, min_samples_leaf=4, max_features=auto, max_depth=10, loss=deviance, learning_rate=0.1 \n",
      "[CV] n_estimators=944, min_samples_split=10, min_samples_leaf=4, max_features=auto, max_depth=10, loss=deviance, learning_rate=0.1 \n",
      "[CV]  n_estimators=1155, min_samples_split=2, min_samples_leaf=4, max_features=log2, max_depth=30, loss=exponential, learning_rate=0.3, total=   2.2s\n",
      "[CV] n_estimators=944, min_samples_split=10, min_samples_leaf=4, max_features=auto, max_depth=10, loss=deviance, learning_rate=0.1 \n",
      "[CV]  n_estimators=1155, min_samples_split=2, min_samples_leaf=4, max_features=log2, max_depth=30, loss=exponential, learning_rate=0.3, total=   2.2s\n",
      "[CV] n_estimators=944, min_samples_split=2, min_samples_leaf=2, max_features=log2, max_depth=90, loss=exponential, learning_rate=0.05 \n",
      "[CV]  n_estimators=100, min_samples_split=10, min_samples_leaf=2, max_features=auto, max_depth=40, loss=deviance, learning_rate=0.01, total=   8.1s\n",
      "[CV] n_estimators=944, min_samples_split=2, min_samples_leaf=2, max_features=log2, max_depth=90, loss=exponential, learning_rate=0.05 \n",
      "[CV]  n_estimators=100, min_samples_split=10, min_samples_leaf=2, max_features=auto, max_depth=40, loss=deviance, learning_rate=0.01, total=   8.1s\n",
      "[CV] n_estimators=944, min_samples_split=2, min_samples_leaf=2, max_features=log2, max_depth=90, loss=exponential, learning_rate=0.05 \n"
     ]
    },
    {
     "name": "stderr",
     "output_type": "stream",
     "text": [
      "[Parallel(n_jobs=-1)]: Done  25 tasks      | elapsed:   12.6s\n"
     ]
    },
    {
     "name": "stdout",
     "output_type": "stream",
     "text": [
      "[CV]  n_estimators=944, min_samples_split=10, min_samples_leaf=4, max_features=auto, max_depth=10, loss=deviance, learning_rate=0.1, total=   7.2s\n",
      "[CV] n_estimators=944, min_samples_split=2, min_samples_leaf=2, max_features=log2, max_depth=90, loss=exponential, learning_rate=0.05 \n",
      "[CV]  n_estimators=944, min_samples_split=10, min_samples_leaf=4, max_features=auto, max_depth=10, loss=deviance, learning_rate=0.1, total=   7.6s\n",
      "[CV] n_estimators=944, min_samples_split=2, min_samples_leaf=2, max_features=log2, max_depth=90, loss=exponential, learning_rate=0.05 \n",
      "[CV]  n_estimators=944, min_samples_split=10, min_samples_leaf=4, max_features=auto, max_depth=10, loss=deviance, learning_rate=0.1, total=   7.5s\n",
      "[CV] n_estimators=1788, min_samples_split=2, min_samples_leaf=4, max_features=log2, max_depth=50, loss=exponential, learning_rate=0.3 \n",
      "[CV]  n_estimators=944, min_samples_split=10, min_samples_leaf=4, max_features=auto, max_depth=10, loss=deviance, learning_rate=0.1, total=   7.5s\n",
      "[CV] n_estimators=1788, min_samples_split=2, min_samples_leaf=4, max_features=log2, max_depth=50, loss=exponential, learning_rate=0.3 \n",
      "[CV]  n_estimators=944, min_samples_split=10, min_samples_leaf=4, max_features=auto, max_depth=10, loss=deviance, learning_rate=0.1, total=   7.5s\n",
      "[CV] n_estimators=1788, min_samples_split=2, min_samples_leaf=4, max_features=log2, max_depth=50, loss=exponential, learning_rate=0.3 \n",
      "[CV]  n_estimators=1788, min_samples_split=2, min_samples_leaf=4, max_features=log2, max_depth=50, loss=exponential, learning_rate=0.3, total=   2.4s\n",
      "[CV] n_estimators=1788, min_samples_split=2, min_samples_leaf=4, max_features=log2, max_depth=50, loss=exponential, learning_rate=0.3 \n",
      "[CV]  n_estimators=1788, min_samples_split=2, min_samples_leaf=4, max_features=log2, max_depth=50, loss=exponential, learning_rate=0.3, total=   2.4s\n",
      "[CV] n_estimators=1788, min_samples_split=2, min_samples_leaf=4, max_features=log2, max_depth=50, loss=exponential, learning_rate=0.3 \n",
      "[CV]  n_estimators=1788, min_samples_split=2, min_samples_leaf=4, max_features=log2, max_depth=50, loss=exponential, learning_rate=0.3, total=   2.4s\n",
      "[CV] n_estimators=1155, min_samples_split=10, min_samples_leaf=2, max_features=auto, max_depth=20, loss=deviance, learning_rate=0.05 \n",
      "[CV]  n_estimators=944, min_samples_split=2, min_samples_leaf=2, max_features=log2, max_depth=90, loss=exponential, learning_rate=0.05, total=  10.0s\n",
      "[CV] n_estimators=1155, min_samples_split=10, min_samples_leaf=2, max_features=auto, max_depth=20, loss=deviance, learning_rate=0.05 \n",
      "[CV]  n_estimators=944, min_samples_split=2, min_samples_leaf=2, max_features=log2, max_depth=90, loss=exponential, learning_rate=0.05, total=  10.0s\n",
      "[CV] n_estimators=1155, min_samples_split=10, min_samples_leaf=2, max_features=auto, max_depth=20, loss=deviance, learning_rate=0.05 \n",
      "[CV]  n_estimators=944, min_samples_split=2, min_samples_leaf=2, max_features=log2, max_depth=90, loss=exponential, learning_rate=0.05, total=   9.9s\n",
      "[CV] n_estimators=1155, min_samples_split=10, min_samples_leaf=2, max_features=auto, max_depth=20, loss=deviance, learning_rate=0.05 \n",
      "[CV]  n_estimators=1788, min_samples_split=2, min_samples_leaf=4, max_features=log2, max_depth=50, loss=exponential, learning_rate=0.3, total=   2.7s\n",
      "[CV] n_estimators=1155, min_samples_split=10, min_samples_leaf=2, max_features=auto, max_depth=20, loss=deviance, learning_rate=0.05 \n",
      "[CV]  n_estimators=1788, min_samples_split=2, min_samples_leaf=4, max_features=log2, max_depth=50, loss=exponential, learning_rate=0.3, total=   2.8s\n",
      "[CV] n_estimators=100, min_samples_split=10, min_samples_leaf=1, max_features=sqrt, max_depth=80, loss=exponential, learning_rate=0.1 \n",
      "[CV]  n_estimators=100, min_samples_split=10, min_samples_leaf=1, max_features=sqrt, max_depth=80, loss=exponential, learning_rate=0.1, total=   3.7s\n",
      "[CV] n_estimators=100, min_samples_split=10, min_samples_leaf=1, max_features=sqrt, max_depth=80, loss=exponential, learning_rate=0.1 \n",
      "[CV]  n_estimators=944, min_samples_split=2, min_samples_leaf=2, max_features=log2, max_depth=90, loss=exponential, learning_rate=0.05, total=  10.3s\n",
      "[CV] n_estimators=100, min_samples_split=10, min_samples_leaf=1, max_features=sqrt, max_depth=80, loss=exponential, learning_rate=0.1 \n",
      "[CV]  n_estimators=944, min_samples_split=2, min_samples_leaf=2, max_features=log2, max_depth=90, loss=exponential, learning_rate=0.05, total=  10.1s\n",
      "[CV] n_estimators=100, min_samples_split=10, min_samples_leaf=1, max_features=sqrt, max_depth=80, loss=exponential, learning_rate=0.1 \n",
      "[CV]  n_estimators=100, min_samples_split=10, min_samples_leaf=1, max_features=sqrt, max_depth=80, loss=exponential, learning_rate=0.1, total=   3.5s\n",
      "[CV] n_estimators=100, min_samples_split=10, min_samples_leaf=1, max_features=sqrt, max_depth=80, loss=exponential, learning_rate=0.1 \n",
      "[CV]  n_estimators=100, min_samples_split=10, min_samples_leaf=1, max_features=sqrt, max_depth=80, loss=exponential, learning_rate=0.1, total=   3.5s\n",
      "[CV]  n_estimators=100, min_samples_split=10, min_samples_leaf=1, max_features=sqrt, max_depth=80, loss=exponential, learning_rate=0.1, total=   3.4s\n",
      "[CV]  n_estimators=100, min_samples_split=10, min_samples_leaf=1, max_features=sqrt, max_depth=80, loss=exponential, learning_rate=0.1, total=   2.7s\n",
      "[CV]  n_estimators=1155, min_samples_split=10, min_samples_leaf=2, max_features=auto, max_depth=20, loss=deviance, learning_rate=0.05, total=  14.5s\n",
      "[CV]  n_estimators=1155, min_samples_split=10, min_samples_leaf=2, max_features=auto, max_depth=20, loss=deviance, learning_rate=0.05, total=  14.5s\n",
      "[CV]  n_estimators=1155, min_samples_split=10, min_samples_leaf=2, max_features=auto, max_depth=20, loss=deviance, learning_rate=0.05, total=  14.2s\n",
      "[CV]  n_estimators=1155, min_samples_split=10, min_samples_leaf=2, max_features=auto, max_depth=20, loss=deviance, learning_rate=0.05, total=  14.2s\n",
      "[CV]  n_estimators=1155, min_samples_split=10, min_samples_leaf=2, max_features=auto, max_depth=20, loss=deviance, learning_rate=0.05, total=  13.1s\n"
     ]
    },
    {
     "name": "stderr",
     "output_type": "stream",
     "text": [
      "[Parallel(n_jobs=-1)]: Done  50 out of  50 | elapsed:   37.6s finished\n"
     ]
    },
    {
     "data": {
      "text/plain": [
       "RandomizedSearchCV(cv=5, error_score='raise',\n",
       "          estimator=GradientBoostingClassifier(criterion='friedman_mse', init=None,\n",
       "              learning_rate=0.1, loss='deviance', max_depth=3,\n",
       "              max_features=None, max_leaf_nodes=None,\n",
       "              min_impurity_decrease=0.0, min_impurity_split=None,\n",
       "              min_samples_leaf=1, min_samples_split=2,\n",
       "              min_weight_fraction_leaf=0.0, n_estimators=100,\n",
       "              presort='auto', random_state=0, subsample=1.0, verbose=0,\n",
       "              warm_start=False),\n",
       "          fit_params=None, iid=True, n_iter=10, n_jobs=-1,\n",
       "          param_distributions={'loss': ['deviance', 'exponential'], 'max_depth': [10, 20, 30, 40, 50, 60, 70, 80, 90, 100, 110], 'max_features': ['auto', 'sqrt', 'log2'], 'min_samples_leaf': [1, 2, 4], 'min_samples_split': [2, 5, 10], 'n_estimators': [100, 311, 522, 733, 944, 1155, 1366, 1577, 1788, 2000], 'learning_rate': [0.01, 0.05, 0.1, 0.3, 1]},\n",
       "          pre_dispatch='2*n_jobs', random_state=42, refit=True,\n",
       "          return_train_score='warn', scoring=None, verbose=2)"
      ]
     },
     "execution_count": 122,
     "metadata": {},
     "output_type": "execute_result"
    }
   ],
   "source": [
    "clf13_random = RandomizedSearchCV(estimator = clf13, param_distributions = random_grid, n_iter = 10, cv = 5, verbose=2, random_state=42, n_jobs = -1)\n",
    "clf13_random.fit(X_train, y_train)"
   ]
  },
  {
   "cell_type": "code",
   "execution_count": 123,
   "metadata": {},
   "outputs": [
    {
     "data": {
      "text/plain": [
       "{'learning_rate': 0.1,\n",
       " 'loss': 'exponential',\n",
       " 'max_depth': 40,\n",
       " 'max_features': 'sqrt',\n",
       " 'min_samples_leaf': 2,\n",
       " 'min_samples_split': 5,\n",
       " 'n_estimators': 1155}"
      ]
     },
     "execution_count": 123,
     "metadata": {},
     "output_type": "execute_result"
    }
   ],
   "source": [
    "clf13_random.best_params_"
   ]
  },
  {
   "cell_type": "code",
   "execution_count": 142,
   "metadata": {},
   "outputs": [
    {
     "data": {
      "text/html": [
       "<div>\n",
       "<style>\n",
       "    .dataframe thead tr:only-child th {\n",
       "        text-align: right;\n",
       "    }\n",
       "\n",
       "    .dataframe thead th {\n",
       "        text-align: left;\n",
       "    }\n",
       "\n",
       "    .dataframe tbody tr th {\n",
       "        vertical-align: top;\n",
       "    }\n",
       "</style>\n",
       "<table border=\"1\" class=\"dataframe\">\n",
       "  <thead>\n",
       "    <tr style=\"text-align: right;\">\n",
       "      <th>Predicted</th>\n",
       "      <th>0</th>\n",
       "      <th>1</th>\n",
       "    </tr>\n",
       "    <tr>\n",
       "      <th>Actual</th>\n",
       "      <th></th>\n",
       "      <th></th>\n",
       "    </tr>\n",
       "  </thead>\n",
       "  <tbody>\n",
       "    <tr>\n",
       "      <th>0</th>\n",
       "      <td>171</td>\n",
       "      <td>17</td>\n",
       "    </tr>\n",
       "    <tr>\n",
       "      <th>1</th>\n",
       "      <td>53</td>\n",
       "      <td>49</td>\n",
       "    </tr>\n",
       "  </tbody>\n",
       "</table>\n",
       "</div>"
      ],
      "text/plain": [
       "Predicted    0   1\n",
       "Actual            \n",
       "0          171  17\n",
       "1           53  49"
      ]
     },
     "execution_count": 142,
     "metadata": {},
     "output_type": "execute_result"
    }
   ],
   "source": [
    "clf13_best_random = clf13_random.best_estimator_\n",
    "predictions13 = clf13_best_random.predict(X_test)\n",
    "cm = pd.crosstab(y_test, predictions13, rownames=['Actual'], colnames=['Predicted'])\n",
    "cm"
   ]
  },
  {
   "cell_type": "code",
   "execution_count": 143,
   "metadata": {
    "scrolled": true
   },
   "outputs": [
    {
     "name": "stdout",
     "output_type": "stream",
     "text": [
      "Accuracy: 0.76\n",
      "FNR: 0.52\n",
      "Recall: 0.48\n",
      "Precision: 0.74\n",
      "F1: 0.58\n"
     ]
    }
   ],
   "source": [
    "TP = cm[1][1]\n",
    "FP = cm[1][0]\n",
    "FN = cm[0][1]\n",
    "TN = cm[0][0]\n",
    "print('Accuracy:',round((TP+TN)/(TP+FP+FN+TN),2))\n",
    "print('FNR:',round(FN / (TP+FN),2))\n",
    "print('Recall:',round(TP/(TP+FN),2))\n",
    "print('Precision:',round(TP/(TP+FP),2))\n",
    "print('F1:',round(2*TP/(2*TP+FP+FN),2))"
   ]
  },
  {
   "cell_type": "markdown",
   "metadata": {},
   "source": [
    "Slight improvement over the gradientboost model 13. "
   ]
  },
  {
   "cell_type": "markdown",
   "metadata": {},
   "source": [
    "# XGBoost Model14"
   ]
  },
  {
   "cell_type": "code",
   "execution_count": 127,
   "metadata": {},
   "outputs": [
    {
     "data": {
      "text/plain": [
       "XGBClassifier(base_score=0.5, booster='gbtree', colsample_bylevel=1,\n",
       "       colsample_bytree=1, gamma=0, learning_rate=0.1, max_delta_step=0,\n",
       "       max_depth=3, min_child_weight=1, missing=None, n_estimators=100,\n",
       "       n_jobs=1, nthread=None, objective='binary:logistic', random_state=0,\n",
       "       reg_alpha=0, reg_lambda=1, scale_pos_weight=1, seed=0, silent=True,\n",
       "       subsample=1)"
      ]
     },
     "execution_count": 127,
     "metadata": {},
     "output_type": "execute_result"
    }
   ],
   "source": [
    "import xgboost as xgb\n",
    "from xgboost.sklearn import XGBClassifier\n",
    "\n",
    "clf14 = XGBClassifier(seed=0)\n",
    "clf14.fit(X_train, y_train)"
   ]
  },
  {
   "cell_type": "code",
   "execution_count": 129,
   "metadata": {},
   "outputs": [
    {
     "data": {
      "text/html": [
       "<div>\n",
       "<style>\n",
       "    .dataframe thead tr:only-child th {\n",
       "        text-align: right;\n",
       "    }\n",
       "\n",
       "    .dataframe thead th {\n",
       "        text-align: left;\n",
       "    }\n",
       "\n",
       "    .dataframe tbody tr th {\n",
       "        vertical-align: top;\n",
       "    }\n",
       "</style>\n",
       "<table border=\"1\" class=\"dataframe\">\n",
       "  <thead>\n",
       "    <tr style=\"text-align: right;\">\n",
       "      <th>Predicted</th>\n",
       "      <th>0</th>\n",
       "      <th>1</th>\n",
       "    </tr>\n",
       "    <tr>\n",
       "      <th>Actual</th>\n",
       "      <th></th>\n",
       "      <th></th>\n",
       "    </tr>\n",
       "  </thead>\n",
       "  <tbody>\n",
       "    <tr>\n",
       "      <th>0</th>\n",
       "      <td>172</td>\n",
       "      <td>16</td>\n",
       "    </tr>\n",
       "    <tr>\n",
       "      <th>1</th>\n",
       "      <td>42</td>\n",
       "      <td>60</td>\n",
       "    </tr>\n",
       "  </tbody>\n",
       "</table>\n",
       "</div>"
      ],
      "text/plain": [
       "Predicted    0   1\n",
       "Actual            \n",
       "0          172  16\n",
       "1           42  60"
      ]
     },
     "execution_count": 129,
     "metadata": {},
     "output_type": "execute_result"
    }
   ],
   "source": [
    "predictions14 = clf14.predict(X_test)\n",
    "cm = pd.crosstab(y_test, predictions14, rownames=['Actual'], colnames=['Predicted'])\n",
    "cm"
   ]
  },
  {
   "cell_type": "code",
   "execution_count": 130,
   "metadata": {},
   "outputs": [
    {
     "name": "stdout",
     "output_type": "stream",
     "text": [
      "Accuracy: 0.8\n",
      "FNR: 0.41\n",
      "Recall: 0.59\n",
      "Precision: 0.79\n",
      "F1: 0.67\n"
     ]
    }
   ],
   "source": [
    "TP = cm[1][1]\n",
    "FP = cm[1][0]\n",
    "FN = cm[0][1]\n",
    "TN = cm[0][0]\n",
    "print('Accuracy:',round((TP+TN)/(TP+FP+FN+TN),2))\n",
    "print('FNR:',round(FN / (TP+FN),2))\n",
    "print('Recall:',round(TP/(TP+FN),2))\n",
    "print('Precision:',round(TP/(TP+FP),2))\n",
    "print('F1:',round(2*TP/(2*TP+FP+FN),2))"
   ]
  },
  {
   "cell_type": "code",
   "execution_count": 131,
   "metadata": {},
   "outputs": [
    {
     "name": "stdout",
     "output_type": "stream",
     "text": [
      "Parameters currently in use:\n",
      "\n",
      "{'base_score': 0.5,\n",
      " 'booster': 'gbtree',\n",
      " 'colsample_bylevel': 1,\n",
      " 'colsample_bytree': 1,\n",
      " 'gamma': 0,\n",
      " 'learning_rate': 0.1,\n",
      " 'max_delta_step': 0,\n",
      " 'max_depth': 3,\n",
      " 'min_child_weight': 1,\n",
      " 'missing': None,\n",
      " 'n_estimators': 100,\n",
      " 'n_jobs': 1,\n",
      " 'nthread': None,\n",
      " 'objective': 'binary:logistic',\n",
      " 'random_state': 0,\n",
      " 'reg_alpha': 0,\n",
      " 'reg_lambda': 1,\n",
      " 'scale_pos_weight': 1,\n",
      " 'seed': 0,\n",
      " 'silent': True,\n",
      " 'subsample': 1}\n"
     ]
    }
   ],
   "source": [
    "print('Parameters currently in use:\\n')\n",
    "pprint(clf14.get_params())"
   ]
  },
  {
   "cell_type": "code",
   "execution_count": 140,
   "metadata": {},
   "outputs": [],
   "source": [
    "random_grid = {\n",
    "    'max_depth': [int(x) for x in np.linspace(10, 110, num = 11)],\n",
    "    'n_estimators': [int(x) for x in np.linspace(start = 100, stop = 2000, num = 10)],\n",
    "    'learning_rate': [0.01, 0.05, 0.1, 0.3, 1],\n",
    "    'booster': ['gbtree','gblinear','dart'],\n",
    "    'gamma':[0,2,4],\n",
    "    'max_delta_step':[0,1,2],\n",
    "    'min_child_weight':[1,2,3]\n",
    "}"
   ]
  },
  {
   "cell_type": "code",
   "execution_count": 141,
   "metadata": {},
   "outputs": [
    {
     "name": "stdout",
     "output_type": "stream",
     "text": [
      "Fitting 5 folds for each of 10 candidates, totalling 50 fits\n",
      "[CV] n_estimators=1155, min_child_weight=2, max_depth=100, max_delta_step=2, learning_rate=0.01, gamma=0, booster=gblinear \n",
      "[CV] n_estimators=1155, min_child_weight=2, max_depth=100, max_delta_step=2, learning_rate=0.01, gamma=0, booster=gblinear \n",
      "[CV] n_estimators=1155, min_child_weight=2, max_depth=100, max_delta_step=2, learning_rate=0.01, gamma=0, booster=gblinear \n",
      "[CV] n_estimators=1155, min_child_weight=2, max_depth=100, max_delta_step=2, learning_rate=0.01, gamma=0, booster=gblinear \n",
      "[CV] n_estimators=1155, min_child_weight=2, max_depth=100, max_delta_step=2, learning_rate=0.01, gamma=0, booster=gblinear \n",
      "[CV] n_estimators=100, min_child_weight=3, max_depth=70, max_delta_step=2, learning_rate=0.01, gamma=0, booster=gbtree \n",
      "[CV] n_estimators=100, min_child_weight=3, max_depth=70, max_delta_step=2, learning_rate=0.01, gamma=0, booster=gbtree \n",
      "[CV] n_estimators=100, min_child_weight=3, max_depth=70, max_delta_step=2, learning_rate=0.01, gamma=0, booster=gbtree \n",
      "[CV]  n_estimators=1155, min_child_weight=2, max_depth=100, max_delta_step=2, learning_rate=0.01, gamma=0, booster=gblinear, total=   1.0s\n",
      "[CV] n_estimators=100, min_child_weight=3, max_depth=70, max_delta_step=2, learning_rate=0.01, gamma=0, booster=gbtree \n",
      "[CV]  n_estimators=1155, min_child_weight=2, max_depth=100, max_delta_step=2, learning_rate=0.01, gamma=0, booster=gblinear, total=   1.1s\n",
      "[CV]  n_estimators=1155, min_child_weight=2, max_depth=100, max_delta_step=2, learning_rate=0.01, gamma=0, booster=gblinear, total=   1.0s\n",
      "[CV] n_estimators=100, min_child_weight=3, max_depth=70, max_delta_step=2, learning_rate=0.01, gamma=0, booster=gbtree \n",
      "[CV] n_estimators=1788, min_child_weight=3, max_depth=70, max_delta_step=1, learning_rate=0.3, gamma=2, booster=dart \n",
      "[CV]  n_estimators=1155, min_child_weight=2, max_depth=100, max_delta_step=2, learning_rate=0.01, gamma=0, booster=gblinear, total=   1.1s\n",
      "[CV]  n_estimators=1155, min_child_weight=2, max_depth=100, max_delta_step=2, learning_rate=0.01, gamma=0, booster=gblinear, total=   1.0s\n",
      "[CV] n_estimators=1788, min_child_weight=3, max_depth=70, max_delta_step=1, learning_rate=0.3, gamma=2, booster=dart \n",
      "[CV] n_estimators=1788, min_child_weight=3, max_depth=70, max_delta_step=1, learning_rate=0.3, gamma=2, booster=dart \n",
      "[CV]  n_estimators=100, min_child_weight=3, max_depth=70, max_delta_step=2, learning_rate=0.01, gamma=0, booster=gbtree, total=   2.2s\n",
      "[CV] n_estimators=1788, min_child_weight=3, max_depth=70, max_delta_step=1, learning_rate=0.3, gamma=2, booster=dart \n",
      "[CV]  n_estimators=100, min_child_weight=3, max_depth=70, max_delta_step=2, learning_rate=0.01, gamma=0, booster=gbtree, total=   2.3s\n",
      "[CV] n_estimators=1788, min_child_weight=3, max_depth=70, max_delta_step=1, learning_rate=0.3, gamma=2, booster=dart \n",
      "[CV]  n_estimators=100, min_child_weight=3, max_depth=70, max_delta_step=2, learning_rate=0.01, gamma=0, booster=gbtree, total=   2.4s\n",
      "[CV] n_estimators=944, min_child_weight=1, max_depth=30, max_delta_step=1, learning_rate=0.05, gamma=4, booster=gbtree \n",
      "[CV]  n_estimators=100, min_child_weight=3, max_depth=70, max_delta_step=2, learning_rate=0.01, gamma=0, booster=gbtree, total=   2.3s\n",
      "[CV] n_estimators=944, min_child_weight=1, max_depth=30, max_delta_step=1, learning_rate=0.05, gamma=4, booster=gbtree \n",
      "[CV]  n_estimators=100, min_child_weight=3, max_depth=70, max_delta_step=2, learning_rate=0.01, gamma=0, booster=gbtree, total=   2.4s\n",
      "[CV] n_estimators=944, min_child_weight=1, max_depth=30, max_delta_step=1, learning_rate=0.05, gamma=4, booster=gbtree \n",
      "[CV]  n_estimators=944, min_child_weight=1, max_depth=30, max_delta_step=1, learning_rate=0.05, gamma=4, booster=gbtree, total=  24.9s\n",
      "[CV] n_estimators=944, min_child_weight=1, max_depth=30, max_delta_step=1, learning_rate=0.05, gamma=4, booster=gbtree \n",
      "[CV]  n_estimators=944, min_child_weight=1, max_depth=30, max_delta_step=1, learning_rate=0.05, gamma=4, booster=gbtree, total=  24.9s\n",
      "[CV] n_estimators=944, min_child_weight=1, max_depth=30, max_delta_step=1, learning_rate=0.05, gamma=4, booster=gbtree \n",
      "[CV]  n_estimators=944, min_child_weight=1, max_depth=30, max_delta_step=1, learning_rate=0.05, gamma=4, booster=gbtree, total=  32.6s\n",
      "[CV] n_estimators=1155, min_child_weight=3, max_depth=110, max_delta_step=0, learning_rate=0.05, gamma=2, booster=gbtree \n",
      "[CV]  n_estimators=944, min_child_weight=1, max_depth=30, max_delta_step=1, learning_rate=0.05, gamma=4, booster=gbtree, total=  25.3s\n",
      "[CV] n_estimators=1155, min_child_weight=3, max_depth=110, max_delta_step=0, learning_rate=0.05, gamma=2, booster=gbtree \n",
      "[CV]  n_estimators=944, min_child_weight=1, max_depth=30, max_delta_step=1, learning_rate=0.05, gamma=4, booster=gbtree, total=  25.7s\n",
      "[CV] n_estimators=1155, min_child_weight=3, max_depth=110, max_delta_step=0, learning_rate=0.05, gamma=2, booster=gbtree \n",
      "[CV]  n_estimators=1155, min_child_weight=3, max_depth=110, max_delta_step=0, learning_rate=0.05, gamma=2, booster=gbtree, total=  24.7s\n",
      "[CV] n_estimators=1155, min_child_weight=3, max_depth=110, max_delta_step=0, learning_rate=0.05, gamma=2, booster=gbtree \n",
      "[CV]  n_estimators=1155, min_child_weight=3, max_depth=110, max_delta_step=0, learning_rate=0.05, gamma=2, booster=gbtree, total=  19.0s\n",
      "[CV] n_estimators=1155, min_child_weight=3, max_depth=110, max_delta_step=0, learning_rate=0.05, gamma=2, booster=gbtree \n",
      "[CV]  n_estimators=1788, min_child_weight=3, max_depth=70, max_delta_step=1, learning_rate=0.3, gamma=2, booster=dart, total= 1.2min\n",
      "[CV] n_estimators=100, min_child_weight=3, max_depth=10, max_delta_step=0, learning_rate=0.1, gamma=0, booster=gblinear \n",
      "[CV]  n_estimators=100, min_child_weight=3, max_depth=10, max_delta_step=0, learning_rate=0.1, gamma=0, booster=gblinear, total=   0.1s\n",
      "[CV] n_estimators=100, min_child_weight=3, max_depth=10, max_delta_step=0, learning_rate=0.1, gamma=0, booster=gblinear \n",
      "[CV]  n_estimators=100, min_child_weight=3, max_depth=10, max_delta_step=0, learning_rate=0.1, gamma=0, booster=gblinear, total=   0.1s\n",
      "[CV] n_estimators=100, min_child_weight=3, max_depth=10, max_delta_step=0, learning_rate=0.1, gamma=0, booster=gblinear \n",
      "[CV]  n_estimators=100, min_child_weight=3, max_depth=10, max_delta_step=0, learning_rate=0.1, gamma=0, booster=gblinear, total=   0.1s\n",
      "[CV] n_estimators=100, min_child_weight=3, max_depth=10, max_delta_step=0, learning_rate=0.1, gamma=0, booster=gblinear \n",
      "[CV]  n_estimators=100, min_child_weight=3, max_depth=10, max_delta_step=0, learning_rate=0.1, gamma=0, booster=gblinear, total=   0.1s\n",
      "[CV] n_estimators=100, min_child_weight=3, max_depth=10, max_delta_step=0, learning_rate=0.1, gamma=0, booster=gblinear \n",
      "[CV]  n_estimators=100, min_child_weight=3, max_depth=10, max_delta_step=0, learning_rate=0.1, gamma=0, booster=gblinear, total=   0.1s\n",
      "[CV] n_estimators=944, min_child_weight=3, max_depth=80, max_delta_step=1, learning_rate=0.1, gamma=2, booster=dart \n",
      "[CV]  n_estimators=1155, min_child_weight=3, max_depth=110, max_delta_step=0, learning_rate=0.05, gamma=2, booster=gbtree, total=  22.8s\n",
      "[CV] n_estimators=944, min_child_weight=3, max_depth=80, max_delta_step=1, learning_rate=0.1, gamma=2, booster=dart \n",
      "[CV]  n_estimators=1788, min_child_weight=3, max_depth=70, max_delta_step=1, learning_rate=0.3, gamma=2, booster=dart, total= 1.3min\n",
      "[CV] n_estimators=944, min_child_weight=3, max_depth=80, max_delta_step=1, learning_rate=0.1, gamma=2, booster=dart \n"
     ]
    },
    {
     "name": "stderr",
     "output_type": "stream",
     "text": [
      "[Parallel(n_jobs=-1)]: Done  25 tasks      | elapsed:  1.3min\n"
     ]
    },
    {
     "name": "stdout",
     "output_type": "stream",
     "text": [
      "[CV]  n_estimators=1155, min_child_weight=3, max_depth=110, max_delta_step=0, learning_rate=0.05, gamma=2, booster=gbtree, total=  19.7s\n",
      "[CV] n_estimators=944, min_child_weight=3, max_depth=80, max_delta_step=1, learning_rate=0.1, gamma=2, booster=dart \n",
      "[CV]  n_estimators=1788, min_child_weight=3, max_depth=70, max_delta_step=1, learning_rate=0.3, gamma=2, booster=dart, total= 1.3min\n",
      "[CV] n_estimators=944, min_child_weight=3, max_depth=80, max_delta_step=1, learning_rate=0.1, gamma=2, booster=dart \n",
      "[CV]  n_estimators=1788, min_child_weight=3, max_depth=70, max_delta_step=1, learning_rate=0.3, gamma=2, booster=dart, total= 1.4min\n",
      "[CV] n_estimators=522, min_child_weight=1, max_depth=70, max_delta_step=0, learning_rate=0.1, gamma=2, booster=gblinear \n",
      "[CV]  n_estimators=1788, min_child_weight=3, max_depth=70, max_delta_step=1, learning_rate=0.3, gamma=2, booster=dart, total= 1.4min\n",
      "[CV] n_estimators=522, min_child_weight=1, max_depth=70, max_delta_step=0, learning_rate=0.1, gamma=2, booster=gblinear \n",
      "[CV]  n_estimators=522, min_child_weight=1, max_depth=70, max_delta_step=0, learning_rate=0.1, gamma=2, booster=gblinear, total=   0.5s\n",
      "[CV] n_estimators=522, min_child_weight=1, max_depth=70, max_delta_step=0, learning_rate=0.1, gamma=2, booster=gblinear \n",
      "[CV]  n_estimators=522, min_child_weight=1, max_depth=70, max_delta_step=0, learning_rate=0.1, gamma=2, booster=gblinear, total=   0.6s\n",
      "[CV] n_estimators=522, min_child_weight=1, max_depth=70, max_delta_step=0, learning_rate=0.1, gamma=2, booster=gblinear \n",
      "[CV]  n_estimators=522, min_child_weight=1, max_depth=70, max_delta_step=0, learning_rate=0.1, gamma=2, booster=gblinear, total=   0.6s\n",
      "[CV] n_estimators=522, min_child_weight=1, max_depth=70, max_delta_step=0, learning_rate=0.1, gamma=2, booster=gblinear \n",
      "[CV]  n_estimators=522, min_child_weight=1, max_depth=70, max_delta_step=0, learning_rate=0.1, gamma=2, booster=gblinear, total=   0.5s\n",
      "[CV] n_estimators=311, min_child_weight=1, max_depth=90, max_delta_step=1, learning_rate=1, gamma=4, booster=dart \n",
      "[CV]  n_estimators=522, min_child_weight=1, max_depth=70, max_delta_step=0, learning_rate=0.1, gamma=2, booster=gblinear, total=   0.5s\n",
      "[CV] n_estimators=311, min_child_weight=1, max_depth=90, max_delta_step=1, learning_rate=1, gamma=4, booster=dart \n",
      "[CV]  n_estimators=311, min_child_weight=1, max_depth=90, max_delta_step=1, learning_rate=1, gamma=4, booster=dart, total=   9.1s\n",
      "[CV] n_estimators=311, min_child_weight=1, max_depth=90, max_delta_step=1, learning_rate=1, gamma=4, booster=dart \n",
      "[CV]  n_estimators=311, min_child_weight=1, max_depth=90, max_delta_step=1, learning_rate=1, gamma=4, booster=dart, total=   9.8s\n",
      "[CV] n_estimators=311, min_child_weight=1, max_depth=90, max_delta_step=1, learning_rate=1, gamma=4, booster=dart \n",
      "[CV]  n_estimators=1155, min_child_weight=3, max_depth=110, max_delta_step=0, learning_rate=0.05, gamma=2, booster=gbtree, total=  25.2s\n",
      "[CV] n_estimators=311, min_child_weight=1, max_depth=90, max_delta_step=1, learning_rate=1, gamma=4, booster=dart \n",
      "[CV]  n_estimators=311, min_child_weight=1, max_depth=90, max_delta_step=1, learning_rate=1, gamma=4, booster=dart, total=   9.5s\n",
      "[CV] n_estimators=733, min_child_weight=1, max_depth=70, max_delta_step=0, learning_rate=0.05, gamma=0, booster=gblinear \n",
      "[CV]  n_estimators=733, min_child_weight=1, max_depth=70, max_delta_step=0, learning_rate=0.05, gamma=0, booster=gblinear, total=   0.8s\n",
      "[CV] n_estimators=733, min_child_weight=1, max_depth=70, max_delta_step=0, learning_rate=0.05, gamma=0, booster=gblinear \n",
      "[CV]  n_estimators=733, min_child_weight=1, max_depth=70, max_delta_step=0, learning_rate=0.05, gamma=0, booster=gblinear, total=   0.8s\n",
      "[CV] n_estimators=733, min_child_weight=1, max_depth=70, max_delta_step=0, learning_rate=0.05, gamma=0, booster=gblinear \n",
      "[CV]  n_estimators=311, min_child_weight=1, max_depth=90, max_delta_step=1, learning_rate=1, gamma=4, booster=dart, total=  10.5s\n",
      "[CV] n_estimators=733, min_child_weight=1, max_depth=70, max_delta_step=0, learning_rate=0.05, gamma=0, booster=gblinear \n",
      "[CV]  n_estimators=733, min_child_weight=1, max_depth=70, max_delta_step=0, learning_rate=0.05, gamma=0, booster=gblinear, total=   0.8s\n",
      "[CV] n_estimators=733, min_child_weight=1, max_depth=70, max_delta_step=0, learning_rate=0.05, gamma=0, booster=gblinear \n",
      "[CV]  n_estimators=733, min_child_weight=1, max_depth=70, max_delta_step=0, learning_rate=0.05, gamma=0, booster=gblinear, total=   0.8s\n",
      "[CV]  n_estimators=733, min_child_weight=1, max_depth=70, max_delta_step=0, learning_rate=0.05, gamma=0, booster=gblinear, total=   0.7s\n",
      "[CV]  n_estimators=311, min_child_weight=1, max_depth=90, max_delta_step=1, learning_rate=1, gamma=4, booster=dart, total=  10.7s\n",
      "[CV]  n_estimators=944, min_child_weight=3, max_depth=80, max_delta_step=1, learning_rate=0.1, gamma=2, booster=dart, total=  35.3s\n",
      "[CV]  n_estimators=944, min_child_weight=3, max_depth=80, max_delta_step=1, learning_rate=0.1, gamma=2, booster=dart, total=  36.5s\n",
      "[CV]  n_estimators=944, min_child_weight=3, max_depth=80, max_delta_step=1, learning_rate=0.1, gamma=2, booster=dart, total=  32.4s\n",
      "[CV]  n_estimators=944, min_child_weight=3, max_depth=80, max_delta_step=1, learning_rate=0.1, gamma=2, booster=dart, total=  34.5s\n",
      "[CV]  n_estimators=944, min_child_weight=3, max_depth=80, max_delta_step=1, learning_rate=0.1, gamma=2, booster=dart, total=  32.8s\n"
     ]
    },
    {
     "name": "stderr",
     "output_type": "stream",
     "text": [
      "[Parallel(n_jobs=-1)]: Done  50 out of  50 | elapsed:  1.9min finished\n"
     ]
    },
    {
     "data": {
      "text/plain": [
       "RandomizedSearchCV(cv=5, error_score='raise',\n",
       "          estimator=XGBClassifier(base_score=0.5, booster='gbtree', colsample_bylevel=1,\n",
       "       colsample_bytree=1, gamma=0, learning_rate=0.1, max_delta_step=0,\n",
       "       max_depth=3, min_child_weight=1, missing=None, n_estimators=100,\n",
       "       n_jobs=1, nthread=None, objective='binary:logistic', random_state=0,\n",
       "       reg_alpha=0, reg_lambda=1, scale_pos_weight=1, seed=0, silent=True,\n",
       "       subsample=1),\n",
       "          fit_params=None, iid=True, n_iter=10, n_jobs=-1,\n",
       "          param_distributions={'max_depth': [10, 20, 30, 40, 50, 60, 70, 80, 90, 100, 110], 'n_estimators': [100, 311, 522, 733, 944, 1155, 1366, 1577, 1788, 2000], 'learning_rate': [0.01, 0.05, 0.1, 0.3, 1], 'booster': ['gbtree', 'gblinear', 'dart'], 'gamma': [0, 2, 4], 'max_delta_step': [0, 1, 2], 'min_child_weight': [1, 2, 3]},\n",
       "          pre_dispatch='2*n_jobs', random_state=42, refit=True,\n",
       "          return_train_score='warn', scoring=None, verbose=2)"
      ]
     },
     "execution_count": 141,
     "metadata": {},
     "output_type": "execute_result"
    }
   ],
   "source": [
    "clf14_random = RandomizedSearchCV(estimator = clf14, param_distributions = random_grid, n_iter = 10, cv = 5, verbose=2, random_state=42, n_jobs = -1)\n",
    "clf14_random.fit(X_train, y_train)"
   ]
  },
  {
   "cell_type": "code",
   "execution_count": 144,
   "metadata": {},
   "outputs": [
    {
     "data": {
      "text/plain": [
       "{'booster': 'dart',\n",
       " 'gamma': 2,\n",
       " 'learning_rate': 0.3,\n",
       " 'max_delta_step': 1,\n",
       " 'max_depth': 70,\n",
       " 'min_child_weight': 3,\n",
       " 'n_estimators': 1788}"
      ]
     },
     "execution_count": 144,
     "metadata": {},
     "output_type": "execute_result"
    }
   ],
   "source": [
    "clf14_random.best_params_"
   ]
  },
  {
   "cell_type": "code",
   "execution_count": 145,
   "metadata": {
    "scrolled": true
   },
   "outputs": [
    {
     "data": {
      "text/html": [
       "<div>\n",
       "<style>\n",
       "    .dataframe thead tr:only-child th {\n",
       "        text-align: right;\n",
       "    }\n",
       "\n",
       "    .dataframe thead th {\n",
       "        text-align: left;\n",
       "    }\n",
       "\n",
       "    .dataframe tbody tr th {\n",
       "        vertical-align: top;\n",
       "    }\n",
       "</style>\n",
       "<table border=\"1\" class=\"dataframe\">\n",
       "  <thead>\n",
       "    <tr style=\"text-align: right;\">\n",
       "      <th>Predicted</th>\n",
       "      <th>0</th>\n",
       "      <th>1</th>\n",
       "    </tr>\n",
       "    <tr>\n",
       "      <th>Actual</th>\n",
       "      <th></th>\n",
       "      <th></th>\n",
       "    </tr>\n",
       "  </thead>\n",
       "  <tbody>\n",
       "    <tr>\n",
       "      <th>0</th>\n",
       "      <td>170</td>\n",
       "      <td>18</td>\n",
       "    </tr>\n",
       "    <tr>\n",
       "      <th>1</th>\n",
       "      <td>49</td>\n",
       "      <td>53</td>\n",
       "    </tr>\n",
       "  </tbody>\n",
       "</table>\n",
       "</div>"
      ],
      "text/plain": [
       "Predicted    0   1\n",
       "Actual            \n",
       "0          170  18\n",
       "1           49  53"
      ]
     },
     "execution_count": 145,
     "metadata": {},
     "output_type": "execute_result"
    }
   ],
   "source": [
    "clf14_best_random = clf14_random.best_estimator_\n",
    "predictions14 = clf14_best_random.predict(X_test)\n",
    "cm = pd.crosstab(y_test, predictions14, rownames=['Actual'], colnames=['Predicted'])\n",
    "cm"
   ]
  },
  {
   "cell_type": "code",
   "execution_count": 146,
   "metadata": {},
   "outputs": [
    {
     "name": "stdout",
     "output_type": "stream",
     "text": [
      "Accuracy: 0.77\n",
      "FNR: 0.48\n",
      "Recall: 0.52\n",
      "Precision: 0.75\n",
      "F1: 0.61\n"
     ]
    }
   ],
   "source": [
    "TP = cm[1][1]\n",
    "FP = cm[1][0]\n",
    "FN = cm[0][1]\n",
    "TN = cm[0][0]\n",
    "print('Accuracy:',round((TP+TN)/(TP+FP+FN+TN),2))\n",
    "print('FNR:',round(FN / (TP+FN),2))\n",
    "print('Recall:',round(TP/(TP+FN),2))\n",
    "print('Precision:',round(TP/(TP+FP),2))\n",
    "print('F1:',round(2*TP/(2*TP+FP+FN),2))"
   ]
  },
  {
   "cell_type": "markdown",
   "metadata": {
    "collapsed": true
   },
   "source": [
    "# XGBoost Model15\n",
    "resampling w/ SMOTE"
   ]
  },
  {
   "cell_type": "code",
   "execution_count": 248,
   "metadata": {},
   "outputs": [
    {
     "data": {
      "text/plain": [
       "XGBClassifier(base_score=0.5, booster='gbtree', colsample_bylevel=1,\n",
       "       colsample_bytree=1, gamma=0, learning_rate=0.1, max_delta_step=0,\n",
       "       max_depth=3, min_child_weight=1, missing=None, n_estimators=100,\n",
       "       n_jobs=1, nthread=None, objective='binary:logistic', random_state=0,\n",
       "       reg_alpha=0, reg_lambda=1, scale_pos_weight=1, seed=0, silent=True,\n",
       "       subsample=1)"
      ]
     },
     "execution_count": 248,
     "metadata": {},
     "output_type": "execute_result"
    }
   ],
   "source": [
    "sm = SMOTE(random_state=12, ratio = 'minority')\n",
    "X_train_res, y_train_res = sm.fit_sample(X_train, y_train)\n",
    "X_train_res = pd.DataFrame(X_train_res)\n",
    "X_train_res.columns = X_train.columns\n",
    "clf15 = XGBClassifier(seed=0)\n",
    "clf15.fit(X_train_res, y_train_res)"
   ]
  },
  {
   "cell_type": "code",
   "execution_count": 249,
   "metadata": {},
   "outputs": [
    {
     "data": {
      "text/html": [
       "<div>\n",
       "<style>\n",
       "    .dataframe thead tr:only-child th {\n",
       "        text-align: right;\n",
       "    }\n",
       "\n",
       "    .dataframe thead th {\n",
       "        text-align: left;\n",
       "    }\n",
       "\n",
       "    .dataframe tbody tr th {\n",
       "        vertical-align: top;\n",
       "    }\n",
       "</style>\n",
       "<table border=\"1\" class=\"dataframe\">\n",
       "  <thead>\n",
       "    <tr style=\"text-align: right;\">\n",
       "      <th>Predicted</th>\n",
       "      <th>0</th>\n",
       "      <th>1</th>\n",
       "    </tr>\n",
       "    <tr>\n",
       "      <th>Actual</th>\n",
       "      <th></th>\n",
       "      <th></th>\n",
       "    </tr>\n",
       "  </thead>\n",
       "  <tbody>\n",
       "    <tr>\n",
       "      <th>0</th>\n",
       "      <td>165</td>\n",
       "      <td>23</td>\n",
       "    </tr>\n",
       "    <tr>\n",
       "      <th>1</th>\n",
       "      <td>39</td>\n",
       "      <td>63</td>\n",
       "    </tr>\n",
       "  </tbody>\n",
       "</table>\n",
       "</div>"
      ],
      "text/plain": [
       "Predicted    0   1\n",
       "Actual            \n",
       "0          165  23\n",
       "1           39  63"
      ]
     },
     "execution_count": 249,
     "metadata": {},
     "output_type": "execute_result"
    }
   ],
   "source": [
    "predictions15 = clf15.predict(X_test)\n",
    "cm = pd.crosstab(y_test, predictions15, rownames=['Actual'], colnames=['Predicted'])\n",
    "cm"
   ]
  },
  {
   "cell_type": "code",
   "execution_count": 250,
   "metadata": {},
   "outputs": [
    {
     "name": "stdout",
     "output_type": "stream",
     "text": [
      "Accuracy: 0.79\n",
      "FNR: 0.38\n",
      "Recall: 0.62\n",
      "Precision: 0.73\n",
      "F1: 0.67\n"
     ]
    }
   ],
   "source": [
    "TP = cm[1][1]\n",
    "FP = cm[1][0]\n",
    "FN = cm[0][1]\n",
    "TN = cm[0][0]\n",
    "print('Accuracy:',round((TP+TN)/(TP+FP+FN+TN),2))\n",
    "print('FNR:',round(FN / (TP+FN),2))\n",
    "print('Recall:',round(TP/(TP+FN),2))\n",
    "print('Precision:',round(TP/(TP+FP),2))\n",
    "print('F1:',round(2*TP/(2*TP+FP+FN),2))"
   ]
  },
  {
   "cell_type": "code",
   "execution_count": null,
   "metadata": {
    "collapsed": true
   },
   "outputs": [],
   "source": []
  },
  {
   "cell_type": "code",
   "execution_count": null,
   "metadata": {
    "collapsed": true
   },
   "outputs": [],
   "source": []
  },
  {
   "cell_type": "code",
   "execution_count": null,
   "metadata": {
    "collapsed": true
   },
   "outputs": [],
   "source": []
  }
 ],
 "metadata": {
  "kernelspec": {
   "display_name": "Python 3",
   "language": "python",
   "name": "python3"
  },
  "language_info": {
   "codemirror_mode": {
    "name": "ipython",
    "version": 3
   },
   "file_extension": ".py",
   "mimetype": "text/x-python",
   "name": "python",
   "nbconvert_exporter": "python",
   "pygments_lexer": "ipython3",
   "version": "3.6.3"
  }
 },
 "nbformat": 4,
 "nbformat_minor": 2
}
